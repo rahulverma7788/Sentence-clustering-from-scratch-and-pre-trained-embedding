{
 "cells": [
  {
   "cell_type": "code",
   "execution_count": 1,
   "metadata": {},
   "outputs": [],
   "source": [
    "#Importing the library and loading the file"
   ]
  },
  {
   "cell_type": "code",
   "execution_count": 2,
   "metadata": {
    "executionInfo": {
     "elapsed": 15,
     "status": "ok",
     "timestamp": 1664276344557,
     "user": {
      "displayName": "rahul verma",
      "userId": "11164858995118122289"
     },
     "user_tz": -330
    },
    "id": "hgElXRjdmFGc"
   },
   "outputs": [],
   "source": [
    "from tensorflow import keras\n",
    "import pandas as pd\n",
    "import numpy as np\n",
    "from bpemb import BPEmb\n",
    "import tensorflow as tf\n",
    "import pickle"
   ]
  },
  {
   "cell_type": "code",
   "execution_count": 3,
   "metadata": {},
   "outputs": [
    {
     "data": {
      "text/plain": [
       "'/home/rahul/Oriserve'"
      ]
     },
     "execution_count": 3,
     "metadata": {},
     "output_type": "execute_result"
    }
   ],
   "source": [
    "pwd"
   ]
  },
  {
   "cell_type": "code",
   "execution_count": 4,
   "metadata": {
    "executionInfo": {
     "elapsed": 2316,
     "status": "ok",
     "timestamp": 1664272160876,
     "user": {
      "displayName": "rahul verma",
      "userId": "11164858995118122289"
     },
     "user_tz": -330
    },
    "id": "jmBwe-qu_T9P"
   },
   "outputs": [],
   "source": [
    "corpus = pd.read_csv(\"/home/rahul/Oriserve/preprocessed_data\")\n",
    "corpus.drop(corpus.filter(regex=\"Unnamed\"),axis=1, inplace=True)"
   ]
  },
  {
   "cell_type": "code",
   "execution_count": 5,
   "metadata": {
    "executionInfo": {
     "elapsed": 64,
     "status": "ok",
     "timestamp": 1664272160877,
     "user": {
      "displayName": "rahul verma",
      "userId": "11164858995118122289"
     },
     "user_tz": -330
    },
    "id": "bUtxQbE4_fEW"
   },
   "outputs": [],
   "source": [
    "corpus = corpus[:3000]"
   ]
  },
  {
   "cell_type": "code",
   "execution_count": 6,
   "metadata": {
    "executionInfo": {
     "elapsed": 62,
     "status": "ok",
     "timestamp": 1664272160878,
     "user": {
      "displayName": "rahul verma",
      "userId": "11164858995118122289"
     },
     "user_tz": -330
    },
    "id": "fkqLfcKagxtU"
   },
   "outputs": [],
   "source": [
    "corpus['Text'] = corpus['Text'].replace(np.nan, '')"
   ]
  },
  {
   "cell_type": "code",
   "execution_count": 7,
   "metadata": {
    "id": "LMdJrT71dkbJ"
   },
   "outputs": [
    {
     "data": {
      "text/html": [
       "<div>\n",
       "<style scoped>\n",
       "    .dataframe tbody tr th:only-of-type {\n",
       "        vertical-align: middle;\n",
       "    }\n",
       "\n",
       "    .dataframe tbody tr th {\n",
       "        vertical-align: top;\n",
       "    }\n",
       "\n",
       "    .dataframe thead th {\n",
       "        text-align: right;\n",
       "    }\n",
       "</style>\n",
       "<table border=\"1\" class=\"dataframe\">\n",
       "  <thead>\n",
       "    <tr style=\"text-align: right;\">\n",
       "      <th></th>\n",
       "      <th>Text</th>\n",
       "    </tr>\n",
       "  </thead>\n",
       "  <tbody>\n",
       "    <tr>\n",
       "      <th>0</th>\n",
       "      <td>moeller student run newspaper the crusader con...</td>\n",
       "    </tr>\n",
       "    <tr>\n",
       "      <th>1</th>\n",
       "      <td>in the crusader first place second highest hon...</td>\n",
       "    </tr>\n",
       "    <tr>\n",
       "      <th>2</th>\n",
       "      <td>the squire student literary journal features s...</td>\n",
       "    </tr>\n",
       "  </tbody>\n",
       "</table>\n",
       "</div>"
      ],
      "text/plain": [
       "                                                Text\n",
       "0  moeller student run newspaper the crusader con...\n",
       "1  in the crusader first place second highest hon...\n",
       "2  the squire student literary journal features s..."
      ]
     },
     "execution_count": 7,
     "metadata": {},
     "output_type": "execute_result"
    }
   ],
   "source": [
    "corpus.head(3)"
   ]
  },
  {
   "cell_type": "code",
   "execution_count": 8,
   "metadata": {},
   "outputs": [],
   "source": [
    "training_data = corpus[\"Text\"]\n",
    "training_data = list(training_data)"
   ]
  },
  {
   "cell_type": "code",
   "execution_count": 9,
   "metadata": {},
   "outputs": [],
   "source": [
    "#Bpemb pretrained word embeddings"
   ]
  },
  {
   "cell_type": "code",
   "execution_count": 10,
   "metadata": {},
   "outputs": [],
   "source": [
    "bpemb_en = BPEmb(lang=\"en\", vs=50000, dim=100)"
   ]
  },
  {
   "cell_type": "code",
   "execution_count": 11,
   "metadata": {},
   "outputs": [
    {
     "name": "stderr",
     "output_type": "stream",
     "text": [
      "/home/rahul/anaconda3/lib/python3.7/site-packages/ipykernel_launcher.py:1: VisibleDeprecationWarning: Creating an ndarray from ragged nested sequences (which is a list-or-tuple of lists-or-tuples-or ndarrays with different lengths or shapes) is deprecated. If you meant to do this, you must specify 'dtype=object' when creating the ndarray.\n",
      "  \"\"\"Entry point for launching an IPython kernel.\n"
     ]
    }
   ],
   "source": [
    "sentences = np.array([np.array(bpemb_en.embed(x)) for x in training_data])"
   ]
  },
  {
   "cell_type": "code",
   "execution_count": 12,
   "metadata": {},
   "outputs": [],
   "source": [
    "rnn = keras.layers.SimpleRNN(3, kernel_initializer=keras.initializers.ones, recurrent_initializer=keras.initializers.zeros, activation=\"tanh\")\n",
    "max_len = max(map(len, sentences))\n",
    "rnn.build(input_shape=(1,max_len,100))"
   ]
  },
  {
   "cell_type": "code",
   "execution_count": 13,
   "metadata": {},
   "outputs": [],
   "source": [
    "#Create an RNN, which creates a new vector of the embeddings, by summing them up their dimensions"
   ]
  },
  {
   "cell_type": "code",
   "execution_count": 14,
   "metadata": {},
   "outputs": [],
   "source": [
    "def calculate_distances(sentences):\n",
    "    values = {}\n",
    "    for i in range(len(sentences)):\n",
    "        rnn.set_weights([rnn.get_weights()[0], tf.constant(1/len(sentences[i]),shape=(3,3)), tf.constant(1/len(sentences[i]),shape=(3))])\n",
    "        values[training_data[i]] = rnn(np.array([sentences[i]]))\n",
    "    distances = [[np.absolute((l-i2)[0][0]) for i2 in values.values()] for l in values.values()]\n",
    "    return distances  "
   ]
  },
  {
   "cell_type": "code",
   "execution_count": 15,
   "metadata": {},
   "outputs": [],
   "source": [
    "d = calculate_distances(sentences)"
   ]
  },
  {
   "cell_type": "code",
   "execution_count": 16,
   "metadata": {},
   "outputs": [],
   "source": [
    "with open('distance.pickle', 'wb') as handle:\n",
    "    pickle.dump(d, handle, protocol=pickle.HIGHEST_PROTOCOL)"
   ]
  },
  {
   "cell_type": "code",
   "execution_count": 17,
   "metadata": {},
   "outputs": [],
   "source": [
    "d = np.array(d)"
   ]
  },
  {
   "cell_type": "code",
   "execution_count": 19,
   "metadata": {},
   "outputs": [],
   "source": [
    "#Clustering using the threshold value"
   ]
  },
  {
   "cell_type": "code",
   "execution_count": 20,
   "metadata": {},
   "outputs": [],
   "source": [
    "import torch\n",
    "from torch import Tensor, device"
   ]
  },
  {
   "cell_type": "code",
   "execution_count": 21,
   "metadata": {},
   "outputs": [],
   "source": [
    "def cos_sim(a: Tensor, b: Tensor):\n",
    "    if not isinstance(a, torch.Tensor):\n",
    "        a = torch.tensor(a)\n",
    "    if not isinstance(b, torch.Tensor):\n",
    "        b = torch.tensor(b)\n",
    "    if len(a.shape) == 1:\n",
    "        a = a.unsqueeze(0)\n",
    "    if len(b.shape) == 1:\n",
    "        b = b.unsqueeze(0)\n",
    "    a_norm = torch.nn.functional.normalize(a, p=2, dim=1)\n",
    "    b_norm = torch.nn.functional.normalize(b, p=2, dim=1)\n",
    "    return torch.mm(a_norm, b_norm.transpose(0, 1))"
   ]
  },
  {
   "cell_type": "code",
   "execution_count": 22,
   "metadata": {},
   "outputs": [],
   "source": [
    "def cluster_detection(embeddings, threshold, min_community_size, batch_size=32):\n",
    "    if not isinstance(embeddings, torch.Tensor):\n",
    "        embeddings = torch.tensor(embeddings)\n",
    "    threshold = torch.tensor(threshold, device=embeddings.device)\n",
    "    extracted_communities = []\n",
    "    min_community_size = min(min_community_size, len(embeddings))\n",
    "    sort_max_size = min(max(2 * min_community_size, 50), len(embeddings))\n",
    "    for start_idx in range(0, len(embeddings), batch_size):\n",
    "        cos_scores = cos_sim(embeddings[start_idx:start_idx + batch_size], embeddings)\n",
    "        top_k_values, _ = cos_scores.topk(k=min_community_size, largest=True)\n",
    "        for i in range(len(top_k_values)):\n",
    "            if top_k_values[i][-1] >= threshold:\n",
    "                new_cluster = []\n",
    "                top_val_large, top_idx_large = cos_scores[i].topk(k=sort_max_size, largest=True)\n",
    "                while top_val_large[-1] > threshold and sort_max_size < len(embeddings):\n",
    "                    sort_max_size = min(2 * sort_max_size, len(embeddings))\n",
    "                    top_val_large, top_idx_large = cos_scores[i].topk(k=sort_max_size, largest=True)\n",
    "                for idx, val in zip(top_idx_large.tolist(), top_val_large):\n",
    "                    if val < threshold:\n",
    "                        break\n",
    "                    new_cluster.append(idx)\n",
    "                extracted_communities.append(new_cluster)\n",
    "        del cos_scores\n",
    "    extracted_communities = sorted(extracted_communities, key=lambda x: len(x), reverse=True)\n",
    "    unique_communities = []\n",
    "    extracted_ids = set()\n",
    "    for cluster_id, community in enumerate(extracted_communities):\n",
    "        community = sorted(community)\n",
    "        non_overlapped_community = []\n",
    "        for idx in community:\n",
    "            if idx not in extracted_ids:\n",
    "                non_overlapped_community.append(idx)\n",
    "        if len(non_overlapped_community) >= min_community_size:\n",
    "            unique_communities.append(non_overlapped_community)\n",
    "            extracted_ids.update(non_overlapped_community)\n",
    "    unique_communities = sorted(unique_communities, key=lambda x: len(x), reverse=True)\n",
    "    return unique_communities"
   ]
  },
  {
   "cell_type": "code",
   "execution_count": 56,
   "metadata": {},
   "outputs": [],
   "source": [
    "clusters = cluster_detection(d, min_community_size=1, threshold=0.95)"
   ]
  },
  {
   "cell_type": "code",
   "execution_count": 57,
   "metadata": {},
   "outputs": [],
   "source": [
    "#Results of clustering"
   ]
  },
  {
   "cell_type": "code",
   "execution_count": 58,
   "metadata": {},
   "outputs": [
    {
     "name": "stdout",
     "output_type": "stream",
     "text": [
      "\n",
      "Cluster 1, #1501 Elements \n",
      "\t moeller student run newspaper the crusader consistently recognized one top region\n",
      "\t paul keels play play announcer ohio state university football basketball wbns fm\n",
      "\t joe uecker ohio state senator r\n",
      "\t tony hunter professional football player buffalo bills los angeles rams\n",
      "\t jack norris president co founder vegan outreach\n",
      "\n",
      "Cluster 2, #1407 Elements \n",
      "\t in the crusader first place second highest honor high school newspaper receive american scholastic press association ref\n",
      "\t the squire student literary journal features stories poems essays written moeller students\n",
      "\t rico murray undrafted free agent signee cincinnati bengals\n",
      "\t moeller high school opened doors september along la salle high school fellow cincinnati archdiocesan school\n",
      "\t when opened doors moeller high school received students parishes northeastern part greater cincinnati area drawing roger bacon high school purcell marian high school two male comprehensive cincinnati archdiocesan schools\n",
      "\n",
      "Cluster 3, #8 Elements \n",
      "\t the sydney season featured goldner quartet piers lane james crabb\n",
      "\t butuan subdivided barangays urban ref rural\n",
      "\t there provisions determination request local authority\n",
      "\t just must seemed end control sight threat war revived fears excessive rent increases led initial introduction control rent mortgage interest restrictions act introduced\n",
      "\t registry notification hooks introduced windows xp recently enhanced windows vista allow software participate registry related activities system\n",
      "\n",
      "Cluster 4, #8 Elements \n",
      "\t consideration concept devised english common law required simple contracts special contracts contracts deed\n",
      "\t the protection eviction act december interim measure intended run end expire\n",
      "\t autism speaks world largest autism advocacy organization sponsors autism research conducts awareness outreach activities aimed families governments public\n",
      "\t john douglas semken legal adviser home office\n",
      "\t victor john osola group chief executive redman heenan international ltd\n",
      "\n",
      "Cluster 5, #6 Elements \n",
      "\t it presented neves opposition candidate paulo maluf ref\n",
      "\t rajeev masand cnn ibn gave movie stars concluding bolstered riveting performances thrilling plot dynamics gripping film seizes full attention\n",
      "\t thomas gray boardman lately president association british chambers commerce\n",
      "\t peter john harrop deputy secretary cabinet office\n",
      "\t michael de normann ensor assistant secretary overseas development administration\n",
      "\n",
      "Cluster 6, #6 Elements \n",
      "\t council tenants granted right buy homes\n",
      "\t grenville llewellyn lucas senior principal scientific officer ministry agriculture fisheries food\n",
      "\t myrtle blackmore higher executive officer department employment\n",
      "\t jennifer mary hopkins head history department abbey wood school london\n",
      "\t charles kirkpatrick county secretary fermanagh ulster savings committee\n",
      "\n",
      "Cluster 7, #6 Elements \n",
      "\t historic metcalf franklin farm abbott run valley road last working dairy farm cumberland\n",
      "\t early plasma televisions enhanced definition ed native resolution discontinued scaled incoming high definition video signals match native display resolution ref\n",
      "\t mildred mary mcleod lismore new south wales\n",
      "\t william john richard dawson foreign commonwealth office\n",
      "\t geoffrey john hadfield consultant general surgeon stoke mandeville hospital buckinghamshire\n",
      "\n",
      "Cluster 8, #4 Elements \n",
      "\t experienced windows users know using alt key combination four digits keypad produce characters otherwise unavailable standard pc keyboards accented vowels graphic box drawing characters\n",
      "\t the right succession statutory tenancy extended enable tenancy transmitted second successor rules applicable transmission death original tenant first successor\n",
      "\t the act provided conversion statutory tenancies subsisting provisions requisitioned houses housing amendment act extending time limit purpose\n",
      "\t anime differs greatly forms animation diverse art styles methods animation production process\n",
      "\n",
      "Cluster 9, #3 Elements \n",
      "\t t film turned sleeper hit young working people sold\n",
      "\t the city endowed swamplands near coastal area\n",
      "\t margaret gardiner margaret emilia gardiner bernal\n",
      "\n",
      "Cluster 10, #3 Elements \n",
      "\t following report salisbury committee continuing deterioration housing supply increase rent mortgage interest restrictions act passed consolidated amended earlier legislation\n",
      "\t production pride prejudice began wright relationship working title films first four collaborations\n",
      "\t major richard milson tucker royal australian infantry corps\n",
      "\n",
      "Cluster 11, #3 Elements \n",
      "\t as adopted mother stepmother angie chrissie fiercely protective charges\n",
      "\t in england wales contract may enforced use claim urgent cases applying interim injunction prevent breach\n",
      "\t george knox director administration ettrick lauderdale district council\n",
      "\n",
      "Cluster 12, #3 Elements \n",
      "\t the standard us keyboard heavy clunky featured keys weighed approximately pounds\n",
      "\t david helm lately deputy assistant commissioner metropolitan police\n",
      "\t lewis albert dawe norwood\n",
      "\n",
      "Cluster 13, #3 Elements \n",
      "\t today faculty contains engineering specializations\n",
      "\t barbara critten hamilton victoria\n",
      "\t divisional sergeant major alfred frederick hedditch queen bodyguard yeomen guard\n",
      "\n",
      "Cluster 14, #3 Elements \n",
      "\t according united states census bureau town total area land water ref\n",
      "\t as said earlier act disapplied act board attendance furniture provided\n",
      "\t lawrence robertson nafrabundah australian capital territory\n",
      "\n",
      "Cluster 15, #2 Elements \n",
      "\t the long electrodes stripes electrically conducting material also lies glass plates front behind cells\n",
      "\t there provision court appoint managers assume responsibility management premises containing flats landlord breach obligation owed tenant\n",
      "\n",
      "Cluster 16, #2 Elements \n",
      "\t councillor eric hodgson woods tomingley new south wales\n",
      "\t thelma adeline geddie netley south australia\n",
      "\n",
      "Cluster 17, #2 Elements \n",
      "\t mutual mistake occurs parties contract mistaken terms\n",
      "\t american poetry twentieth century\n",
      "\n",
      "Cluster 18, #2 Elements \n",
      "\t arthur john powe penguin tasmania\n",
      "\t ranville rex schofield willow tree new south wales\n",
      "\n",
      "Cluster 19, #2 Elements \n",
      "\t it could reduced dwelling became disrepair\n",
      "\t derek cox inspector hertfordshire constabulary\n",
      "\n",
      "Cluster 20, #2 Elements \n",
      "\t although almost ubiquitous continental europe deposit system less common united kingdom canada widely adopted united states exception chains like aldi require deposit\n",
      "\t wessely also long standing interest normal people react adversity responses appropriate\n",
      "\n",
      "Cluster 21, #2 Elements \n",
      "\t the school system led seven member school committee elected serve two years includes chairperson vice chairperson clerk\n",
      "\t the brazilian censuses ask questions ethnic origin systematically comparable data impact immigration\n",
      "\n",
      "Cluster 22, #1 Elements \n",
      "\t more recently wessely work first show service gulf war significant effect health uk servicemen women\n",
      "\n",
      "Cluster 23, #1 Elements \n",
      "\t daniel costigan mcenery upper mount gravatt\n",
      "\n",
      "Cluster 24, #1 Elements \n",
      "\t samuel lees senior executive officer department health social security\n",
      "\n",
      "Cluster 25, #1 Elements \n",
      "\t the primary purpose csp keep msp busy ran slightly x speed msp\n",
      "\n",
      "Cluster 26, #1 Elements \n",
      "\t edward leslie trew under secretary department health social security\n",
      "\n",
      "Cluster 27, #1 Elements \n",
      "\t lieutenant colonel david wordley williams corps royal engineers\n",
      "\n",
      "Cluster 28, #1 Elements \n",
      "\t henry frank stephens head fuel energy department confederation british industry\n",
      "\n",
      "Cluster 29, #1 Elements \n",
      "\t any party long lease given right make application county court order varying terms lease\n",
      "\n",
      "Cluster 30, #1 Elements \n",
      "\t various methods detection used e g\n",
      "\n",
      "Cluster 31, #1 Elements \n",
      "\t lorde defines racism sexism ageism heterosexism elitism classism altogether explains ism idea privileged superior right govern anything else\n",
      "\n",
      "Cluster 32, #1 Elements \n",
      "\t as happened several countries americas united states received immigration many countries brazil quickly became melting pot races nationalities peculiar sense highest degree intermarriage world ref\n",
      "\n",
      "Cluster 33, #1 Elements \n",
      "\t helen margaret crompton chief area nursing officer grampian health board\n",
      "\n",
      "Cluster 34, #1 Elements \n",
      "\t the song snow originally written call me madam title free dropped town tryouts\n",
      "\n",
      "Cluster 35, #1 Elements \n",
      "\t peter szatmari born canadian researcher autism asperger syndrome\n",
      "\n",
      "Cluster 36, #1 Elements \n",
      "\t malcolm edmund brooks walkerville south australia\n",
      "\n",
      "Cluster 37, #1 Elements \n",
      "\t john neil weekes wentworthville new south wales\n",
      "\n",
      "Cluster 38, #1 Elements \n",
      "\t however spoken discourse osv possible emphasizing object topic comment like structure ref\n",
      "\n",
      "Cluster 39, #1 Elements \n",
      "\t the song what can you do general originally written un produced project called stars my shoulders\n",
      "\n",
      "Cluster 40, #1 Elements \n",
      "\t joan patricia gortley brighton le sands new south wales\n"
     ]
    }
   ],
   "source": [
    "for i, cluster in enumerate(clusters):\n",
    "    print(\"\\nCluster {}, #{} Elements \".format(i+1, len(cluster)))\n",
    "    for sentence_id in cluster[0:5]:\n",
    "        print(\"\\t\", training_data[sentence_id])"
   ]
  },
  {
   "cell_type": "code",
   "execution_count": 59,
   "metadata": {},
   "outputs": [],
   "source": [
    "cluster_list = []\n",
    "for i, cluster in enumerate(clusters):\n",
    "  cluster_list.append(cluster)"
   ]
  },
  {
   "cell_type": "code",
   "execution_count": 60,
   "metadata": {},
   "outputs": [],
   "source": [
    "sen = []\n",
    "for i, cluster in enumerate(clusters):\n",
    "  for id in cluster[:]:\n",
    "    sen.append([i, training_data[id]])"
   ]
  },
  {
   "cell_type": "code",
   "execution_count": 61,
   "metadata": {},
   "outputs": [
    {
     "data": {
      "text/html": [
       "<div>\n",
       "<style scoped>\n",
       "    .dataframe tbody tr th:only-of-type {\n",
       "        vertical-align: middle;\n",
       "    }\n",
       "\n",
       "    .dataframe tbody tr th {\n",
       "        vertical-align: top;\n",
       "    }\n",
       "\n",
       "    .dataframe thead th {\n",
       "        text-align: right;\n",
       "    }\n",
       "</style>\n",
       "<table border=\"1\" class=\"dataframe\">\n",
       "  <thead>\n",
       "    <tr style=\"text-align: right;\">\n",
       "      <th></th>\n",
       "      <th>cluster_no</th>\n",
       "      <th>sentences</th>\n",
       "    </tr>\n",
       "  </thead>\n",
       "  <tbody>\n",
       "    <tr>\n",
       "      <th>0</th>\n",
       "      <td>0</td>\n",
       "      <td>moeller student run newspaper the crusader con...</td>\n",
       "    </tr>\n",
       "    <tr>\n",
       "      <th>1</th>\n",
       "      <td>0</td>\n",
       "      <td>paul keels play play announcer ohio state univ...</td>\n",
       "    </tr>\n",
       "    <tr>\n",
       "      <th>2</th>\n",
       "      <td>0</td>\n",
       "      <td>joe uecker ohio state senator r</td>\n",
       "    </tr>\n",
       "    <tr>\n",
       "      <th>3</th>\n",
       "      <td>0</td>\n",
       "      <td>tony hunter professional football player buffa...</td>\n",
       "    </tr>\n",
       "    <tr>\n",
       "      <th>4</th>\n",
       "      <td>0</td>\n",
       "      <td>jack norris president co founder vegan outreach</td>\n",
       "    </tr>\n",
       "    <tr>\n",
       "      <th>5</th>\n",
       "      <td>0</td>\n",
       "      <td>archbishop moeller high school established fal...</td>\n",
       "    </tr>\n",
       "    <tr>\n",
       "      <th>6</th>\n",
       "      <td>0</td>\n",
       "      <td>starting freshman class moeller high school ad...</td>\n",
       "    </tr>\n",
       "    <tr>\n",
       "      <th>7</th>\n",
       "      <td>0</td>\n",
       "      <td>the lacrosse team two state titles constant fo...</td>\n",
       "    </tr>\n",
       "    <tr>\n",
       "      <th>8</th>\n",
       "      <td>0</td>\n",
       "      <td>this say circular flow diagram useful understa...</td>\n",
       "    </tr>\n",
       "    <tr>\n",
       "      <th>9</th>\n",
       "      <td>0</td>\n",
       "      <td>the circular flow income concept better unders...</td>\n",
       "    </tr>\n",
       "    <tr>\n",
       "      <th>10</th>\n",
       "      <td>0</td>\n",
       "      <td>households spend income y goods services consu...</td>\n",
       "    </tr>\n",
       "    <tr>\n",
       "      <th>11</th>\n",
       "      <td>0</td>\n",
       "      <td>all output o produced firms purchased househol...</td>\n",
       "    </tr>\n",
       "    <tr>\n",
       "      <th>12</th>\n",
       "      <td>0</td>\n",
       "      <td>each sectors receives payments lieu goods serv...</td>\n",
       "    </tr>\n",
       "    <tr>\n",
       "      <th>13</th>\n",
       "      <td>0</td>\n",
       "      <td>in overseas sector the main leakage sector imp...</td>\n",
       "    </tr>\n",
       "    <tr>\n",
       "      <th>14</th>\n",
       "      <td>0</td>\n",
       "      <td>savings taxes imports investment government sp...</td>\n",
       "    </tr>\n",
       "    <tr>\n",
       "      <th>15</th>\n",
       "      <td>0</td>\n",
       "      <td>s t m i g x</td>\n",
       "    </tr>\n",
       "    <tr>\n",
       "      <th>16</th>\n",
       "      <td>0</td>\n",
       "      <td>on august sharon returned walford dennis jnr b...</td>\n",
       "    </tr>\n",
       "    <tr>\n",
       "      <th>17</th>\n",
       "      <td>0</td>\n",
       "      <td>the watts family one central families introduc...</td>\n",
       "    </tr>\n",
       "    <tr>\n",
       "      <th>18</th>\n",
       "      <td>0</td>\n",
       "      <td>den return widely regarded coup seen instrumen...</td>\n",
       "    </tr>\n",
       "    <tr>\n",
       "      <th>19</th>\n",
       "      <td>0</td>\n",
       "      <td>the return den years took conflict two familie...</td>\n",
       "    </tr>\n",
       "  </tbody>\n",
       "</table>\n",
       "</div>"
      ],
      "text/plain": [
       "    cluster_no                                          sentences\n",
       "0            0  moeller student run newspaper the crusader con...\n",
       "1            0  paul keels play play announcer ohio state univ...\n",
       "2            0                    joe uecker ohio state senator r\n",
       "3            0  tony hunter professional football player buffa...\n",
       "4            0    jack norris president co founder vegan outreach\n",
       "5            0  archbishop moeller high school established fal...\n",
       "6            0  starting freshman class moeller high school ad...\n",
       "7            0  the lacrosse team two state titles constant fo...\n",
       "8            0  this say circular flow diagram useful understa...\n",
       "9            0  the circular flow income concept better unders...\n",
       "10           0  households spend income y goods services consu...\n",
       "11           0  all output o produced firms purchased househol...\n",
       "12           0  each sectors receives payments lieu goods serv...\n",
       "13           0  in overseas sector the main leakage sector imp...\n",
       "14           0  savings taxes imports investment government sp...\n",
       "15           0                                        s t m i g x\n",
       "16           0  on august sharon returned walford dennis jnr b...\n",
       "17           0  the watts family one central families introduc...\n",
       "18           0  den return widely regarded coup seen instrumen...\n",
       "19           0  the return den years took conflict two familie..."
      ]
     },
     "execution_count": 61,
     "metadata": {},
     "output_type": "execute_result"
    }
   ],
   "source": [
    "df=pd.DataFrame(sen,columns=['cluster_no','sentences'])\n",
    "df.head(20)"
   ]
  },
  {
   "cell_type": "code",
   "execution_count": 62,
   "metadata": {},
   "outputs": [],
   "source": [
    "#Saving csv file of cluster"
   ]
  },
  {
   "cell_type": "code",
   "execution_count": 63,
   "metadata": {},
   "outputs": [],
   "source": [
    "df.to_csv('bpemb_clustering.csv')"
   ]
  },
  {
   "cell_type": "code",
   "execution_count": null,
   "metadata": {},
   "outputs": [],
   "source": []
  },
  {
   "cell_type": "code",
   "execution_count": null,
   "metadata": {},
   "outputs": [],
   "source": []
  },
  {
   "cell_type": "code",
   "execution_count": null,
   "metadata": {},
   "outputs": [],
   "source": []
  }
 ],
 "metadata": {
  "accelerator": "GPU",
  "colab": {
   "authorship_tag": "ABX9TyPv0cLoyVHJbH8LGwb68JzB",
   "collapsed_sections": [],
   "provenance": []
  },
  "kernelspec": {
   "display_name": "Python 3 (ipykernel)",
   "language": "python",
   "name": "python3"
  },
  "language_info": {
   "codemirror_mode": {
    "name": "ipython",
    "version": 3
   },
   "file_extension": ".py",
   "mimetype": "text/x-python",
   "name": "python",
   "nbconvert_exporter": "python",
   "pygments_lexer": "ipython3",
   "version": "3.7.11"
  },
  "widgets": {
   "application/vnd.jupyter.widget-state+json": {
    "4b0b1e0b854a4af386c55bf6e7d65c61": {
     "model_module": "@jupyter-widgets/base",
     "model_module_version": "1.2.0",
     "model_name": "LayoutModel",
     "state": {
      "_model_module": "@jupyter-widgets/base",
      "_model_module_version": "1.2.0",
      "_model_name": "LayoutModel",
      "_view_count": null,
      "_view_module": "@jupyter-widgets/base",
      "_view_module_version": "1.2.0",
      "_view_name": "LayoutView",
      "align_content": null,
      "align_items": null,
      "align_self": null,
      "border": null,
      "bottom": null,
      "display": null,
      "flex": null,
      "flex_flow": null,
      "grid_area": null,
      "grid_auto_columns": null,
      "grid_auto_flow": null,
      "grid_auto_rows": null,
      "grid_column": null,
      "grid_gap": null,
      "grid_row": null,
      "grid_template_areas": null,
      "grid_template_columns": null,
      "grid_template_rows": null,
      "height": null,
      "justify_content": null,
      "justify_items": null,
      "left": null,
      "margin": null,
      "max_height": null,
      "max_width": null,
      "min_height": null,
      "min_width": null,
      "object_fit": null,
      "object_position": null,
      "order": null,
      "overflow": null,
      "overflow_x": null,
      "overflow_y": null,
      "padding": null,
      "right": null,
      "top": null,
      "visibility": null,
      "width": "20px"
     }
    },
    "73d74597005a44cb83011784065172ce": {
     "model_module": "@jupyter-widgets/controls",
     "model_module_version": "1.5.0",
     "model_name": "HTMLModel",
     "state": {
      "_dom_classes": [],
      "_model_module": "@jupyter-widgets/controls",
      "_model_module_version": "1.5.0",
      "_model_name": "HTMLModel",
      "_view_count": null,
      "_view_module": "@jupyter-widgets/controls",
      "_view_module_version": "1.5.0",
      "_view_name": "HTMLView",
      "description": "",
      "description_tooltip": null,
      "layout": "IPY_MODEL_ade163603c7347faaeed9940e6639ae9",
      "placeholder": "​",
      "style": "IPY_MODEL_d0071b470ba74cc9bd208324e3fb583e",
      "value": ""
     }
    },
    "8d78121c404c4da890547265ee6338f0": {
     "model_module": "@jupyter-widgets/controls",
     "model_module_version": "1.5.0",
     "model_name": "ProgressStyleModel",
     "state": {
      "_model_module": "@jupyter-widgets/controls",
      "_model_module_version": "1.5.0",
      "_model_name": "ProgressStyleModel",
      "_view_count": null,
      "_view_module": "@jupyter-widgets/base",
      "_view_module_version": "1.2.0",
      "_view_name": "StyleView",
      "bar_color": null,
      "description_width": ""
     }
    },
    "92f09a4f997844868ced5d7bb7e434b4": {
     "model_module": "@jupyter-widgets/controls",
     "model_module_version": "1.5.0",
     "model_name": "FloatProgressModel",
     "state": {
      "_dom_classes": [],
      "_model_module": "@jupyter-widgets/controls",
      "_model_module_version": "1.5.0",
      "_model_name": "FloatProgressModel",
      "_view_count": null,
      "_view_module": "@jupyter-widgets/controls",
      "_view_module_version": "1.5.0",
      "_view_name": "ProgressView",
      "bar_style": "success",
      "description": "",
      "description_tooltip": null,
      "layout": "IPY_MODEL_4b0b1e0b854a4af386c55bf6e7d65c61",
      "max": 1,
      "min": 0,
      "orientation": "horizontal",
      "style": "IPY_MODEL_8d78121c404c4da890547265ee6338f0",
      "value": 0
     }
    },
    "a9afb12d3cfd494fb845abfe6f3cee73": {
     "model_module": "@jupyter-widgets/controls",
     "model_module_version": "1.5.0",
     "model_name": "HTMLModel",
     "state": {
      "_dom_classes": [],
      "_model_module": "@jupyter-widgets/controls",
      "_model_module_version": "1.5.0",
      "_model_name": "HTMLModel",
      "_view_count": null,
      "_view_module": "@jupyter-widgets/controls",
      "_view_module_version": "1.5.0",
      "_view_name": "HTMLView",
      "description": "",
      "description_tooltip": null,
      "layout": "IPY_MODEL_f1b115bed47045b5a8bd9a0af30b09f6",
      "placeholder": "​",
      "style": "IPY_MODEL_ad4c2cd1aa1e43d7994c58af268fd9fd",
      "value": " 0/0 [00:00&lt;?, ?it/s]"
     }
    },
    "ad4c2cd1aa1e43d7994c58af268fd9fd": {
     "model_module": "@jupyter-widgets/controls",
     "model_module_version": "1.5.0",
     "model_name": "DescriptionStyleModel",
     "state": {
      "_model_module": "@jupyter-widgets/controls",
      "_model_module_version": "1.5.0",
      "_model_name": "DescriptionStyleModel",
      "_view_count": null,
      "_view_module": "@jupyter-widgets/base",
      "_view_module_version": "1.2.0",
      "_view_name": "StyleView",
      "description_width": ""
     }
    },
    "ade163603c7347faaeed9940e6639ae9": {
     "model_module": "@jupyter-widgets/base",
     "model_module_version": "1.2.0",
     "model_name": "LayoutModel",
     "state": {
      "_model_module": "@jupyter-widgets/base",
      "_model_module_version": "1.2.0",
      "_model_name": "LayoutModel",
      "_view_count": null,
      "_view_module": "@jupyter-widgets/base",
      "_view_module_version": "1.2.0",
      "_view_name": "LayoutView",
      "align_content": null,
      "align_items": null,
      "align_self": null,
      "border": null,
      "bottom": null,
      "display": null,
      "flex": null,
      "flex_flow": null,
      "grid_area": null,
      "grid_auto_columns": null,
      "grid_auto_flow": null,
      "grid_auto_rows": null,
      "grid_column": null,
      "grid_gap": null,
      "grid_row": null,
      "grid_template_areas": null,
      "grid_template_columns": null,
      "grid_template_rows": null,
      "height": null,
      "justify_content": null,
      "justify_items": null,
      "left": null,
      "margin": null,
      "max_height": null,
      "max_width": null,
      "min_height": null,
      "min_width": null,
      "object_fit": null,
      "object_position": null,
      "order": null,
      "overflow": null,
      "overflow_x": null,
      "overflow_y": null,
      "padding": null,
      "right": null,
      "top": null,
      "visibility": null,
      "width": null
     }
    },
    "c3b7908a95db46ffafe86b42ba08ace7": {
     "model_module": "@jupyter-widgets/controls",
     "model_module_version": "1.5.0",
     "model_name": "HBoxModel",
     "state": {
      "_dom_classes": [],
      "_model_module": "@jupyter-widgets/controls",
      "_model_module_version": "1.5.0",
      "_model_name": "HBoxModel",
      "_view_count": null,
      "_view_module": "@jupyter-widgets/controls",
      "_view_module_version": "1.5.0",
      "_view_name": "HBoxView",
      "box_style": "",
      "children": [
       "IPY_MODEL_73d74597005a44cb83011784065172ce",
       "IPY_MODEL_92f09a4f997844868ced5d7bb7e434b4",
       "IPY_MODEL_a9afb12d3cfd494fb845abfe6f3cee73"
      ],
      "layout": "IPY_MODEL_df406b067def4f7b8c1bcfa7129b7a93"
     }
    },
    "d0071b470ba74cc9bd208324e3fb583e": {
     "model_module": "@jupyter-widgets/controls",
     "model_module_version": "1.5.0",
     "model_name": "DescriptionStyleModel",
     "state": {
      "_model_module": "@jupyter-widgets/controls",
      "_model_module_version": "1.5.0",
      "_model_name": "DescriptionStyleModel",
      "_view_count": null,
      "_view_module": "@jupyter-widgets/base",
      "_view_module_version": "1.2.0",
      "_view_name": "StyleView",
      "description_width": ""
     }
    },
    "df406b067def4f7b8c1bcfa7129b7a93": {
     "model_module": "@jupyter-widgets/base",
     "model_module_version": "1.2.0",
     "model_name": "LayoutModel",
     "state": {
      "_model_module": "@jupyter-widgets/base",
      "_model_module_version": "1.2.0",
      "_model_name": "LayoutModel",
      "_view_count": null,
      "_view_module": "@jupyter-widgets/base",
      "_view_module_version": "1.2.0",
      "_view_name": "LayoutView",
      "align_content": null,
      "align_items": null,
      "align_self": null,
      "border": null,
      "bottom": null,
      "display": null,
      "flex": null,
      "flex_flow": null,
      "grid_area": null,
      "grid_auto_columns": null,
      "grid_auto_flow": null,
      "grid_auto_rows": null,
      "grid_column": null,
      "grid_gap": null,
      "grid_row": null,
      "grid_template_areas": null,
      "grid_template_columns": null,
      "grid_template_rows": null,
      "height": null,
      "justify_content": null,
      "justify_items": null,
      "left": null,
      "margin": null,
      "max_height": null,
      "max_width": null,
      "min_height": null,
      "min_width": null,
      "object_fit": null,
      "object_position": null,
      "order": null,
      "overflow": null,
      "overflow_x": null,
      "overflow_y": null,
      "padding": null,
      "right": null,
      "top": null,
      "visibility": null,
      "width": null
     }
    },
    "f1b115bed47045b5a8bd9a0af30b09f6": {
     "model_module": "@jupyter-widgets/base",
     "model_module_version": "1.2.0",
     "model_name": "LayoutModel",
     "state": {
      "_model_module": "@jupyter-widgets/base",
      "_model_module_version": "1.2.0",
      "_model_name": "LayoutModel",
      "_view_count": null,
      "_view_module": "@jupyter-widgets/base",
      "_view_module_version": "1.2.0",
      "_view_name": "LayoutView",
      "align_content": null,
      "align_items": null,
      "align_self": null,
      "border": null,
      "bottom": null,
      "display": null,
      "flex": null,
      "flex_flow": null,
      "grid_area": null,
      "grid_auto_columns": null,
      "grid_auto_flow": null,
      "grid_auto_rows": null,
      "grid_column": null,
      "grid_gap": null,
      "grid_row": null,
      "grid_template_areas": null,
      "grid_template_columns": null,
      "grid_template_rows": null,
      "height": null,
      "justify_content": null,
      "justify_items": null,
      "left": null,
      "margin": null,
      "max_height": null,
      "max_width": null,
      "min_height": null,
      "min_width": null,
      "object_fit": null,
      "object_position": null,
      "order": null,
      "overflow": null,
      "overflow_x": null,
      "overflow_y": null,
      "padding": null,
      "right": null,
      "top": null,
      "visibility": null,
      "width": null
     }
    }
   }
  }
 },
 "nbformat": 4,
 "nbformat_minor": 1
}
