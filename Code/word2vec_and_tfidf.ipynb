{
  "nbformat": 4,
  "nbformat_minor": 0,
  "metadata": {
    "colab": {
      "provenance": [],
      "collapsed_sections": [],
      "machine_shape": "hm"
    },
    "kernelspec": {
      "name": "python3",
      "display_name": "Python 3"
    }
  },
  "cells": [
    {
      "cell_type": "markdown",
      "source": [
        "## **Library**"
      ],
      "metadata": {
        "id": "1rgHzN5Z3in6"
      }
    },
    {
      "cell_type": "code",
      "source": [
        "import numpy as np\n",
        "import pandas as pd\n",
        "from sklearn.feature_extraction.text import CountVectorizer\n",
        "import tensorflow.compat.v1 as tf\n",
        "tf.disable_v2_behavior() \n",
        "import nltk\n",
        "from nltk.tokenize import word_tokenize\n",
        "nltk.download('punkt')\n",
        "from sklearn.feature_extraction.text import CountVectorizer\n",
        "import torch\n",
        "from torch import Tensor, device"
      ],
      "metadata": {
        "id": "2v_USUN9uJbI",
        "outputId": "32847dd6-1cdb-4381-b118-74ee1bad051e",
        "colab": {
          "base_uri": "https://localhost:8080/"
        }
      },
      "execution_count": 1,
      "outputs": [
        {
          "output_type": "stream",
          "name": "stderr",
          "text": [
            "WARNING:tensorflow:From /usr/local/lib/python3.7/dist-packages/tensorflow/python/compat/v2_compat.py:107: disable_resource_variables (from tensorflow.python.ops.variable_scope) is deprecated and will be removed in a future version.\n",
            "Instructions for updating:\n",
            "non-resource variables are not supported in the long term\n",
            "[nltk_data] Downloading package punkt to /root/nltk_data...\n",
            "[nltk_data]   Unzipping tokenizers/punkt.zip.\n"
          ]
        }
      ]
    },
    {
      "cell_type": "code",
      "source": [
        "corpus = pd.read_csv(\"/content/preprocessed_data\")\n",
        "corpus.drop(corpus.filter(regex=\"Unnamed\"),axis=1, inplace=True)"
      ],
      "metadata": {
        "id": "MF_Syz74uJgj"
      },
      "execution_count": 2,
      "outputs": []
    },
    {
      "cell_type": "code",
      "source": [
        "corpus = corpus[:1000]"
      ],
      "metadata": {
        "id": "lR6jK83cuJjH"
      },
      "execution_count": 3,
      "outputs": []
    },
    {
      "cell_type": "code",
      "source": [
        "corpus['Text'] = corpus['Text'].replace(np.nan, '')"
      ],
      "metadata": {
        "id": "oZRM0HkWuJlo",
        "colab": {
          "base_uri": "https://localhost:8080/"
        },
        "outputId": "4910e111-dc6f-46a0-eaa1-874a4271f96e"
      },
      "execution_count": 4,
      "outputs": [
        {
          "output_type": "stream",
          "name": "stderr",
          "text": [
            "/usr/local/lib/python3.7/dist-packages/ipykernel_launcher.py:1: SettingWithCopyWarning: \n",
            "A value is trying to be set on a copy of a slice from a DataFrame.\n",
            "Try using .loc[row_indexer,col_indexer] = value instead\n",
            "\n",
            "See the caveats in the documentation: https://pandas.pydata.org/pandas-docs/stable/user_guide/indexing.html#returning-a-view-versus-a-copy\n",
            "  \"\"\"Entry point for launching an IPython kernel.\n"
          ]
        }
      ]
    },
    {
      "cell_type": "markdown",
      "source": [
        "### Tokens"
      ],
      "metadata": {
        "id": "4ucgRfxq4Cep"
      }
    },
    {
      "cell_type": "code",
      "source": [
        "def create_tokens(data):   \n",
        "    sent_tokens =[]\n",
        "    word_tokens = []\n",
        "    for i in range(len(data)):\n",
        "        word_tokens.append(word_tokenize(data[i]))\n",
        "        sent_tokens.append(word_tokens[i])\n",
        "    return sent_tokens"
      ],
      "metadata": {
        "id": "m4ErQE8cuJqy"
      },
      "execution_count": 5,
      "outputs": []
    },
    {
      "cell_type": "code",
      "source": [
        "docs=corpus[\"Text\"].tolist()\n",
        "sentences=create_tokens(docs)\n",
        "len(sentences)"
      ],
      "metadata": {
        "id": "q3xf53JjuJtb",
        "outputId": "70f528c6-f608-4394-f884-3568b9da6a7e",
        "colab": {
          "base_uri": "https://localhost:8080/"
        }
      },
      "execution_count": 6,
      "outputs": [
        {
          "output_type": "execute_result",
          "data": {
            "text/plain": [
              "1000"
            ]
          },
          "metadata": {},
          "execution_count": 6
        }
      ]
    },
    {
      "cell_type": "code",
      "source": [
        "k = []\n",
        "for i in range(1000):\n",
        "  for j in range(len(sentences[i])):\n",
        "    k.append(sentences[i][j])\n",
        "words = set(k)     \n",
        "len(words)"
      ],
      "metadata": {
        "id": "SPhHnF7cuJwI",
        "outputId": "7387632e-b960-4f41-879a-f8721a0c6a90",
        "colab": {
          "base_uri": "https://localhost:8080/"
        }
      },
      "execution_count": 7,
      "outputs": [
        {
          "output_type": "execute_result",
          "data": {
            "text/plain": [
              "5278"
            ]
          },
          "metadata": {},
          "execution_count": 7
        }
      ]
    },
    {
      "cell_type": "code",
      "source": [
        "word2int = {}\n",
        "int2word = {}\n",
        "vocab_size = len(words)\n",
        "\n",
        "for i,word in enumerate(words):\n",
        "    word2int[word] = i\n",
        "    int2word[i] = word"
      ],
      "metadata": {
        "id": "TsXR0m-UuJyi"
      },
      "execution_count": 8,
      "outputs": []
    },
    {
      "cell_type": "code",
      "source": [
        "vectorizer = CountVectorizer(min_df=0, token_pattern=r\"\\b\\w+\\b\")\n",
        "vectorizer.fit(docs)\n",
        "print(vectorizer.vocabulary_)\n",
        "vector = vectorizer.transform(docs)"
      ],
      "metadata": {
        "id": "ewT6HPysuJ1k",
        "outputId": "cb8d4883-ea9d-4a24-b585-31b2d0ac9697",
        "colab": {
          "base_uri": "https://localhost:8080/"
        }
      },
      "execution_count": null,
      "outputs": [
        {
          "output_type": "stream",
          "name": "stdout",
          "text": [
            "{'moeller': 3032, 'student': 4592, 'run': 4121, 'newspaper': 3174, 'the': 4765, 'crusader': 1131, 'consistently': 1003, 'recognized': 3883, 'one': 3287, 'top': 4843, 'region': 3925, 'in': 2301, 'first': 1837, 'place': 3530, 'second': 4223, 'highest': 2173, 'honor': 2203, 'high': 2171, 'school': 4194, 'receive': 3876, 'american': 191, 'scholastic': 4193, 'press': 3642, 'association': 327, 'ref': 3904, 'squire': 4501, 'literary': 2734, 'journal': 2516, 'features': 1783, 'stories': 4568, 'poems': 3564, 'essays': 1614, 'written': 5251, 'students': 4593, 'paul': 3446, 'keels': 2554, 'play': 3548, 'announcer': 227, 'ohio': 3276, 'state': 4527, 'university': 4995, 'football': 1872, 'basketball': 430, 'wbns': 5166, 'fm': 1859, 'joe': 2507, 'uecker': 4953, 'senator': 4263, 'r': 3805, 'rico': 4063, 'murray': 3092, 'undrafted': 4970, 'free': 1920, 'agent': 118, 'signee': 4362, 'cincinnati': 793, 'bengals': 476, 'tony': 4839, 'hunter': 2230, 'professional': 3707, 'player': 3550, 'buffalo': 599, 'bills': 499, 'los': 2769, 'angeles': 214, 'rams': 3834, 'jack': 2483, 'norris': 3205, 'president': 3640, 'co': 841, 'founder': 1901, 'vegan': 5066, 'outreach': 3354, 'archbishop': 271, 'established': 1617, 'fall': 1749, 'karl': 2549, 'j': 2482, 'alter': 169, 'appointed': 256, 'monsignor': 3046, 'edward': 1496, 'a': 0, 'mccarthy': 2898, 'brother': 592, 'sibbing': 4354, 's': 4134, 'm': 2791, 'supervise': 4649, 'planning': 3541, 'construction': 1018, 'new': 3171, 'near': 3145, 'montgomery': 3048, 'opened': 3294, 'doors': 1413, 'september': 4275, 'along': 163, 'la': 2602, 'salle': 4148, 'fellow': 1791, 'archdiocesan': 272, 'when': 5187, 'received': 3877, 'parishes': 3403, 'northeastern': 3210, 'part': 3411, 'greater': 2060, 'area': 276, 'drawing': 1430, 'roger': 4090, 'bacon': 390, 'purcell': 3780, 'marian': 2849, 'two': 4943, 'male': 2820, 'comprehensive': 946, 'schools': 4195, 'starting': 4525, 'freshman': 1926, 'class': 810, 'adopted': 85, 'laptop': 2627, 'program': 3711, 'quite': 3802, 'number': 3231, 'countermeasures': 1095, 'installed': 2375, 'counteract': 1092, 'misuse': 3013, 'computers': 952, 'including': 2309, 'web': 5169, 'filtering': 1826, 'monitor': 3042, 'use': 5030, 'art': 297, 'nationally': 3135, 'four': 1902, 'year': 5263, 'culminates': 1142, 'advanced': 89, 'placement': 3532, 'studio': 4595, 'history': 2187, 'crusaders': 1132, 'long': 2760, 'athletic': 334, 'success': 4623, 'lacrosse': 2612, 'team': 4729, 'titles': 4826, 'constant': 1011, 'force': 1874, 'midwest': 2974, 'teams': 4730, 'exception': 1656, 'boxing': 554, 'skiing': 4405, 'volleyball': 5122, 'sanctioned': 4155, 'ohsaa': 3277, 'compete': 921, 'catholic': 692, 'league': 2658, 'south': 4461, 'elder': 1515, 'st': 4506, 'xavier': 5257, 'recently': 3880, 'unveiled': 5014, 'plans': 3543, 'build': 600, 'multipurpose': 3088, 'stadium': 4509, 'campus': 645, 'named': 3117, 'gerry': 1991, 'faust': 1773, 'complex': 935, 'foot': 1871, 'bronze': 590, 'statue': 4534, 'honoring': 2204, 'entrance': 1584, 'however': 2219, 'plan': 3540, 'faced': 1726, 'strong': 4585, 'criticism': 1126, 'neighboring': 3157, 'homeowners': 2199, 'request': 3991, 'change': 733, 'zoning': 5275, 'regulation': 3935, 'denied': 1252, 'title': 4824, 'went': 5180, 'boys': 555, 'go': 2016, 'undefeated': 4964, 'circular': 796, 'flow': 1854, 'diagram': 1309, 'abstraction': 24, 'economy': 1489, 'whole': 5195, 'ignores': 2259, 'linear': 2721, 'throughput': 4797, 'matter': 2885, 'energy': 1560, 'must': 3102, 'power': 3611, 'continuous': 1041, 'motion': 3065, 'money': 3041, 'goods': 2033, 'services': 4286, 'factors': 1735, 'production': 3702, 'this': 4781, 'say': 4174, 'useful': 5032, 'understanding': 4967, 'basics': 427, 'leakages': 2660, 'injections': 2360, 'income': 2311, 'concept': 956, 'better': 487, 'example': 1654, 'national': 3132, 'product': 3701, 'accounts': 40, 'nipas': 3191, 'alternatively': 172, 'think': 4779, 'transactions': 4873, 'terms': 4754, 'monetary': 3040, 'flows': 1855, 'occur': 3257, 'illustrates': 2265, 'interdependence': 2403, 'activities': 59, 'output': 3353, 'generated': 1976, 'of': 3264, 'course': 1103, 'total': 4849, 'much': 3081, 'complicated': 938, 'illustration': 2267, 'earliest': 1468, 'ideas': 2250, 'explained': 1696, 'work': 5230, 'th': 4762, 'century': 716, 'irish': 2458, 'french': 1923, 'economist': 1487, 'richard': 4062, 'cantillon': 656, 'influenced': 2346, 'prior': 3668, 'economists': 1488, 'especially': 1611, 'william': 5206, 'petty': 3495, 'fran': 1911, 'ois': 3279, 'quesnay': 3794, 'developed': 1294, 'concepts': 958, 'visualize': 5109, 'interactions': 2400, 'time': 4816, 'called': 631, 'tableau': 4701, 'conomique': 992, 'impedes': 2283, 'throughout': 4796, 'social': 4429, 'classes': 811, 'therefore': 4777, 'economic': 1483, 'development': 1295, 'taxes': 4725, 'productive': 3703, 'farmers': 1764, 'reduced': 3899, 'favor': 1774, 'higher': 2172, 'unproductive': 5006, 'landowners': 2618, 'since': 4382, 'luxurious': 2786, 'way': 5164, 'life': 2708, 'distorts': 1384, 'marxian': 2870, 'economics': 1485, 'reproduction': 3986, 'refers': 3910, 'recurrent': 3894, 'cyclical': 1160, 'processes': 3689, 'initial': 2356, 'conditions': 967, 'necessary': 3149, 'activity': 60, 'constantly': 1012, 'created': 1113, 'involves': 2451, 'physical': 3510, 'distribution': 1386, 'trade': 4863, 'circulation': 797, 'via': 5077, 'exchanges': 1659, 'consumption': 1022, 'intermediate': 2411, 'final': 1827, 'marx': 2869, 'distinguishes': 1382, 'simple': 4375, 'expanded': 1680, 'enlarged': 1574, 'an': 202, 'important': 2296, 'john': 2508, 'maynard': 2893, 'keynes': 2566, 'publication': 3769, 'general': 1973, 'theory': 4774, 'employment': 1545, 'interest': 2404, 'modern': 3023, 'model': 3021, 'frank': 1916, 'knight': 2586, 'organization': 3329, 'may': 2892, 'view': 5087, 'system': 4696, 'prize': 3678, 'relations': 3944, 'measurement': 2909, 'estimation': 1620, 'aggregation': 120, 'knowledge': 2589, 'signifies': 4366, 'upon': 5018, 'another': 231, 'unending': 4973, 'nature': 3139, 'it': 2475, 'expenditure': 1687, 'never': 3168, 'come': 886, 'halt': 2098, 'y': 5261, 'e': 1463, 'o': 3236, 'means': 2904, 'buyers': 618, 'households': 2216, 'becomes': 452, 'sellers': 4255, 'firms': 1836, 'spend': 4487, 'c': 621, 'all': 152, 'produced': 3697, 'purchased': 3782, 'there': 4776, 'financial': 1830, 'sector': 4231, 'government': 2040, 'foreign': 1877, 'includes': 2308, 'household': 2214, 'producing': 3700, 'each': 1464, 'sectors': 4232, 'receives': 3878, 'payments': 3452, 'lieu': 2706, 'makes': 2817, 'regular': 3932, 'injection': 2359, 'introduction': 2434, 'leakage': 2659, 'institutions': 2380, 'provide': 3754, 'option': 3310, 'save': 4169, 'provides': 3756, 'collection': 863, 'revenue': 4044, 't': 4698, 'provided': 3755, 'overseas': 3365, 'main': 2810, 'imports': 2297, 'represent': 3980, 'spending': 4488, 'residents': 4004, 'rest': 4023, 'world': 5239, 'table': 4700, 'five': 1844, 'equilibrium': 1597, 'occurs': 3259, 'equal': 1593, 'savings': 4170, 'investment': 2442, 'exports': 1706, 'i': 2240, 'g': 1952, 'x': 5256, 'effects': 1501, 'disequilibrium': 1362, 'vary': 5063, 'according': 38, 'equations': 1596, 'belong': 472, 'if': 2257, 'levels': 2692, 'causing': 699, 'recession': 3881, 'contraction': 1045, 'overall': 3358, 'equation': 1595, 'greatly': 2061, 'rise': 4073, 'boom': 542, 'real': 3865, 'exchange': 1658, 'whereas': 5189, 'supplies': 4650, 'raw': 3849, 'material': 2882, 'land': 2617, 'labour': 2608, 'capital': 661, 'enterprise': 1582, 'return': 4038, 'finished': 1834, 'known': 2590, 'generation': 1977, 'three': 4791, 'basic': 426, 'endlessly': 1555, 'titled': 4825, 'watts': 5163, 'closely': 831, 'connected': 985, 'fowlers': 1906, 'family': 1757, 'also': 167, 'strongly': 4586, 'beale': 442, 'on': 3285, 'august': 356, 'sharon': 4319, 'returned': 4039, 'walford': 5141, 'dennis': 1254, 'jnr': 2504, 'became': 449, 'instantly': 2377, 'involved': 2450, 'prominent': 3724, 'branning': 558, 'shared': 4318, 'flirtatious': 1850, 'relationship': 3945, 'soon': 4452, 'befriended': 456, 'max': 2888, 'ultimately': 4956, 'partner': 3421, 'tanya': 4719, 'cross': 1129, 'initially': 2357, 'feuded': 1805, 'central': 713, 'families': 1756, 'introduced': 2432, 'viewers': 5088, 'eastenders': 1476, 'began': 457, 'show': 4343, 'creators': 1117, 'holland': 2193, 'julia': 2529, 'smith': 4418, 'april': 264, 'anita': 224, 'dobson': 1398, 'made': 2799, 'last': 2634, 'appearance': 248, 'angie': 218, 'afterwards': 111, 'leslie': 2682, 'grantham': 2053, 'expressed': 1709, 'desire': 1277, 'step': 4549, 'role': 4092, 'den': 1251, 'popularity': 3586, 'importance': 2295, 'meant': 2905, 'successive': 4625, 'producers': 3698, 'executives': 1665, 'continually': 1036, 'asked': 310, 'dean': 1194, 'reprise': 3985, 'roles': 4093, 'widely': 5198, 'regarded': 3919, 'coup': 1101, 'seen': 4243, 'instrumental': 2384, 'facing': 1730, 'tight': 4811, 'competition': 924, 'itv': 2481, 'soaps': 4427, 'coronation': 1081, 'street': 4573, 'enjoying': 1573, 'successful': 4624, 'years': 5264, 'ever': 1643, 'emmerdale': 1541, 'midst': 2973, 'ratings': 3847, 'revival': 4050, 'again': 112, 'increasingly': 2317, 'dominated': 1407, 'volatile': 5120, 'husband': 2231, 'wife': 5201, 'culminating': 1143, 'death': 1195, 'february': 1784, 'decided': 1204, 'extend': 1712, 'current': 1151, 'contract': 1043, 'despite': 1280, 'official': 3272, 'bbc': 439, 'report': 3975, 'stating': 4532, 'letitia': 2686, 'taking': 4712, 'scheduled': 4189, 'break': 564, 'would': 5241, 'later': 2637, 'happen': 2113, 'away': 381, 'six': 4400, 'vic': 5080, 'obvious': 3251, 'lay': 2649, 'claim': 804, 'pub': 3767, 'absence': 21, 'took': 4840, 'conflict': 978, 'level': 2691, 'joined': 2511, 'chrissie': 780, 'pair': 3383, 'proceeded': 3687, 'bring': 579, 'mitchell': 3014, 'empire': 1543, 'bankrupting': 407, 'scam': 4177, 'retaking': 4034, 'control': 1054, 'sought': 4456, 'phil': 3499, 'help': 2153, 'son': 4447, 'harry': 2124, 'hickles': 2169, 'kidnapped': 2578, 'fianc': 1807, 'hewland': 2167, 'jesse': 2500, 'birdsall': 510, 'november': 3227, 'gavin': 1967, 'sullivan': 4634, 'nicholas': 3179, 'revealed': 4042, 'gang': 1955, 'eric': 1604, 'growing': 2074, 'together': 4830, 'screen': 4209, 'tried': 4908, 'tested': 4760, 'sources': 4460, 'drama': 1428, 'tragedy': 4869, 'christmas': 785, 'day': 1186, 'episode': 1590, 'delivered': 1240, 'divorce': 1395, 'papers': 3396, 'rated': 3843, 'airing': 135, 'british': 582, 'soap': 4426, 'television': 4741, 'seminal': 4259, 'moment': 3036, 'eclipsed': 1482, 'intense': 2395, 'media': 2916, 'scrutiny': 4210, 'surrounding': 4660, 'notably': 3217, 'fractured': 1909, 'condition': 966, 'willed': 5205, 'independent': 2318, 'yet': 5266, 'vulnerable': 5137, 'centre': 714, 'figure': 1815, 'casts': 687, 'shadow': 4311, 'centres': 715, 'responses': 4020, 'selfish': 4251, 'actions': 55, 'manipulative': 2831, 'ways': 5165, 'although': 173, 'wives': 5218, 'appeared': 249, 'combined': 885, 'immense': 2275, 'impact': 2279, 'as': 303, 'mother': 3064, 'stepmother': 4550, 'fiercely': 1811, 'protective': 3747, 'charges': 748, 'rather': 3845, 'mrs': 3079, 'highly': 2177, 'individual': 2331, 'figures': 1816, 'princess': 3657, 'dynamic': 1460, 'common': 903, 'method': 2960, 'cantilever': 654, 'deflection': 1233, 'measurements': 2910, 'beam': 443, 'relative': 3947, 'sensitivity': 4269, 'operation': 3299, 'fact': 1731, 'cantilevers': 655, 'require': 3994, 'electrical': 1521, 'contacts': 1025, 'special': 4473, 'treatments': 4895, 'fabricated': 1725, 'relatively': 3948, 'cheaply': 757, 'sharp': 4320, 'integrated': 2388, 'tips': 4822, 'many': 2840, 'methods': 2962, 'exist': 1668, 'piezoelectric': 3521, 'detection': 1287, 'quartz': 3791, 'qplus': 3788, 'configuration': 974, 'materials': 2883, 'directly': 1339, 'detect': 1285, 'signal': 4359, 'laser': 2633, 'doppler': 1414, 'vibrometry': 5079, 'vibrometer': 5078, 'used': 5031, 'produce': 3696, 'accurate': 41, 'oscillating': 3341, 'thus': 4804, 'non': 3200, 'contact': 1023, 'mode': 3020, 'stm': 4559, 'atomic': 337, 'microscope': 2968, 'complete': 931, 'feedback': 1787, 'mechanism': 2913, 'measure': 2907, 'optical': 3309, 'interferometry': 2409, 'capacitive': 657, 'metal': 2953, 'coated': 848, 'form': 1881, 'capacitor': 658, 'located': 2750, 'behind': 464, 'piezoresistive': 3522, 'elements': 1527, 'act': 53, 'strain': 4571, 'gauge': 1965, 'image': 2268, 'formation': 1885, 'plotting': 3558, 'produces': 3699, 'color': 880, 'mapping': 2843, 'changing': 736, 'position': 3596, 'tip': 4820, 'scanning': 4185, 'recording': 3888, 'measured': 2908, 'variable': 5057, 'intensity': 2396, 'coordinate': 1073, 'forming': 1891, 'afm': 105, 'generally': 1974, 'classified': 816, 'groups': 2072, 'viewpoint': 5090, 'whether': 5190, 'uses': 5037, 'z': 5273, 'loop': 2765, 'shown': 4347, 'maintain': 2812, 'sample': 4150, 'distance': 1376, 'keep': 2555, 'exported': 1705, 'detector': 1288, 'details': 1284, 'case': 683, 'df': 1301, 'among': 196, 'instance': 2376, 'next': 3175, 'section': 4229, 'concavity': 953, 'convexity': 1066, 'apex': 245, 'varies': 5060, 'accordance': 37, 'accompanied': 35, 'scan': 4178, 'direction': 1338, 'without': 5217, 'height': 2147, 'hand': 2103, 'kept': 2562, 'moving': 3076, 'probe': 3681, 'upward': 5022, 'downward': 1424, 'see': 4239, 'fig': 1812, 'using': 5038, 'negative': 3154, 'raster': 3841, 'surface': 4656, 'just': 2539, 'like': 2712, 'tool': 4841, 'usefulness': 5033, 'limitations': 2718, 'several': 4304, 'advantages': 91, 'electron': 1523, 'sem': 4256, 'disadvantage': 1341, 'compared': 915, 'single': 4386, 'size': 4403, 'speed': 4483, 'limitation': 2717, 'images': 2269, 'affected': 103, 'nonlinearity': 3201, 'hysteresis': 2239, 'creep': 1120, 'talk': 4715, 'axes': 382, 'software': 4432, 'enhancement': 1571, 'due': 1448, 'probes': 3682, 'cannot': 653, 'normally': 3203, 'steep': 4546, 'walls': 5144, 'overhangs': 3361, 'major': 2814, 'application': 252, 'besides': 482, 'imaging': 2270, 'spectroscopy': 4481, 'direct': 1336, 'interaction': 2399, 'forces': 1876, 'function': 1944, 'gap': 1958, 'result': 4028, 'curve': 1155, 'problems': 3684, 'technique': 4733, 'include': 2306, 'separation': 4274, 'need': 3150, 'low': 2776, 'stiffness': 4556, 'tend': 4749, 'snap': 4421, 'biophysics': 504, 'mechanical': 2912, 'properties': 3733, 'living': 2741, 'tissue': 4823, 'cells': 708, 'consists': 1005, 'end': 1553, 'specimen': 4480, 'operated': 3297, 'modes': 3026, 'depending': 1259, 'noted': 3220, 'nomenclature': 3197, 'repulsive': 3990, 'avoided': 374, 'amplitude': 200, 'modulation': 3031, 'frequency': 1924, 'settings': 4294, 'dragged': 1427, 'across': 52, 'contours': 1042, 'either': 1511, 'commonly': 904, 'required': 3995, 'ambient': 186, 'samples': 4151, 'develop': 1293, 'liquid': 2728, 'meniscus': 2939, 'layer': 2650, 'tapping': 4720, 'driven': 1435, 'oscillate': 3340, 'resonance': 4013, 'peak': 3459, 'applied': 254, 'contacting': 1024, 'oscillation': 3342, 'typically': 4949, 'lessens': 2684, 'damage': 1170, 'done': 1409, 'amount': 197, 'operating': 3298, 'phase': 3497, 'respect': 4016, 'driving': 1438, 'recorded': 3887, 'well': 5179, 'microscopy': 2969, 'suffer': 4627, 'degradation': 1234, 'sometimes': 4444, 'observed': 3245, 'numerous': 3235, 'scans': 4186, 'schemes': 4191, 'locked': 2754, 'track': 4862, 'servo': 4288, 'excitation': 1660, 'defined': 1227, 'changes': 735, 'regime': 3924, 'resolution': 4010, 'stiff': 4555, 'small': 4414, 'amplitudes': 201, 'ultra': 4957, 'vacuum': 5047, 'environment': 1587, 'sfm': 4310, 'type': 4944, 'spm': 4494, 'demonstrated': 1248, 'order': 3318, 'fractions': 1908, 'nanometer': 3121, 'times': 4817, 'diffraction': 1325, 'limit': 2716, 'afms': 106, 'mutual': 3106, 'for': 1873, 'reaction': 3858, 'imposes': 2298, 'dimensional': 1332, 'shape': 4317, 'topography': 4846, 'manipulation': 2830, 'controlled': 1055, 'simultaneous': 4380, 'acquisition': 50, 'topographical': 4845, 'locally': 2748, 'displayed': 1372, 'often': 3275, 'similarly': 4373, 'competitive': 925, 'technologies': 4735, 'difference': 1319, 'latter': 2639, 'lenses': 2678, 'irradiation': 2460, 'types': 4946, 'tunneling': 4935, 'field': 1810, 'snom': 4423, 'nsom': 3229, 'sted': 4545, 'spring': 4499, 'carried': 677, 'support': 4651, 'described': 1272, 'scale': 4176, 'phenomenon': 3498, 'transduced': 4875, 'macro': 2797, 'measures': 2911, 'displacement': 1370, 'converts': 1065, 'various': 5062, 'brought': 594, 'scanned': 4183, 'grid': 2066, 'historically': 2186, 'different': 1321, 'signals': 4360, 'computer': 950, 'invented': 2437, 'ibm': 2243, 'scientists': 4200, 'precursor': 3620, 'gerd': 1987, 'binnig': 502, 'heinrich': 2149, 'rohrer': 4091, 'early': 1469, 'research': 3997, 'zurich': 5277, 'earned': 1470, 'nobel': 3193, 'physics': 3511, 'commercially': 897, 'available': 371, 'wide': 5197, 'range': 3837, 'disciplines': 1349, 'natural': 3137, 'sciences': 4198, 'solid': 4438, 'semiconductor': 4258, 'science': 4197, 'technology': 4736, 'molecular': 3033, 'engineering': 1567, 'polymer': 3578, 'chemistry': 762, 'biology': 503, 'cell': 707, 'medicine': 2920, 'applications': 253, 'identification': 2251, 'atoms': 338, 'b': 384, 'evaluation': 1637, 'specific': 4478, 'atom': 336, 'study': 4597, 'arising': 282, 'arrangement': 292, 'cellular': 709, 'attempt': 343, 'distinguish': 1381, 'cancer': 649, 'normal': 3202, 'based': 425, 'hardness': 2117, 'evaluate': 1636, 'culture': 1145, 'variations': 5058, 'electric': 1520, 'potentials': 3607, 'conducting': 971, 'scanners': 4184, 'expands': 1682, 'contracts': 1046, 'proportionally': 3736, 'voltage': 5124, 'characterized': 745, 'ratio': 3848, 'piezo': 3520, 'movement': 3073, 'extends': 1715, 'per': 3468, 'volt': 5123, 'decreases': 1213, 'exponentially': 1703, 'swinging': 4678, 'protruding': 3751, 'holder': 2191, 'device': 1297, 'names': 3119, 'employing': 1544, 'name': 3116, 'manufactured': 2835, 'mems': 2937, 'close': 830, 'object': 3238, 'investigation': 2441, 'deflected': 1232, 'designed': 1276, 'detected': 1286, 'modified': 3028, 'mollie': 3035, 'considered': 998, 'east': 1475, 'indiana': 2322, 'northern': 3212, 'beneath': 474, 'soil': 4434, 'lies': 2705, 'trenton': 4902, 'oil': 3278, 'gas': 1962, 'responsible': 4021, 'future': 1951, 'harrison': 2123, 'township': 4859, 'flattened': 1847, 'glaciers': 2009, 'millions': 2984, 'ago': 124, 'centered': 712, 'railroad': 3817, 'stop': 4564, 'agriculture': 129, 'manufacturing': 2837, 'facility': 1729, 'tile': 4813, 'mill': 2982, 'other': 3344, 'businesses': 612, 'included': 2307, 'store': 4566, 'cider': 791, 'blacksmith': 517, 'shop': 4338, 'village': 5094, 'blackford': 516, 'county': 1100, 'intersection': 2418, 'roads': 4086, 'north': 3208, 'discovered': 1353, 'nearby': 3146, 'hartford': 2125, 'city': 801, 'participation': 3414, 'post': 3603, 'office': 3269, 'october': 3262, 'discontinued': 1350, 'mail': 2809, 'handled': 2107, 'war': 5149, 'army': 289, 'biplane': 507, 'forced': 1875, 'engine': 1566, 'failure': 1741, 'line': 2720, 'around': 291, 'interurban': 2420, 'running': 4126, 'parallel': 3399, 'at': 330, 'beginning': 459, 'gradually': 2045, 'came': 641, 'contributors': 1053, 'demise': 1243, 'concerned': 961, 'jacob': 2484, 'burnworth': 609, 'factory': 1736, 'smaller': 4415, 'factor': 1733, 'affect': 102, 'automobile': 366, 'population': 3587, 'people': 3467, 'community': 907, 'consisted': 1002, 'houses': 2217, 'occupied': 3255, 'farmland': 1766, 'owned': 3369, 'privately': 3671, 'her': 2159, 'writings': 5250, 'idea': 2249, 'binary': 500, 'opposition': 3308, 'men': 2938, 'women': 5224, 'overly': 3363, 'simplistic': 4378, 'feminists': 1795, 'found': 1898, 'present': 3634, 'illusion': 2263, 'unified': 4982, 'category': 691, 'full': 1942, 'subdivisions': 4607, 'lorde': 2768, 'identified': 2252, 'issues': 2472, 'race': 3806, 'age': 113, 'gender': 1971, 'even': 1638, 'health': 2136, 'added': 69, 'battled': 435, 'fundamental': 1946, 'female': 1792, 'experience': 1692, 'while': 5191, 'acknowledging': 49, 'differences': 1320, 'varied': 5059, 'works': 5236, 'subsets': 4619, 'primarily': 3653, 'sexuality': 4309, 'essay': 1613, 'erotic': 1606, 'collected': 861, 'sister': 4390, 'outsider': 3356, 'theorizes': 4773, 'site': 4394, 'learn': 2661, 'release': 3949, 'suppression': 4652, 'embrace': 1535, 'set': 4291, 'confront': 980, 'racism': 3807, 'feminist': 1794, 'thought': 4787, 'defines': 1228, 'sexism': 4307, 'ageism': 114, 'heterosexism': 2165, 'elitism': 1532, 'classism': 818, 'altogether': 174, 'explains': 1697, 'ism': 2465, 'privileged': 3674, 'superior': 4646, 'right': 4066, 'govern': 2038, 'anything': 243, 'else': 1533, 'black': 514, 'feminism': 1793, 'continues': 1039, 'examined': 1652, 'scholars': 4192, 'today': 4829, 'career': 669, 'collective': 865, 'identity': 2254, 'books': 541, 'callen': 632, 'center': 711, 'york': 5269, 'michael': 2966, 'audre': 355, 'dedicated': 1215, 'providing': 3757, 'medical': 2918, 'care': 668, 'lgbt': 2695, 'regard': 3918, 'ability': 12, 'pay': 3449, 'project': 3720, 'founded': 1900, 'brooklyn': 591, 'queer': 3793, 'award': 377, 'annual': 229, 'presented': 3635, 'publishing': 3773, 'triangle': 4906, 'lesbian': 2680, 'poetry': 3567, 'inducted': 2333, 'legacy': 2670, 'walk': 5142, 'outdoor': 3351, 'public': 3768, 'display': 1371, 'chicago': 765, 'illinois': 2262, 'celebrates': 706, 'born': 544, 'caribbean': 670, 'immigrants': 2276, 'barbados': 413, 'carriacou': 674, 'frederick': 1919, 'byron': 620, 'linda': 2719, 'gertrude': 1992, 'belmar': 471, 'settled': 4296, 'harlem': 2119, 'parents': 3402, 'difficult': 1323, 'young': 5270, 'child': 767, 'struggled': 4590, 'communication': 905, 'appreciate': 257, 'expression': 1710, 'she': 4322, 'attended': 347, 'college': 869, 'secondary': 4224, 'intellectually': 2391, 'gifted': 2000, 'graduated': 2046, 'spent': 4489, 'pivotal': 3528, 'mexico': 2963, 'period': 3479, 'affirmation': 104, 'renewal': 3965, 'writer': 5246, 'residence': 4002, 'tougaloo': 4851, 'mississippi': 3010, 'met': 2952, 'frances': 1913, 'clayton': 822, 'white': 5193, 'professor': 3708, 'psychology': 3764, 'romantic': 4097, 'formative': 1886, 'artist': 301, 'english': 1569, 'jay': 2494, 'criminal': 1124, 'justice': 2540, 'from': 1936, 'brief': 576, 'affair': 100, 'sculptor': 4211, 'painter': 3382, 'mildred': 2978, 'thompson': 4782, 'started': 4524, 'visiting': 5106, 'professorship': 3709, 'west': 5182, 'berlin': 479, 'because': 450, 'afro': 109, 'german': 1988, 'dagmar': 1164, 'schultz': 4196, 'put': 3786, 'documentary': 1401, 'highlight': 2174, 'chapter': 741, 'focused': 1861, 'discussion': 1360, 'conflicting': 979, 'within': 5216, 'conception': 957, 'layers': 2651, 'selfhood': 4250, 'replicated': 3973, 'multi': 3085, 'genres': 1983, 'published': 3771, 'regularly': 3933, 'langston': 2623, 'hughes': 2224, 'negro': 3156, 'poets': 3568, 'usa': 5028, 'anthologies': 235, 'magazines': 2803, 'cities': 799, 'volume': 5126, 'cables': 624, 'rage': 3814, 'mainly': 2811, 'tenure': 4750, 'poet': 3565, 'addressed': 73, 'themes': 4769, 'love': 2775, 'betrayal': 486, 'childbirth': 768, 'complexities': 936, 'raising': 3822, 'children': 769, 'nominated': 3199, 'book': 540, 'where': 5188, 'live': 2738, 'broadside': 585, 'shows': 4348, 'personal': 3489, 'struggles': 4591, 'anger': 217, 'injustice': 2363, 'volumes': 5127, 'coal': 843, 'influential': 2348, 'voice': 5113, 'arts': 302, 'norton': 3214, 'introducing': 2433, 'wider': 5199, 'audience': 353, 'unicorn': 4981, 'describes': 1273, 'mythos': 3111, 'african': 108, 'deities': 1236, 'creation': 1116, 'fertility': 1800, 'warrior': 5154, 'strength': 4574, 'open': 3293, 'grew': 2065, 'older': 3282, 'confident': 973, 'journals': 2518, 'derived': 1269, 'late': 2636, 'seventies': 4301, 'burst': 610, 'light': 2710, 'fiction': 1808, 'prose': 3740, 'preserve': 3637, 'explore': 1701, 'reflect': 3911, 'diagnosis': 1307, 'treatment': 4894, 'recovery': 3892, 'breast': 565, 'master': 2881, 'tools': 4842, 'will': 5204, 'dismantle': 1369, 'house': 2213, 'transformation': 4877, 'silence': 4369, 'language': 2624, 'action': 54, 'womanism': 5222, 'existence': 1670, 'naturally': 3138, 'opens': 3296, 'definitions': 1230, 'interpretations': 2416, 'actively': 58, 'strived': 4583, 'implementing': 2289, 'womanist': 5223, 'ideology': 2255, 'critique': 1127, 'explicitly': 1698, 'address': 72, 'homosexuality': 2200, 'contrary': 1048, 'sexual': 4308, 'awakening': 376, 'with': 5215, 'mindedness': 2990, 'society': 4430, 'significant': 4364, 'fourteen': 1903, 'laureate': 2641, 'died': 1318, 'liver': 2739, 'croix': 1128, 'gloria': 2014, 'musica': 3096, 'viva': 5111, 'inspiring': 2374, 'listen': 2731, 'create': 1112, 'music': 3095, 'bringing': 580, 'performances': 3475, 'primary': 3654, 'australia': 357, 'musician': 3098, 'classroom': 819, 'residency': 4003, 'sends': 4264, 'musicians': 3099, 'composers': 942, 'through': 4795, 'grants': 2054, 'funding': 1948, 'creates': 1114, 'projects': 3721, 'remote': 3961, 'disadvantaged': 1342, 'needs': 3152, 'guardian': 2079, 'interactive': 2401, 'whiteboards': 5194, 'ten': 4748, 'global': 2012, 'd': 1161, 'international': 2412, 'concert': 963, 'season': 4219, 'presents': 3636, 'great': 2059, 'chamber': 730, 'feature': 1781, 'orchestra': 3316, 'enlightenment': 1575, 'eighth': 1510, 'blackbird': 515, 'pacifica': 3374, 'quartet': 3790, 'sitkovetsky': 4395, 'trio': 4910, 'takacs': 4708, 'angela': 213, 'hewitt': 2166, 'piano': 3513, 'duo': 1452, 'nicolas': 3182, 'altstaedt': 175, 'aleksandar': 145, 'mad': 2798, 'ar': 265, 'featured': 1782, 'tafelmusik': 4704, 'eggner': 1506, 'modigliani': 3030, 'string': 4579, 'goldner': 2028, 'steven': 4553, 'isserlis': 2469, 'connie': 991, 'shih': 4329, 'fagiolini': 1739, 'lewis': 2693, 'maxim': 2889, 'vengerov': 5067, 'kelemen': 2557, 'brass': 560, 'quintet': 3800, 'choir': 774, 'king': 2581, 'cambridge': 640, 'imogen': 2278, 'cooper': 1072, 'borodin': 545, 'ray': 3850, 'chen': 764, 'timothy': 4818, 'karin': 2548, 'schaupp': 4188, 'pavel': 3448, 'steidl': 4547, 'morgenstern': 3058, 'christopher': 786, 'moore': 3054, 'tokyo': 4833, 'jian': 2503, 'wang': 5145, 'bernadette': 480, 'harvey': 2126, 'elias': 1529, 'academy': 26, 'ancient': 210, 'sara': 4162, 'macliver': 2796, 'diana': 1315, 'doherty': 1404, 'lawrence': 2645, 'dali': 1169, 'tak': 4707, 'cs': 1138, 'amarcord': 183, 'kuss': 2597, 'naoko': 3122, 'shimizu': 4331, 'anthony': 236, 'marwood': 2868, 'heritage': 2161, 'grounded': 2069, 'vision': 5104, 'man': 2824, 'romanian': 4096, 'violist': 5098, 'trained': 4870, 'vienna': 5085, 'once': 3286, 'expected': 1684, 'arrived': 295, 'answer': 232, 'persevered': 3487, 'formed': 1888, 'monomeeth': 3045, 'indigenous': 2328, 'australian': 358, 'word': 5228, 'peace': 3458, 'harmony': 2122, 'inspired': 2373, 'enormous': 1576, 'teacher': 4727, 'simon': 4374, 'pullman': 3775, 'determined': 1291, 'ensemble': 1579, 'sydney': 4682, 'verbrugghen': 5070, 'hall': 2096, 'conservatorium': 996, 'december': 1202, 'festival': 1801, 'held': 2150, 'biennially': 494, 'pinchas': 3524, 'zuckerman': 5276, 'lambert': 2616, 'orkis': 3337, 'benjamin': 477, 'beilman': 465, 'alice': 147, 'giles': 2001, 'bezaly': 489, 'hector': 2146, 'mcdonald': 2899, 'pieter': 3519, 'wispelwey': 5213, 'pekka': 3464, 'kuusisto': 2598, 'khatia': 2572, 'buniatishvili': 604, 'youth': 5272, 'coffee': 854, 'concerts': 964, 'melbourne': 2928, 'tuesday': 4926, 'mornings': 3059, 'kwon': 2599, 'choi': 772, 'songmakers': 4450, 'nikki': 3186, 'chooii': 775, 'amid': 194, 'farid': 1761, 'james': 2487, 'crabb': 1111, 'genevieve': 1979, 'lacey': 2610, 'piers': 3518, 'lane': 2620, 'breen': 568, 'caroline': 673, 'almonte': 161, 'tiffany': 4810, 'speight': 4484, 'david': 1185, 'mcnicol': 2901, 'oliver': 3283, 'compa': 908, 'ia': 2241, 'adam': 68, 'chalabi': 729, 'marshall': 2865, 'mcguire': 2900, 'synergy': 4692, 'percussion': 3470, 'geoffrey': 1984, 'collins': 871, 'emma': 1540, 'jane': 2489, 'murphy': 3091, 'howard': 2218, 'panny': 3394, 'tinalley': 4819, 'saguaro': 4140, 'symphony': 4690, 'friends': 1932, 'fernando': 1797, 'henrique': 2157, 'cardoso': 667, 'term': 4751, 'january': 2490, 'reelected': 3902, 'his': 2182, 'credited': 1119, 'stability': 4507, 'country': 1099, 'marred': 2860, 'hyperinflation': 2238, 'administration': 80, 'companies': 910, 'privatized': 3672, 'agencies': 115, 'regulate': 3934, 'industry': 2337, 'aviation': 373, 'etc': 1623, 'placed': 3531, 'focus': 1860, 'external': 1718, 'affairs': 101, 'political': 3574, 'liberalization': 2697, 'declining': 1210, 'contributed': 1051, 'brazil': 561, 'to': 4828, 'attack': 341, 'soaring': 4428, 'debt': 1197, 'figueiredo': 1814, 'stressed': 4576, 'food': 1870, 'resources': 4015, 'automobiles': 367, 'arms': 288, 'clothing': 832, 'shoes': 4335, 'electricity': 1522, 'petroleum': 3494, 'exploration': 1700, 'floundered': 1853, 'gdp': 1968, 'declined': 1209, 'accelerated': 27, 'rising': 4075, 'inflation': 2342, 'leadership': 2656, 'dilma': 1330, 'rousseff': 4106, 'worker': 5233, 'party': 3424, 'woman': 5221, 'elected': 1517, 'june': 2535, 'rouseff': 4105, 'announced': 226, 'labelled': 2605, 'brasil': 559, 'mis': 3002, 'ria': 4058, 'poverty': 3610, 'narrow': 3126, 'margin': 2846, 'far': 1759, 'failed': 1740, 'prevent': 3648, 'falling': 1751, 'luiz': 2782, 'cio': 794, 'lula': 2783, 'da': 1162, 'silva': 4371, 'pt': 3765, 'workers': 5234, 'presidency': 3639, 'vote': 5129, 'roberto': 4088, 'jefferson': 2498, 'chairman': 726, 'brazilian': 562, 'ptb': 3766, 'implicated': 2290, 'bribery': 572, 'loss': 2771, 'resulting': 4030, 'scandals': 4180, 'outweighed': 3357, 'voters': 5130, 'lower': 2777, 'whose': 5196, 'capita': 660, 'raised': 3821, 'consequence': 994, 'expansion': 1683, 'domestic': 1406, 'credit': 1118, 'consumers': 1021, 'welfare': 5178, 'programs': 3714, 'following': 1868, 'victory': 5084, 'approval': 261, 'fueled': 1939, 'continuity': 1040, 'economical': 1484, 'achievements': 47, 'obtained': 3249, 'record': 3886, 'military': 2980, 'mark': 2852, 'efforts': 1505, 'expand': 1679, 'influence': 2345, 'worldwide': 5240, 'specially': 4476, 'emerging': 1538, 'economies': 1486, 'participate': 3413, 'replaced': 3971, 'forum': 1896, 'discussions': 1361, 'demonstrations': 1249, 'clear': 823, 'rule': 4116, 'could': 1090, 'continue': 1037, 'tancredo': 4718, 'neves': 3170, 'minas': 2988, 'gerais': 1986, 'get': 1995, 'lio': 2727, 'dornelles': 1415, 'vargas': 5056, 'minister': 2998, 'former': 1889, 'federal': 1785, 'deputy': 1266, 'prime': 3655, 'seized': 4245, 'momentum': 3037, 'abilities': 11, 'allowed': 159, 'alliance': 154, 'pmdb': 3562, 'defectors': 1222, 'pds': 3457, 'liberal': 2696, 'front': 1937, 'pfl': 3496, 'candidate': 650, 'paulo': 3447, 'maluf': 2823, 'sarney': 4165, 'fulfilled': 1941, 'promise': 3725, 'passing': 3429, 'constitutional': 1016, 'amendment': 189, 'constitution': 1015, 'inherited': 2352, 'summon': 4640, 'elections': 1519, 'constituent': 1013, 'assembly': 320, 'powers': 3613, 'draft': 1426, 'enact': 1548, 'democratic': 1245, 'proclaimed': 3694, 'restored': 4026, 'civil': 802, 'rights': 4067, 'freedom': 1921, 'speech': 4482, 'prosecutors': 3742, 'minist': 2997, 'rio': 4071, 'p': 3372, 'blico': 521, 'universal': 4993, 'transition': 4879, 'suffered': 4628, 'stagnancy': 4512, 'decrease': 1212, 'achieving': 48, 'month': 3049, 'presidential': 3641, 'election': 1518, 'round': 4104, 'collor': 874, 'agenda': 117, 'fighting': 1813, 'corruption': 1086, 'completing': 934, 'civilian': 803, 'lifting': 2709, 'import': 2294, 'barriers': 419, 'exposing': 1707, 'local': 2746, 'parliamentary': 3407, 'win': 5208, 'reliable': 3952, 'base': 423, 'congress': 983, 'lose': 2770, 'accused': 43, 'pedro': 3463, 'condoning': 968, 'peddling': 3462, 'scheme': 4190, 'campaign': 643, 'treasurer': 4890, 'sar': 4161, 'farias': 1760, 'congressional': 984, 'inquiry': 2369, 'released': 3950, 'proven': 3753, 'expenses': 1690, 'paid': 3381, 'vice': 5081, 'itamar': 2480, 'franco': 1915, 'assumed': 329, 'remainder': 3957, 'moved': 3072, 'arrangements': 293, 'coalition': 845, 'leaders': 2655, 'psdb': 3763, 'stabilization': 4508, 'plano': 3542, 'annually': 230, 'votes': 5131, 'jo': 2505, 'signed': 4361, 'amnesty': 195, 'law': 2644, 'turned': 4940, 'geisel': 1969, 'distens': 1377, 'gradual': 2044, 'abertura': 9, 'opening': 3295, 'saying': 4175, 'goal': 2017, 'make': 2816, 'democracy': 1244, 'process': 3688, 'towards': 4856, 'culminated': 1141, 'adoption': 86, 'troubled': 4917, 'hard': 2115, 'liners': 2723, 'reacted': 3857, 'series': 4277, 'terrorist': 4757, 'bombings': 536, 'spain': 4466, 'visit': 5105, 'united': 4992, 'kingdom': 2582, 'beatrice': 447, 'daughter': 1184, 'biarritz': 492, 'stayed': 4541, 'villa': 5093, 'mauriscot': 2887, 'days': 1187, 'alfonso': 146, 'marriage': 2861, 'agreements': 127, 'treaty': 4896, 'private': 3670, 'contractual': 1047, 'concern': 960, 'victoria': 5083, 'eug': 1629, 'nie': 3183, 'conversion': 1062, 'protestants': 3748, 'accommodated': 34, 'decision': 1205, 'grant': 2051, 'consent': 993, 'privy': 3676, 'council': 1091, 'niece': 3184, 'subject': 4609, 'eugenie': 1630, 'grandson': 2050, 'felipe': 1788, 'vi': 5076, 'cartier': 680, 'tiara': 4806, 'diamonds': 1314, 'pearls': 3461, 'emeralds': 1537, 'left': 2668, 'infanta': 2340, 'maria': 2848, 'cristina': 1125, 'countess': 1096, 'marone': 2859, 'sapphire': 4160, 'ring': 4069, 'sold': 4435, 'sotheby': 4455, 'balmoral': 399, 'castle': 686, 'scotland': 4207, 'prince': 3656, 'henry': 2158, 'morganatic': 3057, 'style': 4602, 'battenberg': 433, 'queen': 3792, 'monarch': 3038, 'reluctantly': 3955, 'marry': 2864, 'remain': 3956, 'companion': 911, 'secretary': 4226, 'father': 1771, 'active': 57, 'service': 4285, 'contracting': 1044, 'fever': 1806, 'africa': 107, 'spanish': 4467, 'royal': 4110, 'exile': 1667, 'municipal': 3090, 'republicans': 3989, 'leading': 2657, 'proclamation': 3695, 'republic': 3987, 'gathered': 1964, 'rome': 4099, 'baptism': 409, 'palazzo': 3385, 'malta': 2822, 'juan': 2521, 'eldest': 1516, 'infante': 2341, 'carlos': 672, 'vatican': 5065, 'cardinal': 666, 'eugenio': 1631, 'pacelli': 3373, 'stood': 4563, 'dying': 1458, 'pope': 3584, 'pius': 3527, 'xi': 5258, 'become': 451, 'xii': 5259, 'months': 3050, 'briefly': 577, 'stand': 4515, 'godmother': 2023, 'sophia': 4453, 'greece': 2062, 'denmark': 1253, 'married': 2862, 'xiii': 5260, 'monastery': 3039, 'san': 4152, 'jer': 2499, 'nimo': 3187, 'madrid': 2800, 'after': 110, 'wedding': 5171, 'ceremony': 717, 'procession': 3691, 'heading': 2133, 'back': 389, 'palace': 3384, 'assassination': 317, 'inauspicious': 2302, 'start': 4523, 'isolated': 2466, 'unpopular': 5005, 'births': 511, 'deteriorated': 1289, 'devoted': 1300, 'hospitals': 2208, 'poor': 3582, 'education': 1495, 'dame': 1172, 'luisa': 2781, 'linguistic': 2725, 'khmer': 2575, 'divides': 1394, 'periods': 3481, 'old': 3281, 'subdivided': 4606, 'pre': 3617, 'angkorian': 219, 'conventionally': 1060, 'accepted': 30, 'historical': 2185, 'stages': 4511, 'transitional': 4880, 'represented': 3983, 'middle': 2971, 'cambodia': 637, 'fell': 1789, 'colonialism': 877, 'native': 3136, 'led': 2665, 'monk': 3044, 'chuon': 789, 'nath': 3130, 'resisted': 4009, 'thai': 4763, 'influences': 2347, 'spoken': 4495, 'million': 2983, 'dialects': 1312, 'mutually': 3107, 'intelligible': 2392, 'marked': 2853, 'classification': 815, 'showing': 4346, 'standard': 4516, 'taught': 4723, 'cambodian': 638, 'dialect': 1311, 'plain': 3537, 'encompassed': 1549, 'northwest': 3213, 'provinces': 3759, 'surin': 4659, 'border': 543, 'northeast': 3209, 'thailand': 4764, 'western': 5183, 'cardamom': 665, 'chanthaburi': 738, 'mountain': 3068, 'extending': 1714, 'eastern': 1478, 'phnom': 3502, 'penh': 3466, 'areas': 277, 'krom': 2594, 'southern': 4463, 'mekong': 2927, 'delta': 1241, 'formerly': 1890, 'vietnam': 5086, 'khe': 2574, 'se': 4214, 'srepok': 4503, 'sekong': 4247, 'river': 4078, 'valleys': 5052, 'sesan': 4289, 'siem': 4357, 'pang': 3392, 'districts': 1388, 'stung': 4599, 'treng': 4901, 'province': 3758, 'phonological': 3505, 'inventory': 2439, 'sounds': 4457, 'appropriate': 260, 'symbols': 4689, 'phonetic': 3504, 'alphabet': 165, 'ipa': 2454, 'voiceless': 5115, 'plosives': 3556, 'aspiration': 314, 'vs': 5136, 'contrastive': 1050, 'vowel': 5134, 'voiced': 5114, 'pronounced': 3728, 'implosives': 2293, 'speakers': 4472, 'weak': 5167, 'educated': 1494, 'syllable': 4684, 'approach': 258, 'respectively': 4017, 'addition': 70, 'consonants': 1009, 'occasionally': 3252, 'recent': 3879, 'loan': 2743, 'words': 5229, 'cambodians': 639, 'familiar': 1755, 'languages': 2625, 'authors': 363, 'proposed': 3737, 'slightly': 4411, 'analyses': 203, 'diphthongs': 1334, 'triphthongs': 4911, 'analyzed': 205, 'nucleus': 3230, 'plus': 3560, 'semivowel': 4260, 'coda': 851, 'followed': 1867, 'consonant': 1008, 'begins': 460, 'cluster': 836, 'rarely': 3840, 'slight': 4410, 'epenthesis': 1589, 'clusters': 837, 'consisting': 1004, 'plosive': 3555, 'comes': 888, 'syllabic': 4683, 'vowels': 5135, 'listed': 2730, 'minor': 2999, 'unstressed': 5011, 'preceding': 3619, 'structure': 4588, 'cv': 1158, 'crv': 1134, 'cvn': 1159, 'crvn': 1135, 'v': 5046, 'n': 3112, 'nasal': 3127, 'stress': 4575, 'falls': 1752, 'most': 3062, 'consist': 1001, 'syllables': 4685, 'compounds': 945, 'mostly': 3063, 'loanwords': 2744, 'usually': 5039, 'pali': 3388, 'sanskrit': 4158, 'patterns': 3445, 'phonation': 3503, 'distinction': 1379, 'survives': 4661, 'archaic': 270, 'tonal': 4837, 'colloquial': 872, 'contrast': 1049, 'versus': 5073, 'peaking': 3460, 'tone': 4838, 'compensate': 919, 'elision': 1530, 'intonation': 2428, 'conveys': 1068, 'semantic': 4257, 'context': 1032, 'distinguishing': 1383, 'declarative': 1207, 'statements': 4530, 'questions': 3797, 'exclamations': 1661, 'pattern': 3444, 'typical': 4948, 'phrase': 3508, 'steady': 4543, 'abrupt': 18, 'drop': 1439, 'want': 5147, 'signify': 4367, 'doubt': 1420, 'interrogative': 2417, 'similar': 4372, 'yes': 5265, 'reap': 3868, 'exclamatory': 1662, 'phrases': 3509, 'follow': 1866, 'steadily': 4542, 'sharply': 4321, 'instead': 2378, 'expensive': 1691, 'analytic': 204, 'inflection': 2344, 'lexical': 2694, 'categories': 690, 'define': 1226, 'isolating': 2467, 'little': 2737, 'morphology': 3060, 'compounding': 944, 'derivational': 1267, 'takes': 4711, 'forms': 1892, 'repetitive': 3970, 'nouns': 3224, 'inflect': 2343, 'grammatical': 2048, 'singular': 4388, 'plural': 3559, 'classifying': 817, 'particles': 3416, 'numerals': 3234, 'always': 179, 'obligatory': 3242, 'chinese': 771, 'dropped': 1440, 'possession': 3599, 'colloquially': 873, 'pronouns': 3729, 'register': 3927, 'choice': 773, 'pronoun': 3727, 'perceived': 3469, 'relationships': 3946, 'speaker': 4471, 'referent': 3907, 'registers': 3929, 'adjectives': 77, 'verbs': 5071, 'verb': 5068, 'nominalization': 3198, 'demonstratives': 1250, 'noun': 3223, 'modify': 3029, 'degrees': 1235, 'comparison': 916, 'constructed': 1017, 'syntactically': 4693, 'divided': 1393, 'auxiliary': 369, 'adjectival': 76, 'equivalent': 1602, 'syntax': 4694, 'rules': 4118, 'describe': 1271, 'sentences': 4272, 'particular': 3417, 'relate': 3940, 'clauses': 821, 'sentence': 4271, 'convey': 1067, 'meaning': 2902, 'optional': 3311, 'topic': 4844, 'predicate': 3622, 'adverbials': 94, 'indirect': 2329, 'markers': 2854, 'preferred': 3624, 'sv': 4667, 'do': 1397, 'io': 2452, 'ordering': 3320, 'objects': 3239, 'changed': 734, 'clarified': 809, 'inclusion': 2310, 'discourse': 1352, 'osv': 3343, 'possible': 3601, 'emphasizing': 1542, 'comment': 894, 'particle': 3415, 'attributes': 351, 'formal': 1882, 'precedes': 3618, 'follows': 1869, 'attribute': 350, 'completely': 933, 'uninflected': 4985, 'translates': 4882, 'copula': 1077, 'negation': 3153, 'achieved': 46, 'putting': 3787, 'clause': 820, 'imperatives': 2285, 'unmarked': 5001, 'prohibitives': 3718, 'take': 4709, 'softened': 4431, 'contexts': 1033, 'polite': 3573, 'passive': 3431, 'utilizing': 5043, 'hit': 2188, 'correct': 1083, 'undergo': 4965, 'results': 4031, 'translated': 4881, 'likely': 2714, 'immediately': 2274, 'head': 2130, 'counting': 1097, 'biquinary': 508, 'numbers': 3233, 'principal': 3658, 'gives': 2007, 'digits': 1328, 'spelling': 4486, 'transcription': 4874, 'ordinal': 3322, 'placing': 3535, 'corresponding': 1084, 'gist': 2003, 'diagnostic': 1308, 'significantly': 4365, 'basis': 428, 'particularly': 3418, 'kit': 2584, 'definition': 1229, 'clinical': 829, 'pathways': 3441, 'largely': 2629, 'uninformative': 4986, 'era': 1603, 'ct': 1140, 'undertaken': 4968, 'radiology': 3812, 'definitive': 1231, 'biopsy': 505, 'endoscopically': 1557, 'percutaneously': 3471, 'ultrasound': 4958, 'guidance': 2083, 'surgery': 4657, 'suspected': 4663, 'opposed': 3306, 'causes': 698, 'tumors': 4930, 'pathologist': 3439, 'immunohistochemistry': 2277, 'antibodies': 238, 'stain': 4513, 'molecule': 3034, 'cd': 703, 'suspicion': 4665, 'remains': 3959, 'tumor': 4929, 'newer': 3172, 'antibody': 239, 'dog': 1402, 'purpose': 3785, 'radiologic': 3811, 'locate': 2749, 'lesion': 2681, 'signs': 4368, 'invasion': 2436, 'metastasis': 2957, 'radiographs': 3810, 'helpful': 2155, 'gists': 2004, 'barium': 416, 'fluoroscopic': 1858, 'examinations': 1651, 'patient': 3442, 'abdominal': 6, 'complaints': 930, 'modalities': 3019, 'mri': 3078, 'selected': 4248, 'situations': 4399, 'endoscopic': 1556, 'arise': 280, 'bowel': 551, 'muscularis': 3093, 'propria': 3739, 'deeper': 1219, 'mucosa': 3082, 'submucosa': 4614, 'luminal': 2784, 'perspective': 3492, 'suggest': 4632, 'submucosal': 4615, 'mass': 2877, 'wall': 5143, 'grows': 2075, 'outside': 3355, 'exophytic': 1677, 'growth': 2076, 'inside': 2372, 'intraluminal': 2430, 'grow': 2073, 'exophytically': 1678, 'bulk': 602, 'cavity': 700, 'malignancy': 2821, 'metastases': 2956, 'omentum': 3284, 'peritoneum': 3484, 'localized': 2747, 'resectable': 3999, 'adult': 87, 'anatomically': 208, 'physiologically': 3512, 'feasible': 1780, 'radiotherapy': 3813, 'effective': 1498, 'respond': 4018, 'chemotherapy': 763, 'medications': 2919, 'less': 2683, 'imatinib': 2271, 'glivec': 2011, 'gleevec': 2010, 'orally': 3314, 'administered': 79, 'drug': 1441, 'marketed': 2856, 'chronic': 787, 'myelogenous': 3109, 'leukemia': 2689, 'bcr': 441, 'abl': 13, 'inhibition': 2353, 'inhibits': 2355, 'tyrosine': 4950, 'kinase': 2580, 'mutations': 3104, 'pdgfra': 3456, 'treating': 4893, 'approved': 262, 'metastatic': 2958, 'unresectable': 5009, 'us': 5027, 'fda': 1778, 'resistance': 4008, 'encountered': 1551, 'multiple': 3087, 'inhibitor': 2354, 'sunitinib': 4643, 'sutent': 4666, 'effectiveness': 1500, 'depend': 1257, 'genotype': 1981, 'regorafenib': 3930, 'stivarga': 4558, 'surgically': 4658, 'removed': 3962, 'longer': 2761, 'majority': 2815, 'ages': 119, 'rare': 3839, 'connective': 989, 'sarcomas': 4163, 'unlike': 5000, 'gastrointestinal': 1963, 'epithelial': 1592, 'interstitial': 2419, 'cajal': 626, 'icc': 2245, 'autonomic': 368, 'nervous': 3161, 'intestine': 2426, 'approximately': 263, 'associated': 326, 'abnormal': 15, 'pathway': 3440, 'comprises': 948, 'extracellular': 1720, 'domain': 1405, 'transmembrane': 4884, 'segment': 4244, 'intracellular': 2429, 'exons': 1676, 'gene': 1972, 'point': 3569, 'exon': 1675, 'targeted': 4722, 'therapy': 4775, 'drugs': 1442, 'mesylate': 2951, 'del': 1238, 'subset': 4618, 'stromal': 4584, 'previously': 3651, 'wild': 5202, 'carries': 678, 'somatic': 4440, 'activating': 56, 'wildtype': 5203, 'lesser': 2685, 'appear': 247, 'neither': 3158, 'pdgfr': 3455, 'abnormalities': 16, 'court': 1105, 'hears': 2139, 'variety': 5061, 'cases': 684, 'mandatory': 2827, 'discretionary': 1357, 'appeals': 246, 'courts': 1106, 'supreme': 4653, 'jurisdiction': 2536, 'review': 4047, 'trial': 4903, 'administrative': 81, 'instituted': 2379, 'judges': 2523, 'expedited': 1685, 'jx': 2542, 'summary': 4637, 'procedure': 3685, 'reduce': 3898, 'requiring': 3996, 'oral': 3313, 'argument': 278, 'chief': 766, 'associate': 325, 'justices': 2541, 'senior': 4265, 'nadeau': 3113, 'resignation': 4006, 'letter': 2688, 'governor': 2042, 'lynch': 2789, 'announcing': 228, 'retirement': 4035, 'ii': 2260, 'article': 298, 'states': 4531, 'judicial': 2527, 'officers': 3270, 'shall': 4316, 'executive': 1664, 'hold': 2190, 'offices': 3271, 'good': 2031, 'behavior': 463, 'unless': 4999, 'otherwise': 3346, 'assigned': 323, 'sit': 4392, 'temporarily': 4746, 'authority': 362, 'hear': 2137, 'arguments': 279, 'render': 3964, 'decisions': 1206, 'file': 1817, 'opinions': 3304, 'advisory': 98, 'committee': 902, 'members': 2933, 'considers': 1000, 'suggestions': 4633, 'governing': 2039, 'ethics': 1625, 'statutes': 4538, 'relating': 3942, 'ethical': 1624, 'conduct': 969, 'advise': 97, 'evidence': 1645, 'faith': 1745, 'disciplined': 1348, 'inquire': 2368, 'investigate': 2440, 'alleged': 153, 'misconduct': 3003, 'judge': 2522, 'referee': 3906, 'stenographer': 4548, 'reporter': 3978, 'clerk': 826, 'probate': 3680, 'persons': 3491, 'performing': 3478, 'duties': 1455, 'attorney': 349, 'discipline': 1347, 'effect': 1497, 'improve': 2300, 'effort': 1504, 'protect': 3744, 'client': 828, 'guarantee': 2077, 'lawyers': 2648, 'fair': 1743, 'bokowsky': 533, 'h': 2091, 'hampshire': 2102, 'enter': 1580, 'nolle': 3196, 'prosequi': 3743, 'prosecutions': 3741, 'initiated': 2358, 'officials': 3274, 'merrill': 2946, 'sherburne': 4325, 'judicature': 2526, 'ruled': 4117, 'practice': 3615, 'give': 2005, 'trials': 4905, 'certain': 718, 'unconstitutional': 4963, 'revolution': 4051, 'mortgage': 3061, 'specialists': 4474, 'inc': 2303, 'implode': 2292, 'explode': 1699, 'heavy': 2144, 'industries': 2336, 'internet': 2414, 'news': 3173, 'outlets': 3352, 'treated': 4892, 'traditional': 4866, 'print': 3661, 'legal': 2671, 'privileges': 3675, 'granted': 2052, 'journalists': 2517, 'wentworth': 5181, 'prescribed': 3631, 'charge': 747, 'instruct': 2381, 'jury': 2538, 'issue': 2470, 'reasonable': 3870, 'upheld': 5017, 'u': 4951, 'circuit': 795, 'tsoumas': 4924, 'f': 1724, 'aubert': 352, 'reversed': 4046, 'conviction': 1070, 'alternate': 170, 'instruction': 2382, 'indicated': 2324, 'depart': 1255, 'sweezy': 4676, 'citing': 800, 'fourteenth': 1904, 'contempt': 1031, 'finding': 1832, 'subversive': 4621, 'person': 3488, 'refused': 3917, 'subsequently': 4617, 'chaplinsky': 740, 'representatives': 3982, 'grand': 2049, 'inquest': 2367, 'impeachments': 2282, 'heard': 2138, 'senate': 4262, 'impeachment': 2281, 'commenced': 893, 'woodbury': 5226, 'langdon': 2621, 'portsmouth': 3595, 'conducted': 970, 'adopt': 84, 'hr': 2220, 'recommending': 3884, 'brock': 586, 'authored': 361, 'sent': 4270, 'resolutions': 4011, 'sherman': 4326, 'horton': 2207, 'jr': 2520, 'broderick': 587, 'determine': 1290, 'impeachable': 2280, 'convict': 1069, 'colony': 879, 'temporary': 4747, 'legislature': 2676, 'existing': 1671, 'amended': 188, 'establish': 1616, 'abolished': 17, 'statute': 4537, 'making': 2818, 'efficient': 1502, 'giving': 2008, 'branch': 556, 'consolidated': 1007, 'biennial': 493, 'budget': 598, 'commission': 898, 'jcc': 2496, 'totally': 4850, 'staff': 4510, 'space': 4465, 'shopping': 4339, 'carts': 682, 'combination': 884, 'plastic': 3544, 'nest': 3162, 'facilitate': 1728, 'collecting': 862, 'storage': 4565, 'injured': 2362, 'fitted': 1843, 'wheels': 5186, 'wheel': 5185, 'jams': 2488, 'cart': 679, 'handle': 2106, 'alternative': 171, 'basket': 429, 'past': 3436, 'studies': 4594, 'retailers': 4032, 'offer': 3266, 'sears': 4218, 'sales': 4147, 'supermarket': 4647, 'chain': 723, 'tesco': 4758, 'trialed': 4904, 'user': 5034, 'adjustable': 78, 'heart': 2140, 'rate': 3842, 'monitoring': 3043, 'calorie': 636, 'hardware': 2118, 'raise': 3820, 'awareness': 380, 'source': 4459, 'pathogens': 3438, 'researchers': 3998, 'prototypes': 3750, 'computerized': 951, 'aware': 379, 'attaching': 340, 'tablet': 4702, 'ordinary': 3323, 'some': 4441, 'target': 4721, 'begun': 461, 'fully': 1943, 'recycled': 3895, 'axles': 383, 'design': 1274, 'countries': 1098, 'customer': 1157, 'deposit': 1262, 'inserting': 2371, 'coin': 856, 'token': 4831, 'card': 664, 'returns': 4041, 'designated': 1275, 'parking': 3405, 'almost': 162, 'ubiquitous': 4952, 'continental': 1035, 'europe': 1634, 'canada': 647, 'chains': 724, 'aldi': 143, 'systems': 4697, 'compulsory': 949, 'coins': 858, 'value': 5053, 'sell': 4254, 'tokens': 4832, 'charity': 752, 'airports': 137, 'luggage': 2780, 'profit': 3710, 'opportunity': 3305, 'theft': 4768, 'costly': 1089, 'problem': 3683, 'stores': 4567, 'america': 190, 'utilize': 5041, 'retrieval': 4037, 'collects': 868, 'premises': 3627, 'fee': 1786, 'electronic': 1524, 'tech': 4731, 'prevention': 3649, 'utilizes': 5042, 'impediment': 2284, 'vertical': 5074, 'posts': 3605, 'taken': 4710, 'lot': 2774, 'mount': 3067, 'pole': 3570, 'taller': 4717, 'onto': 3291, 'block': 522, 'exit': 1673, 'cattle': 694, 'supermarkets': 4648, 'lock': 2753, 'mounted': 3069, 'connecting': 986, 'nested': 3163, 'corral': 1082, 'invention': 2438, 'sylvan': 4686, 'goldman': 2027, 'owner': 3370, 'humpty': 2229, 'dumpty': 1449, 'oklahoma': 3280, 'catch': 689, 'innovator': 2366, 'orla': 3338, 'watson': 5162, 'rear': 3869, 'door': 1412, 'allow': 158, 'nesting': 3164, 'bessie': 483, 'decamp': 1200, 'seat': 4220, 'belt': 473, 'chairs': 728, 'carriages': 676, 'devised': 1299, 'telescoping': 4739, 'disassembly': 1344, 'parts': 3423, 'unfolded': 4978, 'folding': 1863, 'chair': 725, 'owing': 3368, 'overwhelming': 3367, 'manufacturers': 2836, 'desired': 1278, 'exclusive': 1663, 'license': 2702, 'issued': 2471, 'driverless': 1436, 'chaotic': 739, 'moon': 3053, 'labs': 2609, 'carriage': 675, 'england': 1568, 'barrae': 418, 'coohudder': 1071, 'places': 3534, 'wagon': 5139, 'hawaii': 2128, 'he': 2129, 'indian': 2321, 'collector': 867, 'pune': 3776, 'commissioner': 899, 'india': 2320, 'maldives': 2819, 'march': 2845, 'currently': 1152, 'consul': 1019, 'response': 4019, 'swachh': 4668, 'bharat': 490, 'abhiyan': 10, 'narendra': 3123, 'modi': 3027, 'mulay': 3084, 'consulate': 1020, 'nokarshahiche': 3195, 'rang': 3836, 'autobiographical': 365, 'experiences': 1694, 'gyanbachi': 2089, 'mekh': 2926, 'subjects': 4611, 'covered': 1108, 'tourism': 4853, 'russia': 4128, 'navya': 3141, 'dishanche': 1365, 'amantran': 182, 'examines': 1653, 'portray': 3592, 'firsthand': 1838, 'rahila': 3816, 'gaon': 1957, 'poem': 3563, 'stretches': 4577, 'stanzas': 4519, 'rhyme': 4056, 'maati': 2792, 'pankh': 3393, 'aani': 2, 'aakash': 1, 'novel': 3226, 'marathi': 2844, 'true': 4919, 'story': 4569, 'regarding': 3920, 'polity': 3576, 'jonaki': 2513, 'passionate': 3430, 'sensitive': 4268, 'mind': 2989, 'trying': 4923, 'hidden': 2170, 'meanings': 2903, 'cultural': 1144, 'happenings': 2114, 'column': 883, 'loksatta': 2759, 'badalate': 392, 'vishwa': 5102, 'badalata': 391, 'vishwachi': 5103, 'maze': 2896, 'ghar': 1997, 'sakal': 4145, 'wrote': 5253, 'sadhana': 4137, 'weekly': 5174, 'contributes': 1052, 'hindu': 2180, 'pages': 3380, 'articles': 299, 'hindi': 2179, 'daily': 1165, 'dainik': 1166, 'bhaskar': 491, 'human': 2226, 'periodicals': 3480, 'japanese': 2492, 'lokmat': 2758, 'maharashtra': 2808, 'antarnad': 234, 'portions': 3591, 'writing': 5249, 'text': 4761, 'karnataka': 2550, 'japan': 2491, 'boards': 528, 'sahitya': 4141, 'akademi': 138, 'ritu': 4077, 'ug': 4954, 'rahi': 3815, 'hai': 2092, 'andar': 211, 'ek': 1512, 'asmaan': 312, 'urdu': 5025, 'ke': 2553, 'khalihanomein': 2569, 'subah': 4604, 'ki': 2576, 'hoti': 2211, 'nahin': 3115, 'situation': 4398, 'lat': 2635, 'kolhapur': 2591, 'district': 1387, 'risen': 4074, 'manohar': 2833, 'krishna': 2593, 'farmer': 1763, 'tailor': 4706, 'akkatai': 139, 'homemaker': 2198, 'completed': 932, 'graduation': 2047, 'shahaji': 4314, 'chattrapati': 756, 'topped': 4847, 'shivaji': 4334, 'ba': 385, 'literature': 2735, 'prestigious': 3645, 'dhananjay': 1303, 'keer': 2556, 'during': 1454, 'difficulties': 1324, 'find': 1831, 'aspired': 315, 'join': 2510, 'meanwhile': 2906, 'topper': 4848, 'mumbai': 3089, 'personnel': 3490, 'management': 2826, 'peter': 3493, 'alvarez': 178, 'medal': 2915, 'scoring': 4204, 'rank': 3838, 'mpsc': 3077, 'examination': 1650, 'succeeded': 4622, 'union': 4987, 'upsc': 5021, 'coveted': 1109, 'unit': 4991, 'vaguely': 5048, 'resembled': 4001, 'huge': 2222, 'washer': 5158, 'dryer': 1443, 'predecessor': 3621, 'ran': 3835, 'volts': 5125, 'ac': 25, 'needed': 3151, 'ipled': 2455, 'models': 3022, 'dealt': 1193, 'additional': 71, 'frame': 1910, 'drives': 1437, 'compact': 909, 'market': 2855, 'channel': 737, 'attached': 339, 'desktop': 1279, 'dasd': 1178, 'effectively': 1499, 'allowing': 160, 'maximum': 2890, 'mb': 2897, 'pc': 3454, 'informally': 2349, 'baby': 386, 'california': 628, 'products': 3705, 'positioned': 3597, 'replacement': 3972, 'entry': 1585, 'stripped': 4582, 'ocl': 3261, 'rpg': 4111, 'os': 3339, 'bought': 548, 'ssp': 4505, 'marketplace': 2857, 'unrecognizable': 5008, 'by': 619, 'offered': 3267, 'guest': 2081, 'sixteen': 4401, 'bit': 512, 'processors': 3693, 'csp': 1139, 'processor': 3692, 'msp': 3080, 'busy': 613, 'labeled': 2604, 'panel': 3391, 'hexadecimal': 2168, 'leds': 2666, 'smallest': 4416, 'k': 2543, 'ram': 3829, 'drive': 1434, 'largest': 2630, 'configured': 976, 'disk': 1367, 'organized': 3330, 'blocks': 523, 'compile': 927, 'kb': 2552, 'large': 2628, 'virtual': 5099, 'memory': 2936, 'manner': 2832, 'swap': 4672, 'popular': 3585, 'business': 611, 'shipped': 4332, 'department': 1256, 'antitrust': 240, 'lawsuit': 2647, 'claiming': 807, 'unlawful': 4998, 'practices': 3616, 'knock': 2587, 'competitors': 926, 'virtually': 5100, 'sda': 4213, 'though': 4786, 'code': 852, 'incompatible': 2312, 'command': 891, 'simpler': 4376, 'menus': 2943, 'simplified': 4377, 'keys': 2568, 'indicators': 2327, 'ka': 2544, 'ky': 2600, 'invisible': 2444, 'characters': 746, 'company': 912, 'amalgamated': 180, 'asna': 313, 'third': 4780, 'compiler': 929, 'password': 3434, 'security': 4236, 'resource': 4014, 'access': 31, 'devices': 1298, 'mile': 2979, 'users': 5036, 'dial': 1310, 'anywhere': 244, 'baud': 436, 'connection': 987, 'fast': 1769, 'responsive': 4022, 'connections': 988, 'graphics': 2057, 'databases': 1181, 'bulletproof': 603, 'reboots': 3874, 'ipls': 2456, 'ended': 1554, 'forward': 1897, 'badge': 393, 'implemented': 2288, 'stripe': 4581, 'reader': 3862, 'terminal': 4752, 'begin': 458, 'session': 4290, 'id': 2248, 'menu': 2942, 'secedit': 4222, 'ids': 2256, 'passwords': 3435, 'library': 2699, 'folder': 1862, 'group': 2071, 'userid': 5035, 'confine': 977, 'operational': 3300, 'contiguous': 1034, 'fixed': 1845, 'contain': 1026, 'extent': 1717, 'roughly': 4103, 'reorganized': 3968, 'extended': 1713, 'allocated': 157, 'files': 1818, 'sequential': 4276, 'indexed': 2319, 'distributed': 1385, 'data': 1179, 'architecture': 273, 'ddm': 1189, 'interface': 2407, 'graphical': 2056, 'interfaces': 2408, 'windows': 5209, 'interacting': 2398, 'commands': 892, 'typed': 4945, 'pressed': 3644, 'mouse': 3070, 'click': 827, 'cmd': 838, 'icon': 2247, 'rec': 3875, 'adv': 88, 'experienced': 1693, 'know': 2588, 'alt': 168, 'key': 2563, 'keypad': 2567, 'unavailable': 4960, 'keyboards': 2565, 'accented': 28, 'graphic': 2055, 'box': 552, 'fortran': 1895, 'cobol': 849, 'dfu': 1302, 'subroutine': 4616, 'wsu': 5254, 'formats': 1887, 'digit': 1326, 'assembler': 319, 'routine': 4108, 'programming': 3713, 'essential': 1615, 'workstation': 5237, 'interchangeably': 2402, 'thing': 4778, 'ones': 3288, 'evolved': 1649, 'mid': 2970, 'compatible': 917, 'served': 4283, 'emulators': 1546, 'predominated': 3623, 'dual': 1444, 'green': 2064, 'interestingly': 2405, 'colors': 881, 'implementation': 2287, 'unfortunately': 4979, 'extensive': 1716, 'confusing': 981, 'terminals': 4753, 'keyboard': 2564, 'clunky': 835, 'weighed': 5176, 'pounds': 3609, 'daisywheel': 1168, 'printer': 3663, 'typewriters': 4947, 'band': 403, 'lines': 2724, 'minute': 3001, 'lpm': 2778, 'dot': 1419, 'matrix': 2884, 'printers': 3664, 'workstations': 5238, 'switches': 4680, 'dip': 1333, 'gone': 2030, 'status': 4536, 'quo': 3803, 'online': 3290, 'setup': 4297, 'up': 5016, 'eight': 1509, 'numbered': 3232, 'twinaxial': 4942, 'out': 3350, 'ports': 3594, 'auto': 364, 'configure': 975, 'cnfigssp': 839, 'map': 2841, 'identify': 2253, 'assign': 322, 'characteristics': 744, 'console': 1006, 'subconsole': 4605, 'programmer': 3712, 'operator': 3302, 'productivity': 3704, 'aid': 133, 'pop': 3583, 'cost': 1088, 'mapics': 2842, 'information': 2350, 'database': 1180, 'feu': 1804, 'edit': 1492, 'utility': 5040, 'games': 1953, 'funlib': 1949, 'contained': 1027, 'star': 4520, 'trek': 4899, 'hangman': 2110, 'prix': 3677, 'biorhythm': 506, 'spool': 4496, 'acronym': 51, 'peripheral': 3482, 'operations': 3301, 'machines': 2795, 'slow': 4413, 'write': 5245, 'faster': 1770, 'manage': 2825, 'components': 939, 'writers': 5247, 'prints': 3667, 'paychecks': 3451, 'vitally': 5110, 'paycheck': 3450, 'check': 758, 'paper': 3395, 'likewise': 2715, 'printout': 3666, 'buxx': 616, 'sys': 4695, 'options': 3312, 'replying': 3974, 'message': 2948, 'sure': 4655, 'reports': 3979, 'stock': 4560, 'checks': 759, 'perfectly': 3472, 'aligned': 150, 'fit': 1841, 'boxes': 553, 'wasting': 5160, 'align': 149, 'aligning': 151, 'properly': 3732, 'gesar': 1993, 'mukpo': 3083, 'directed': 1337, 'tulku': 4927, 'renowned': 3966, 'tibetan': 4808, 'buddhist': 597, 'ch': 720, 'gyam': 2088, 'trungpa': 4920, 'rinpoche': 4070, 'film': 1821, 'scandalous': 4179, 'dream': 1432, 'internationally': 2413, 'lives': 2740, 'secular': 4233, 'halifax': 2095, 'nova': 3225, 'scotia': 4206, 'fund': 1945, 'approached': 259, 'board': 527, 'reel': 3901, 'diversity': 1391, 'filmmakers': 1825, 'colour': 882, 'gotten': 2037, 'look': 2762, 'fish': 1839, 'something': 4443, 'tell': 4742, 'nobody': 3194, 'shot': 4342, 'location': 2751, 'florida': 1852, 'nepal': 3160, 'premiered': 3626, 'doxa': 1425, 'televised': 4740, 'cbc': 701, 'network': 3166, 'eye': 1722, 'edition': 1493, 'dvd': 1457, 'favorable': 1775, 'reviews': 4049, 'pressburger': 3643, 'famed': 1754, 'filmmaker': 1824, 'emeric': 1539, 'deemed': 1217, 'intimate': 2427, 'honest': 2202, 'sleeper': 4408, 'working': 5235, 'interviewing': 2425, 'canadian': 648, 'dylan': 1459, 'henderson': 2156, 'caucasian': 695, 'incarnation': 2304, 'teachers': 4728, 'visits': 5107, 'younger': 5271, 'half': 2094, 'ashoka': 306, 'refugee': 3916, 'bir': 509, 'welcomed': 5177, 'fleeing': 1849, 'tibetans': 4809, 'occupation': 3254, 'tibet': 4807, 'meets': 2924, 'francisco': 1914, 'wyatt': 5255, 'arnold': 290, 'studying': 4598, 'shechen': 4323, 'returning': 4040, 'home': 2197, 'reflects': 3915, 'tulkus': 4928, 'interviewed': 2423, 'gangs': 1956, 'wasseypur': 5159, 'launched': 2640, 'raja': 3823, 'sen': 4261, 'rediff': 3897, 'gave': 1966, 'rating': 3846, 'soundtrack': 4458, 'calling': 633, 'strikingly': 4578, 'flavourful': 1848, 'headily': 2132, 'authentic': 359, 'quirky': 3801, 'sneha': 4422, 'khanwalkar': 2571, 'awards': 378, 'best': 484, 'director': 1340, 'filmfare': 1822, 'heavily': 2143, 'armed': 284, 'scour': 4208, 'finally': 1828, 'nasir': 3129, 'narration': 3125, 'colonial': 876, 'farm': 1762, 'lands': 2619, 'dhanbad': 1304, 'mining': 2996, 'shahid': 4315, 'khan': 2570, 'jaideep': 2485, 'ahlawat': 132, 'pathan': 3437, 'advantage': 90, 'mysteriousness': 3110, 'faceless': 1727, 'dacoit': 1163, 'sultana': 4636, 'qureshi': 3804, 'impersonating': 2286, 'rob': 4087, 'ferry': 1798, 'trains': 4871, 'rainy': 3819, 'ramadhir': 3831, 'singh': 4385, 'overhears': 3362, 'ambitions': 187, 'mines': 2994, 'nationalised': 3133, 'sardar': 4164, 'marries': 2863, 'nagma': 3114, 'khatoon': 2573, 'richa': 4061, 'chadda': 721, 'asgar': 304, 'satya': 4166, 'anand': 206, 'escape': 1608, 'jail': 2486, 'eventually': 1642, 'gets': 1996, 'pregnant': 3625, 'sensing': 4267, 'increasing': 2316, 'clout': 833, 'calls': 634, 'ehsaan': 1508, 'brokers': 589, 'meeting': 2923, 'sultan': 4635, 'decide': 1203, 'allies': 156, 'enemy': 1559, 'feared': 1779, 'shifts': 4328, 'stealing': 4544, 'iron': 2459, 'ore': 3324, 'mature': 2886, 'faizal': 1746, 'nawazuddin': 3142, 'siddiqui': 4355, 'seriously': 4279, 'bollywood': 534, 'movies': 3075, 'starts': 4526, 'behaving': 462, 'talking': 4716, 'dressing': 1433, 'reveals': 4043, 'friend': 1931, 'travelling': 4889, 'anurag': 241, 'kashyap': 2551, 'said': 4143, 'wanted': 5148, 'bihar': 496, 'reasons': 3871, 'bajpayee': 395, 'till': 4814, 'date': 1182, 'piyush': 3529, 'mishra': 3005, 'tigmanshu': 4812, 'dhulia': 1306, 'given': 2006, 'discretion': 1356, 'perform': 3473, 'interview': 2422, 'helped': 2154, 'bag': 394, 'huma': 2225, 'characterised': 743, 'debut': 1198, 'filming': 1823, 'varanasi': 5055, 'assistant': 324, 'sohil': 4433, 'shah': 4313, 'killed': 2579, 'shoot': 4336, 'stunt': 4600, 'scene': 4187, 'accident': 32, 'positive': 3598, 'aggregator': 121, 'website': 5170, 'reviewgang': 4048, 'movie': 3074, 'stars': 4522, 'subhash': 4608, 'jha': 2501, 'ians': 2242, 'brutal': 595, 'brilliant': 578, 'dark': 1177, 'sinister': 4389, 'terrifying': 4755, 'violence': 5096, 'savagely': 4168, 'funny': 1950, 'disregarded': 1374, 'helluva': 2152, 'romp': 4100, 'rugged': 4115, 'heartland': 2142, 'rajeev': 3826, 'masand': 2872, 'cnn': 840, 'ibn': 2244, 'concluding': 965, 'bolstered': 535, 'riveting': 4080, 'thrilling': 4793, 'plot': 3557, 'dynamics': 1461, 'gripping': 2067, 'seizes': 4246, 'attention': 348, 'saibal': 4142, 'chatterjee': 755, 'ndtv': 3144, 'faint': 1742, 'hearted': 2141, 'prissy': 3669, 'kunal': 2595, 'guha': 2082, 'yahoo': 5262, 'considering': 999, 'blood': 525, 'spilled': 4490, 'sauce': 4167, 'pur': 3779, 'excess': 1657, 'suffocates': 4631, 'magic': 2806, 'originality': 3334, 'lack': 2611, 'room': 4102, 'breathe': 566, 'maggie': 2805, 'lee': 2667, 'notes': 3221, 'lets': 2687, 'diverse': 1389, 'italo': 2478, 'mafia': 2801, 'classics': 814, 'coppola': 1076, 'scorsese': 4205, 'leone': 2679, 'michod': 2967, 'taut': 4724, 'crime': 1122, 'thriller': 4792, 'animal': 221, 'override': 3364, 'distinct': 1378, 'cr': 1110, 'escobar': 1609, 'bandra': 405, 'thursday': 4803, 'july': 2532, 'evening': 1639, 'draws': 1431, 'wars': 5155, 'jharkhand': 2502, 'muslim': 3100, 'girl': 2002, 'portrayed': 3593, 'conversely': 1061, 'character': 742, 'surajdeo': 4654, 'fazloo': 1776, 'sabir': 4135, 'alam': 141, 'downfall': 1422, 'kunti': 2596, 'widow': 5200, 'brothers': 593, 'baccha': 388, 'rajan': 3825, 'dhani': 1305, 'others': 3345, 'setting': 4293, 'disputes': 1373, 'relation': 3943, 'litigated': 2736, 'applicable': 251, 'dependent': 1258, 'laws': 2646, 'legislation': 2675, 'sue': 4626, 'crown': 1130, 'uk': 4955, 'breach': 563, 'damages': 1171, 'compensatory': 920, 'detrimented': 1292, 'liquidated': 2729, 'estimate': 1618, 'agreed': 125, 'avoids': 375, 'calculating': 627, 'parties': 3419, 'certainty': 719, 'punitive': 3778, 'exemplary': 1666, 'punish': 3777, 'fault': 1772, 'intended': 2394, 'nevertheless': 3169, 'claimant': 805, 'plaintiff': 3538, 'actual': 64, 'losses': 2772, 'accurately': 42, 'occurred': 3258, 'innocent': 2365, 'duty': 1456, 'mitigate': 3015, 'steps': 4551, 'consequential': 995, 'recover': 3891, 'caused': 697, 'foreseeable': 1878, 'circumstances': 798, 'unjust': 4996, 'permit': 3485, 'defaulting': 1220, 'simply': 4379, 'buy': 617, 'performance': 3474, 'performed': 3476, 'both': 547, 'injunction': 2361, 'remedies': 3960, 'originating': 3336, 'equity': 1600, 'related': 3941, 'orders': 3321, 'requested': 3992, 'prohibits': 3719, 'obtain': 3248, 'equitable': 1599, 'relief': 3953, 'aggrieved': 123, 'contains': 1029, 'valid': 5050, 'arbitration': 268, 'submit': 4613, 'procedures': 3686, 'forth': 1894, 'uniform': 4983, 'enforcement': 1563, 'arbitrated': 267, 'judgments': 2525, 'wales': 5140, 'enforced': 1562, 'urgent': 5026, 'applying': 255, 'interim': 2410, 'body': 531, 'addresses': 74, 'normative': 3204, 'conceptual': 959, 'more': 3055, 'propounded': 3738, 'marxist': 2871, 'dimension': 1331, 'theoretical': 4771, 'debate': 1196, 'obligations': 3241, 'restitutionary': 4024, 'enrichment': 1578, 'defendant': 1223, 'expense': 1689, 'recognise': 3882, 'privilege': 3673, 'capacity': 659, 'artificial': 300, 'enforce': 1561, 'restricted': 4027, 'competent': 923, 'voidable': 5118, 'voids': 5119, 'benefits': 475, 'evidenced': 1646, 'deed': 1216, 'document': 1400, 'bound': 549, 'referred': 3908, 'l': 2601, 'estrange': 1622, 'graucob': 2058, 'passed': 3427, 'frauds': 1918, 'parol': 3409, 'verbal': 5069, 'usage': 5029, 'regards': 3922, 'somewhat': 4445, 'deprecated': 1264, 'loose': 2766, 'somebody': 4442, 'signer': 4363, 'regardless': 3921, 'actually': 65, 'read': 3860, 'unwritten': 5015, 'unspoken': 5010, 'implied': 2291, 'acts': 63, 'legally': 2672, 'binding': 501, 'misrepresentation': 3007, 'false': 1753, 'statement': 4529, 'inducing': 2332, 'gordon': 2034, 'selico': 4253, 'misrepresent': 3006, 'fallacy': 1750, 'opinion': 3303, 'mistake': 3011, 'incorrect': 2314, 'grounds': 2070, 'invalidate': 2435, 'agreement': 126, 'mistaken': 3012, 'belief': 468, 'facts': 1737, 'unilateral': 4984, 'duress': 1453, 'threat': 4788, 'harm': 2120, 'compel': 918, 'judgment': 2524, 'esp': 1610, 'wrongful': 5252, 'manifestation': 2829, 'seeming': 4241, 'assent': 321, 'transaction': 4872, 'volition': 5121, 'undue': 4971, 'doctrine': 1399, 'parent': 3401, 'solicitor': 4437, 'aside': 309, 'unconscionable': 4962, 'dealing': 1192, 'illegal': 2261, 'policy': 3572, 'void': 5117, 'unusual': 5013, 'unenforceable': 4974, 'spy': 4500, 'secret': 4225, 'provision': 3760, 'uncertain': 4961, 'incomplete': 2313, 'reached': 3855, 'eyes': 1723, 'standards': 4518, 'mentioned': 2940, 'resolving': 4012, 'sever': 4302, 'severability': 4303, 'differently': 1322, 'technical': 4732, 'sense': 4266, 'generic': 1978, 'warranty': 5152, 'actress': 62, 'obligation': 3240, 'night': 3185, 'theatrical': 4767, 'singer': 4383, 'rehearse': 3936, 'obtaining': 3250, 'warranties': 5151, 'representations': 3981, 'finds': 1833, 'subjective': 4610, 'promotional': 3726, 'puffery': 3774, 'boilerplate': 532, 'fits': 1842, 'provisions': 3761, 'express': 1708, 'factual': 1738, 'rulings': 4119, 'standardized': 4517, 'shipping': 4333, 'insurance': 2387, 'partnerships': 3422, 'utmost': 5044, 'agency': 116, 'deal': 1191, 'sale': 4146, 'lease': 2663, 'custom': 1156, 'hutton': 2232, 'warren': 5153, 'whilst': 5192, 'barter': 422, 'existed': 1669, 'traceable': 4860, 'industrial': 2334, 'onwards': 3292, 'worked': 5232, 'factories': 1734, 'cash': 685, 'wage': 5138, 'principle': 3659, 'latin': 2638, 'pacta': 3376, 'sunt': 4644, 'servanda': 4281, 'jurisdictions': 2537, 'principles': 3660, 'european': 1635, 'discrimination': 1358, 'eroded': 1605, 'commercial': 896, 'foundation': 1899, 'fundamentally': 1947, 'overarching': 3359, 'eu': 1628, 'acceptance': 29, 'intention': 2397, 'consideration': 997, 'not': 3216, 'necessarily': 3148, 'reach': 3854, 'minds': 2991, 'bilateral': 497, 'side': 4356, 'advertised': 95, 'poster': 3604, 'constitute': 1014, 'invitation': 2445, 'treat': 4891, 'indication': 2326, 'prepared': 3629, 'negotiate': 3155, 'arises': 281, 'advertisement': 96, 'reward': 4054, 'famous': 1758, 'carlill': 671, 'carbolic': 663, 'smoke': 4420, 'ball': 398, 'nineteenth': 3190, 'ignored': 2258, 'presumed': 3646, 'intend': 2393, 'expressly': 1711, 'opposite': 3307, 'heads': 2135, 'dunlop': 1451, 'selfridge': 4252, 'lord': 2767, 'dunedin': 1450, 'pollack': 3577, 'metaphor': 2955, 'purchase': 3781, 'explain': 1695, 'unknown': 4997, 'weigh': 5175, 'adequacy': 75, 'sufficient': 4630, 'sufficiency': 4629, 'test': 4759, 'fairness': 1744, 'equivalence': 1601, 'entering': 1581, 'sinatra': 4381, 'nancy': 3120, 'barbato': 415, 'move': 3071, 'hollywood': 2194, 'errantly': 1607, 'strayed': 4572, 'extra': 1719, 'marital': 2851, 'marilyn': 2850, 'maxwell': 2891, 'valentine': 5049, 'ava': 370, 'gardner': 1959, 'transgressions': 4878, 'becoming': 453, 'regrets': 3931, 'what': 5184, 'ruefully': 4114, 'stated': 4528, 'warm': 5150, 'friendship': 1933, 'kitty': 2585, 'kelley': 2558, 'claims': 808, 'photographs': 3507, 'magazine': 2802, 'sworn': 4681, 'mia': 2965, 'farrow': 1768, 'barbara': 414, 'blakeley': 519, 'zeppo': 5274, 'straight': 4570, 'converted': 1063, 'catholicism': 693, 'blonde': 524, 'starlet': 4521, 'alora': 164, 'gooding': 2032, 'big': 495, 'nick': 3180, 'sevano': 4298, 'summers': 4639, 'swan': 4671, 'claimed': 806, 'turner': 4941, 'gushed': 2086, 'serious': 4278, 'faked': 1748, 'splitting': 4493, 'oblige': 3243, 'mgm': 2964, 'concerns': 962, 'judy': 2528, 'garland': 1960, 'remained': 3958, 'occasions': 3253, 'legendary': 2674, 'singers': 4384, 'romantically': 4098, 'lauren': 2642, 'bacall': 387, 'engaged': 1564, 'dancer': 1173, 'juliet': 2531, 'prowse': 3762, 'short': 4341, 'broke': 588, 'engagement': 1565, 'dickinson': 1316, 'spare': 4468, 'enjoyed': 1572, 'listening': 2732, 'classical': 813, 'attend': 346, 'workaholic': 5231, 'reportedly': 3977, 'slept': 4409, 'hours': 2212, 'average': 372, 'mood': 3052, 'swings': 4679, 'bouts': 550, 'mild': 2977, 'severe': 4305, 'depression': 1265, 'admitting': 83, 'interviewer': 2424, 'acute': 66, 'sadness': 4138, 'elation': 1514, 'julie': 2530, 'ann': 225, 'lyma': 2788, 'unacknowledged': 4959, 'showgirl': 4345, 'dorothy': 1416, 'bunocelli': 605, 'vanity': 5054, 'really': 3867, 'split': 4492, 'answered': 233, 'possibly': 3602, 'ronan': 4101, 'might': 2975, 'stereotype': 4552, 'tough': 4852, 'italian': 2476, 'embraced': 1536, 'boss': 546, 'willie': 5207, 'moretti': 3056, 'kickbacks': 2577, 'reported': 3976, 'intervened': 2421, 'releasing': 3951, 'tommy': 4836, 'dorsey': 1417, 'fbi': 1777, 'dossier': 1418, 'requests': 3993, 'germanic': 1989, 'roman': 4094, 'votive': 5132, 'dating': 1183, 'nd': 3143, 'rd': 3852, 'ad': 67, 'inscriptions': 2370, 'referring': 3909, 'hercules': 2160, 'reality': 3866, 'varying': 5064, 'likelihood': 2713, 'refer': 3905, 'thor': 4783, 'interpretatio': 2415, 'romana': 4095, 'contemporary': 1030, 'account': 39, 'christian': 781, 'missionary': 3009, 'saint': 4144, 'boniface': 538, 'felled': 1790, 'oak': 3237, 'tree': 4898, 'jove': 2519, 'donar': 1408, 'hesse': 2164, 'germany': 1990, 'mentions': 2941, 'thunor': 4802, 'unor': 5002, 'version': 5072, 'god': 2020, 'codex': 853, 'mainz': 2813, 'saxon': 4173, 'baptismal': 410, 'vow': 5133, 'records': 3890, 'gods': 2024, 'uu': 5045, 'wodan': 5219, 'saxn': 4172, 'te': 4726, 'thunaer': 4798, 'renunciation': 3967, 'demons': 1247, 'formula': 1893, 'repeated': 3969, 'pagans': 3378, 'formally': 1883, 'converting': 1064, 'christianity': 782, 'kentish': 2561, 'legend': 2673, 'probably': 3679, 'villainous': 5095, 'reeve': 3903, 'ecgberht': 1481, 'kent': 2560, 'swallowed': 4669, 'earth': 1472, 'unores': 5003, 'hl': 2189, 'mound': 3066, 'chronicler': 788, 'bremen': 569, 'gesta': 1994, 'hammaburgensis': 2100, 'ecclesiae': 1480, 'pontificum': 3580, 'mightiest': 2976, 'sits': 4396, 'temple': 4745, 'uppsala': 5020, 'triple': 4912, 'throne': 4794, 'flanked': 1846, 'woden': 5220, 'fricco': 1929, 'gamla': 1954, 'sweden': 4674, 'runic': 4125, 'invoking': 2449, 'norway': 3215, 'officially': 3273, 'christianized': 783, 'still': 4557, 'invoked': 2448, 'stick': 4554, 'bearing': 446, 'bryggen': 596, 'bergen': 478, 'poetic': 3566, 'edda': 1490, 'compiled': 928, 'reaching': 3856, 'pagan': 3377, 'appears': 250, 'lusp': 2785, 'gr': 2043, 'mnism': 3018, 'sk': 4404, 'rnism': 4084, 'rbar': 3851, 'slj': 4412, 'hymiskvi': 2234, 'lokasenna': 2756, 'rymskvi': 4133, 'alv': 177, 'ssm': 4504, 'hyndlulj': 2237, 'freyr': 1928, 'messenger': 2949, 'rnir': 4083, 'threatens': 4789, 'ger': 1985, 'smitten': 4419, 'threats': 4790, 'curses': 1154, 'odin': 3263, 'angry': 220, 'risks': 4076, 'potent': 3606, 'wrath': 5242, 'traveling': 4888, 'inlet': 2364, 'encounters': 1552, 'ferryman': 1799, 'disguise': 1363, 'attempts': 345, 'hail': 2093, 'ride': 4064, 'so': 4425, 'secures': 4235, 'goats': 2019, 'egil': 1507, 'hymir': 2233, 'search': 4217, 'cauldron': 696, 'enough': 1577, 'brew': 570, 'ale': 144, 'lacuna': 2613, 'manuscript': 2838, 'abruptly': 19, 'picks': 3514, 'boat': 529, 'sea': 4215, 'sitting': 4397, 'unhappy': 4980, 'silent': 4370, 'row': 4109, 'shore': 4340, 'arrives': 296, 'tells': 4744, 'loki': 2757, 'rip': 4072, 'hammer': 2101, 'tunheimr': 4933, 'tunn': 4934, 'rymr': 4132, 'barrow': 421, 'plaiting': 3539, 'golden': 2026, 'collars': 860, 'dogs': 1403, 'trimming': 4909, 'manes': 2828, 'horses': 2206, 'goddesses': 2022, 'meet': 2922, 'discuss': 1359, 'riding': 4065, 'goat': 2018, 'chariot': 749, 'disguised': 1364, 'arrive': 294, 'assembled': 318, 'tnar': 4827, 'wretched': 5244, 'asks': 311, 'bridal': 573, 'gift': 1999, 'freyja': 1927, 'mj': 3016, 'llnir': 2742, 'sanctify': 4154, 'bride': 574, 'lap': 2626, 'goddess': 2021, 'offers': 3268, 'hyndla': 2236, 'bl': 513, 'sacrifice': 4136, 'protected': 3745, 'comments': 895, 'prologue': 3722, 'snorri': 4424, 'sturluson': 4601, 'euhemerises': 1632, 'troy': 4918, 'memnon': 2935, 'troana': 4915, 'priam': 3652, 'aesir': 99, 'asia': 307, 'asgard': 305, 'asian': 308, 'gylfaginning': 2090, 'ldskaparm': 2652, 'ttatal': 4925, 'heimskringla': 2148, 'composed': 940, 'statues': 4535, 'ynglinga': 5268, 'saga': 4139, 'konar': 2592, 'lafs': 2615, 'tryggvasonar': 4922, 'fs': 1938, 'helga': 2151, 'tales': 4714, 'traditions': 4867, 'continued': 1038, 'scandinavia': 4181, 'pictured': 3515, 'red': 3896, 'bearded': 445, 'evident': 1647, 'danish': 1175, 'med': 2914, 'lange': 2622, 'beard': 444, 'frisian': 1935, 'curse': 1153, 'diis': 1329, 'ruadhiiret': 4113, 'donner': 1410, 'regiir': 3923, 'scandinavian': 4182, 'folk': 1864, 'lightning': 2711, 'frightens': 1934, 'trolls': 4916, 'folktales': 1865, 'reflection': 3914, 'beings': 467, 'norse': 3206, 'rr': 4112, 'placenames': 3533, 'danelaw': 1174, 'comparatively': 914, 'traces': 4861, 'locations': 2752, 'sparsely': 4470, 'donnersberg': 1411, 'derive': 1268, 'deity': 1237, 'iceland': 2246, 'breed': 567, 'fox': 1907, 'holta': 2196, 'holt': 2195, 'coat': 847, 'runestones': 4124, 'invocation': 2447, 'reads': 3864, 'hallow': 2097, 'runes': 4122, 'monument': 3051, 'stones': 4562, 'depict': 1260, 'fishing': 1840, 'serpent': 4280, 'rmungandr': 4082, 'rdum': 3853, 'stone': 4561, 'thy': 4805, 'altuna': 176, 'runestone': 4123, 'ardre': 274, 'vii': 5091, 'gotland': 2036, 'gosforth': 2035, 'pendants': 3465, 'distinctive': 1380, 'representing': 3984, 'frequently': 1925, 'unearthed': 4972, 'viking': 5092, 'burials': 607, 'swastika': 4673, 'symbol': 4688, 'swedish': 4675, 'chemist': 761, 'ns': 3228, 'berzelius': 481, 'chemical': 760, 'element': 1525, 'thorium': 4785, 'comic': 889, 'stan': 4514, 'larry': 2632, 'lieber': 2704, 'kirby': 2583, 'marvel': 2867, 'comics': 890, 'superhero': 4645, 'hero': 2163, 'shrew': 4349, 'scutisorex': 4212, 'thori': 4784, 'species': 4477, 'congo': 982, 'thunar': 4799, 'thuner': 4801, 'cognates': 855, 'descending': 1270, 'proto': 3749, 'masculine': 2874, 'unraz': 5007, 'thunder': 4800, 'origin': 3332, 'weekday': 5172, 'containing': 1028, 'theonym': 4770, 'butuan': 615, 'caraga': 662, 'forestland': 1880, 'earlier': 1467, 'comprised': 947, 'protection': 3746, 'forest': 1879, 'endowed': 1558, 'swamplands': 4670, 'coastal': 846, 'filling': 1820, 'extracted': 1721, 'riverbank': 4079, 'taguibo': 4705, 'ground': 2068, 'bay': 437, 'barangays': 412, 'urban': 5023, 'rural': 4127, 'registered': 3928, 'reflecting': 3913, 'proof': 3730, 'besting': 485, 'agricultural': 128, 'rice': 4059, 'bananas': 401, 'coconuts': 850, 'poultry': 3608, 'shrimp': 4350, 'milkfish': 2981, 'cosmopolitan': 1087, 'telecommunications': 4738, 'infrastructure': 2351, 'smart': 4417, 'communications': 906, 'globe': 2013, 'telecom': 4737, 'pldt': 3554, 'bayantel': 438, 'able': 14, 'serve': 4282, 'highlights': 2176, 'philippines': 3501, 'discovering': 1354, 'wonders': 5225, 'secrets': 4228, 'beautiful': 448, 'edelmiro': 1491, 'amante': 181, 'sr': 4502, 'pres': 3630, 'susan': 4662, 'fuentes': 1940, 'visayan': 5101, 'songs': 4451, 'calo': 635, 'medina': 2921, 'host': 2209, 'travel': 4887, 'abs': 20, 'cbn': 702, 'tipong': 4821, 'pinoy': 3525, 'oriented': 3331, 'aired': 134, 'gma': 2015, 'laurice': 2643, 'guillen': 2085, 'winning': 5210, 'actor': 61, 'johnny': 2509, 'delgado': 1239, 'deceased': 1201, 'josette': 2515, 'campo': 644, 'atayde': 332, 'sylvia': 4687, 'sanchez': 4153, 'dante': 1176, 'javelosa': 2493, 'luzon': 2787, 'veteran': 5075, 'anchor': 209, 'broadcaster': 584, 'seth': 4292, 'member': 2932, 'pilipinas': 3523, 'aguilas': 130, 'tackle': 4703, 'ardy': 275, 'larong': 2631, 'shooting': 4337, 'guard': 2078, 'alaska': 142, 'aces': 45, 'philippine': 3500, 'pba': 3453, 'marky': 2858, 'cielo': 792, 'charito': 751, 'booc': 539, 'plaza': 3553, 'author': 360, 'bill': 498, 'creating': 1115, 'seventeenth': 4300, 'lt': 2779, 'gen': 1970, 'hernando': 2162, 'dca': 1188, 'iriberri': 2457, 'being': 466, 'regional': 3926, 'competence': 922, 'timber': 4815, 'hub': 2221, 'colleges': 870, 'courses': 1104, 'universities': 4994, 'ateneo': 333, 'de': 1190, 'branches': 557, 'rainbow': 3818, 'angels': 216, 'learning': 2662, 'rock': 4089, 'shilo': 4330, 'mission': 3008, 'ampayon': 199, 'elementary': 1526, 'angelicum': 215, 'montessori': 3047, 'florencio': 1851, 'sibayan': 4353, 'libertad': 2698, 'obrero': 3244, 'ong': 3289, 'yiu': 5267, 'airport': 136, 'bancasi': 402, 'serves': 4284, 'agusan': 131, 'norte': 3207, 'port': 3588, 'masao': 2873, 'seaport': 4216, 'transportation': 4885, 'proper': 3731, 'orange': 3315, 'tricycle': 4907, 'accommodate': 33, 'passengers': 3428, 'joseph': 2514, 'estrada': 1621, 'lobbied': 2745, 'fidel': 1809, 'ramos': 3833, 'decongest': 1211, 'traffic': 4868, 'magsaysay': 2807, 'bridge': 575, 'route': 4107, 'developments': 1296, 'unfinished': 4977, 'sports': 4497, 'transferred': 4876, 'hectare': 2145, 'brgy': 571, 'colonization': 878, 'rajahnate': 3824, 'indianized': 2323, 'metallurgic': 2954, 'sophisticated': 4454, 'naval': 3140, 'song': 4449, 'dynasty': 1462, 'china': 770, 'trading': 4864, 'links': 2726, 'discovery': 1355, 'balangay': 396, 'boats': 530, 'ambangan': 184, 'barangay': 411, 'concentration': 955, 'archaeological': 269, 'ocean': 3260, 'going': 2025, 'southeast': 4462, 'easter': 1477, 'sunday': 4641, 'ferdinand': 1796, 'magellan': 2804, 'ordered': 3319, 'celebrated': 705, 'no': 3192, 'coincided': 857, 'burned': 608, 'guerrilla': 2080, 'attacked': 342, 'garrison': 1961, 'battle': 434, 'specialized': 4475, 'earning': 1471, 'nickname': 3181, 'logging': 2755, 'decline': 1208, 'investors': 2443, 'sheet': 4324, 'pieces': 3517, 'beethoven': 454, 'sonata': 4448, 'collections': 864, 'separate': 4273, 'vocal': 5112, 'musical': 3097, 'printed': 3662, 'score': 4201, 'scores': 4202, 'instruments': 2386, 'voices': 5116, 'composition': 943, 'lined': 2722, 'miniature': 2995, 'indistinguishable': 2330, 'except': 1655, 'reduction': 3900, 'literal': 2733, 'piece': 3516, 'orchestral': 3317, 'purely': 3783, 'sections': 4230, 'choral': 776, 'accompaniment': 36, 'comparable': 913, 'organ': 3326, 'exists': 1672, 'church': 790, 'hands': 2108, 'handel': 2105, 'messiah': 2950, 'label': 2603, 'selections': 4249, 'staves': 4540, 'polyphonic': 3579, 'baroque': 417, 'bass': 431, 'clef': 825, 'melodies': 2930, 'played': 3549, 'instrument': 2383, 'sung': 4642, 'upper': 5019, 'stave': 4539, 'treble': 4897, 'lead': 2654, 'specifies': 4479, 'melody': 2931, 'lyrics': 2790, 'chord': 777, 'chart': 753, 'melodic': 2929, 'detailed': 1283, 'harmonic': 2121, 'fake': 1747, 'jazz': 2495, 'tunes': 4932, 'tablature': 4699, 'solo': 4439, 'pitches': 3526, 'rhythm': 4057, 'guide': 2084, 'skill': 4406, 'sight': 4358, 'reading': 3863, 'unfamiliar': 4976, 'viewing': 5089, 'handwritten': 2109, 'instrumentalists': 2385, 'ear': 1466, 'tune': 4931, 'platform': 3546, 'composer': 941, 'writes': 5248, 'visual': 5108, 'already': 166, 'readable': 3861, 'format': 1884, 'notation': 3219, 'downloadable': 1423, 'platforms': 3547, 'digital': 1327, 'audio': 354, 'scorewriters': 4203, 'midi': 2972, 'performer': 3477, 'playing': 3552, 'equipped': 1598, 'controller': 1056, 'manual': 2834, 'connick': 990, 'coordinating': 1074, 'players': 3551, 'practical': 3614, 'mutopia': 3105, 'gutenberg': 2087, 'parchment': 3400, 'greek': 2063, 'least': 2664, 'bc': 440, 'hymns': 2235, 'mesomedes': 2947, 'crete': 1121, 'before': 455, 'preserved': 3638, 'manuscripts': 2839, 'advent': 92, 'printing': 3665, 'solely': 4436, 'translating': 4883, 'engraving': 1570, 'quality': 3789, 'issuing': 2473, 'renaissance': 3963, 'spread': 4498, 'efficiently': 1503, 'laboriously': 2607, 'copied': 1075, 'patronage': 3443, 'wealthy': 5168, 'aristocrats': 283, 'plate': 3545, 'sixteenth': 4402, 'methodology': 2961, 'hastened': 2127, 'photographic': 3506, 'increased': 2315, 'complexity': 937, 'publishers': 3772, 'saw': 4171, 'massive': 2880, 'explosion': 1702, 'parlor': 3408, 'ownership': 3371, 'rigueur': 4068, 'indicates': 2325, 'page': 3379, 'cover': 1107, 'genre': 1982, 'ca': 622, 'styles': 4603, 'notated': 3218, 'nashville': 3128, 'progression': 3716, 'enables': 1547, 'bandleaders': 404, 'notice': 3222, 'turkish': 4938, 'historian': 2183, 'handan': 2104, 'nezir': 3176, 'akme': 140, 'commitment': 901, 'unionists': 4989, 'professed': 3706, 'skin': 4407, 'deep': 1218, 'rallying': 3828, 'cry': 1136, 'equally': 1594, 'goltz': 2029, 'entire': 1583, 'ottoman': 3347, 'le': 2653, 'bon': 537, 'turks': 4939, 'parliament': 3406, 'turk': 4936, 'netted': 3165, 'progress': 3715, 'seats': 4221, 'associations': 328, 'banned': 408, 'ethnically': 1627, 'shut': 4351, 'organisations': 3328, 'clubs': 834, 'ethnic': 1626, 'coalesced': 844, 'shuttered': 4352, 'italy': 2479, 'organisation': 3327, 'italians': 2477, 'libya': 2700, 'secretive': 4227, 'shadowy': 4312, 'sparked': 4469, 'dubious': 1445, 'conspiracy': 1010, 'theories': 4772, 'cup': 1150, 'spite': 4491, 'partisan': 3420, 'revolutionary': 4053, 'cabinet': 623, 'sublime': 4612, 'porte': 3589, 'enver': 1586, 'pasha': 3425, 'easily': 1474, 'charismatic': 750, 'hardly': 2116, 'rumelia': 4120, 'ottomanism': 3348, 'defeat': 1221, 'balkan': 397, 'seemingly': 4242, 'showed': 4344, 'disloyal': 1368, 'nationalism': 3134, 'purge': 3784, 'marshals': 2866, 'generals': 1975, 'lieutenant': 2707, 'colonels': 875, 'inept': 2338, 'absent': 22, 'wartime': 5157, 'atmosphere': 335, 'minority': 3000, 'religions': 3954, 'christians': 784, 'anatolia': 207, 'summer': 4638, 'ambassador': 185, 'hans': 2111, 'von': 5128, 'wangenheim': 5146, 'swing': 4677, 'reich': 3937, 'governments': 2041, 'offensive': 3265, 'defensive': 1224, 'rally': 3827, 'triumvirate': 4913, 'victim': 5082, 'allied': 155, 'aggression': 122, 'admired': 82, 'modernising': 3024, 'meiji': 2925, 'restoration': 4025, 'impressed': 2299, 'russian': 4129, 'obsessed': 3246, 'copying': 1079, 'built': 601, 'presence': 3633, 'towns': 4858, 'recruiting': 3893, 'macedonia': 2793, 'diplomatic': 1335, 'question': 3795, 'abdulhamid': 8, 'persecuted': 3486, 'absolute': 23, 'reinstate': 3939, 'originally': 3335, 'suspended': 4664, 'overthrow': 3366, 'evolution': 1648, 'muslims': 3101, 'believed': 469, 'scientifically': 4199, 'nation': 3131, 'powerful': 3612, 'diverted': 1392, 'revolutionaries': 4052, 'countercoup': 1093, 'islamists': 2463, 'incident': 2305, 'reactionaries': 3859, 'rebelled': 3872, 'retook': 4036, 'istanbul': 2474, 'reign': 3938, 'abdul': 7, 'hamid': 2099, 'pan': 3389, 'islamism': 2462, 'hugely': 2223, 'caliph': 629, 'loomed': 2763, 'underground': 4966, 'karakol': 2547, 'depots': 1263, 'mustafa': 3103, 'kemal': 2559, 'atat': 331, 'rk': 4081, 'attempted': 344, 'introduce': 2431, 'politics': 3575, 'jump': 2533, 'multiparty': 3086, 'turkey': 4937, 'namely': 3118, 'progressive': 3717, 'republican': 3988, 'karabekir': 2546, 'crystallised': 1137, 'controversial': 1058, 'armenian': 286, 'genocide': 1980, 'telling': 4743, 'soviet': 4464, 'commissioners': 900, 'armenians': 287, 'territory': 4756, 'perished': 3483, 'rebellion': 3873, 'eager': 1465, 'marginalised': 2847, 'tradition': 4865, 'secularism': 4234, 'unionist': 4988, 'envisioned': 1588, 'proved': 3752, 'undertook': 4969, 'unsuccessful': 5012, 'russians': 4130, 'portion': 3590, 'partially': 3412, 'classic': 812, 'armenia': 285, 'retaken': 4033, 'russo': 4131, 'expedition': 1686, 'djemal': 1396, 'andreas': 212, 'jun': 2534, 'dubjel': 1446, 'talaat': 4713, 'collectively': 866, 'pashas': 3426, 'deportations': 1261, 'massacres': 2879, 'serving': 4287, 'disarmed': 1343, 'battalions': 432, 'call': 630, 'joint': 2512, 'accusing': 44, 'crimes': 1123, 'humanity': 2227, 'dissolution': 1375, 'disintegrated': 1366, 'resigned': 4007, 'any': 242, 'possibility': 3600, 'truth': 4921, 'reconciliation': 3885, 'democratisation': 1246, 'lost': 2773, 'neutral': 3167, 'invited': 2446, 'france': 1912, 'britain': 581, 'occupy': 3256, 'assassinated': 316, 'nemesis': 3159, 'census': 710, 'bureau': 606, 'town': 4857, 'water': 5161, 'cumberland': 1147, 'easternmost': 1479, 'massachusetts': 2878, 'facto': 1732, 'northeasternmost': 3211, 'rhode': 4055, 'island': 2464, 'cumberlandite': 1149, 'rich': 4060, 'mineral': 2993, 'unique': 4990, 'residing': 4005, 'headed': 2131, 'couples': 1102, 'householder': 2215, 'median': 2917, 'mills': 2985, 'fourth': 1905, 'parade': 3397, 'road': 4085, 'celebrate': 704, 'farms': 1767, 'convenience': 1059, 'original': 3333, 'dairy': 1167, 'event': 1640, 'cumberlandfest': 1148, 'weekend': 5173, 'diamond': 1313, 'hill': 2178, 'park': 3404, 'blackstone': 518, 'theatre': 4766, 'broad': 583, 'hosts': 2210, 'events': 1641, 'encompassing': 1550, 'prevailing': 3647, 'cultures': 1146, 'valley': 5051, 'historic': 2184, 'metcalf': 2959, 'franklin': 1917, 'abbott': 5, 'wrentham': 5243, 'americans': 192, 'plymouth': 3561, 'spelled': 4485, 'blaxton': 520, 'settle': 4295, 'tourist': 4854, 'destination': 1281, 'nine': 3189, 'misery': 3004, 'tomb': 4835, 'trappist': 4886, 'abbey': 4, 'our': 3349, 'lady': 2614, 'destroyed': 1282, 'fire': 1835, 'cannons': 652, 'cannonballs': 651, 'machine': 2794, 'looms': 2764, 'woolens': 5227, 'headquarters': 2134, 'hope': 2205, 'discount': 1351, 'chafee': 722, 'corridor': 1085, 'aaron': 3, 'fricke': 1930, 'sex': 4306, 'prom': 3723, 'baseball': 424, 'coach': 842, 'belisle': 470, 'championship': 732, 'seven': 4299, 'chairperson': 727, 'charter': 754, 'mayoral': 2895, 'prep': 3628, 'mercymount': 2945, 'sisters': 4391, 'mercy': 2944, 'americas': 193, 'my': 3108, 'cat': 688, 'wit': 5214, 'wisdom': 5212, 'sita': 4393, 'sings': 4387, 'blues': 526, 'min': 2987, 'animation': 223, 'is': 2461, 'mine': 2992, 'israel': 2468, 'palestine': 3386, 'canaan': 646, 'levant': 2690, 'kahlil': 2545, 'gibran': 1998, 'prophet': 3735, 'tom': 4834, 'doug': 1421, 'paley': 3387, 'syndicated': 4691, 'radio': 3809, 'comedy': 887, 'urbana': 5024, 'jean': 2497, 'passovoy': 3433, 'hiram': 2181, 'illustrating': 2266, 'collaboration': 859, 'chris': 779, 'butler': 614, 'obstacles': 3247, 'clearing': 824, 'hanshaw': 2112, 'recordings': 3889, 'questioncopyright': 3796, 'org': 3325, 'memes': 2934, 'strip': 4580, 'mimi': 2986, 'eunice': 1633, 'highlighting': 2175, 'intellectual': 2390, 'property': 3734, 'paradoxes': 3398, 'publish': 3770, 'nina': 3188, 'adventures': 93, 'fluff': 1857, 'copyleft': 1080, 'licence': 2701, 'conference': 972, 'copycamp': 1078, 'warsaw': 5156, 'ip': 2453, 'trivandrum': 4914, 'job': 2506, 'episodes': 1591, 'expanding': 1681, 'length': 2677, 'ramayana': 3832, 'rama': 3830, 'techniques': 4734, 'parsons': 3410, 'seder': 4237, 'masochism': 2876, 'unorthodox': 5004, 'animated': 222, 'exodus': 1674, 'narrated': 3124, 'passover': 3432, 'seders': 4238, 'quilts': 3799, 'santa': 4159, 'cruz': 1133, 'draw': 1429, 'cameraless': 642, 'imax': 2272, 'pandorama': 3390, 'modernist': 3025, 'festivals': 1802, 'mm': 3017, 'fetch': 1803, 'humorous': 2228, 'cartoon': 681, 'illusions': 2264, 'embarked': 1534, 'between': 488, 'freelance': 1922, 'duck': 1447, 'studios': 4596, 'diversification': 1390, 'industrialization': 2335, 'honduras': 2201, 'el': 1513, 'salvador': 4149, 'cacm': 625, 'integration': 2389, 'esquipulas': 1612, 'statistics': 4533, 'seemed': 4240, 'reflected': 3912, 'fluctuations': 1856, 'demand': 1242, 'rates': 3844, 'masked': 2875, 'structural': 4587, 'deficits': 1225, 'legacies': 2669, 'earthquake': 1473, 'decades': 1199, 'concentrated': 954, 'controlling': 1057, 'somoza': 4446, 'holdings': 2192, 'every': 1644, 'nicaraguan': 3178, 'estimated': 1619, 'arable': 266, 'processing': 3690, 'export': 1704, 'licenses': 2703, 'sandinistas': 4157, 'resulted': 4029, 'uneven': 4975, 'chose': 778, 'fill': 1819, 'decreasing': 1214, 'revenues': 4045, 'mushrooming': 3094, 'expenditures': 1688, 'amounts': 198, 'wiped': 5211, 'disaster': 1345, 'eleven': 1528, 'sandinista': 4156, 'overcame': 3360, 'inequalities': 2339, 'counterinsurgents': 1094, 'nicaragua': 3177, 'subsistence': 4620, 'farming': 1765, 'pools': 3581, 'labor': 2606, 'resemble': 4000, 'banana': 400, 'interests': 2406, 'elite': 1531, 'toward': 4855, 'dictatorial': 1317, 'policies': 3571, 'alienated': 148, 'nearly': 3147, 'shifted': 4327, 'anti': 237, 'struggle': 4589, 'tremendous': 4900, 'violeta': 5097, 'barrios': 420, 'chamorro': 731, 'radical': 3808, 'previous': 3650, 'package': 3375, 'bank': 406, 'prescriptions': 3632, 'imf': 2273, 'finance': 1829, 'mayoraga': 2894, 'quickly': 3798, 'disasters': 1346, 'plague': 3536}\n"
          ]
        }
      ]
    },
    {
      "cell_type": "code",
      "source": [
        "print(vectorizer.vocabulary_)\n",
        "print(vector.shape)"
      ],
      "metadata": {
        "id": "BkBopLSTuJ3s",
        "outputId": "4093e9da-24b7-4e43-a003-9845c1d63308",
        "colab": {
          "base_uri": "https://localhost:8080/"
        }
      },
      "execution_count": null,
      "outputs": [
        {
          "output_type": "stream",
          "name": "stdout",
          "text": [
            "{'moeller': 3032, 'student': 4592, 'run': 4121, 'newspaper': 3174, 'the': 4765, 'crusader': 1131, 'consistently': 1003, 'recognized': 3883, 'one': 3287, 'top': 4843, 'region': 3925, 'in': 2301, 'first': 1837, 'place': 3530, 'second': 4223, 'highest': 2173, 'honor': 2203, 'high': 2171, 'school': 4194, 'receive': 3876, 'american': 191, 'scholastic': 4193, 'press': 3642, 'association': 327, 'ref': 3904, 'squire': 4501, 'literary': 2734, 'journal': 2516, 'features': 1783, 'stories': 4568, 'poems': 3564, 'essays': 1614, 'written': 5251, 'students': 4593, 'paul': 3446, 'keels': 2554, 'play': 3548, 'announcer': 227, 'ohio': 3276, 'state': 4527, 'university': 4995, 'football': 1872, 'basketball': 430, 'wbns': 5166, 'fm': 1859, 'joe': 2507, 'uecker': 4953, 'senator': 4263, 'r': 3805, 'rico': 4063, 'murray': 3092, 'undrafted': 4970, 'free': 1920, 'agent': 118, 'signee': 4362, 'cincinnati': 793, 'bengals': 476, 'tony': 4839, 'hunter': 2230, 'professional': 3707, 'player': 3550, 'buffalo': 599, 'bills': 499, 'los': 2769, 'angeles': 214, 'rams': 3834, 'jack': 2483, 'norris': 3205, 'president': 3640, 'co': 841, 'founder': 1901, 'vegan': 5066, 'outreach': 3354, 'archbishop': 271, 'established': 1617, 'fall': 1749, 'karl': 2549, 'j': 2482, 'alter': 169, 'appointed': 256, 'monsignor': 3046, 'edward': 1496, 'a': 0, 'mccarthy': 2898, 'brother': 592, 'sibbing': 4354, 's': 4134, 'm': 2791, 'supervise': 4649, 'planning': 3541, 'construction': 1018, 'new': 3171, 'near': 3145, 'montgomery': 3048, 'opened': 3294, 'doors': 1413, 'september': 4275, 'along': 163, 'la': 2602, 'salle': 4148, 'fellow': 1791, 'archdiocesan': 272, 'when': 5187, 'received': 3877, 'parishes': 3403, 'northeastern': 3210, 'part': 3411, 'greater': 2060, 'area': 276, 'drawing': 1430, 'roger': 4090, 'bacon': 390, 'purcell': 3780, 'marian': 2849, 'two': 4943, 'male': 2820, 'comprehensive': 946, 'schools': 4195, 'starting': 4525, 'freshman': 1926, 'class': 810, 'adopted': 85, 'laptop': 2627, 'program': 3711, 'quite': 3802, 'number': 3231, 'countermeasures': 1095, 'installed': 2375, 'counteract': 1092, 'misuse': 3013, 'computers': 952, 'including': 2309, 'web': 5169, 'filtering': 1826, 'monitor': 3042, 'use': 5030, 'art': 297, 'nationally': 3135, 'four': 1902, 'year': 5263, 'culminates': 1142, 'advanced': 89, 'placement': 3532, 'studio': 4595, 'history': 2187, 'crusaders': 1132, 'long': 2760, 'athletic': 334, 'success': 4623, 'lacrosse': 2612, 'team': 4729, 'titles': 4826, 'constant': 1011, 'force': 1874, 'midwest': 2974, 'teams': 4730, 'exception': 1656, 'boxing': 554, 'skiing': 4405, 'volleyball': 5122, 'sanctioned': 4155, 'ohsaa': 3277, 'compete': 921, 'catholic': 692, 'league': 2658, 'south': 4461, 'elder': 1515, 'st': 4506, 'xavier': 5257, 'recently': 3880, 'unveiled': 5014, 'plans': 3543, 'build': 600, 'multipurpose': 3088, 'stadium': 4509, 'campus': 645, 'named': 3117, 'gerry': 1991, 'faust': 1773, 'complex': 935, 'foot': 1871, 'bronze': 590, 'statue': 4534, 'honoring': 2204, 'entrance': 1584, 'however': 2219, 'plan': 3540, 'faced': 1726, 'strong': 4585, 'criticism': 1126, 'neighboring': 3157, 'homeowners': 2199, 'request': 3991, 'change': 733, 'zoning': 5275, 'regulation': 3935, 'denied': 1252, 'title': 4824, 'went': 5180, 'boys': 555, 'go': 2016, 'undefeated': 4964, 'circular': 796, 'flow': 1854, 'diagram': 1309, 'abstraction': 24, 'economy': 1489, 'whole': 5195, 'ignores': 2259, 'linear': 2721, 'throughput': 4797, 'matter': 2885, 'energy': 1560, 'must': 3102, 'power': 3611, 'continuous': 1041, 'motion': 3065, 'money': 3041, 'goods': 2033, 'services': 4286, 'factors': 1735, 'production': 3702, 'this': 4781, 'say': 4174, 'useful': 5032, 'understanding': 4967, 'basics': 427, 'leakages': 2660, 'injections': 2360, 'income': 2311, 'concept': 956, 'better': 487, 'example': 1654, 'national': 3132, 'product': 3701, 'accounts': 40, 'nipas': 3191, 'alternatively': 172, 'think': 4779, 'transactions': 4873, 'terms': 4754, 'monetary': 3040, 'flows': 1855, 'occur': 3257, 'illustrates': 2265, 'interdependence': 2403, 'activities': 59, 'output': 3353, 'generated': 1976, 'of': 3264, 'course': 1103, 'total': 4849, 'much': 3081, 'complicated': 938, 'illustration': 2267, 'earliest': 1468, 'ideas': 2250, 'explained': 1696, 'work': 5230, 'th': 4762, 'century': 716, 'irish': 2458, 'french': 1923, 'economist': 1487, 'richard': 4062, 'cantillon': 656, 'influenced': 2346, 'prior': 3668, 'economists': 1488, 'especially': 1611, 'william': 5206, 'petty': 3495, 'fran': 1911, 'ois': 3279, 'quesnay': 3794, 'developed': 1294, 'concepts': 958, 'visualize': 5109, 'interactions': 2400, 'time': 4816, 'called': 631, 'tableau': 4701, 'conomique': 992, 'impedes': 2283, 'throughout': 4796, 'social': 4429, 'classes': 811, 'therefore': 4777, 'economic': 1483, 'development': 1295, 'taxes': 4725, 'productive': 3703, 'farmers': 1764, 'reduced': 3899, 'favor': 1774, 'higher': 2172, 'unproductive': 5006, 'landowners': 2618, 'since': 4382, 'luxurious': 2786, 'way': 5164, 'life': 2708, 'distorts': 1384, 'marxian': 2870, 'economics': 1485, 'reproduction': 3986, 'refers': 3910, 'recurrent': 3894, 'cyclical': 1160, 'processes': 3689, 'initial': 2356, 'conditions': 967, 'necessary': 3149, 'activity': 60, 'constantly': 1012, 'created': 1113, 'involves': 2451, 'physical': 3510, 'distribution': 1386, 'trade': 4863, 'circulation': 797, 'via': 5077, 'exchanges': 1659, 'consumption': 1022, 'intermediate': 2411, 'final': 1827, 'marx': 2869, 'distinguishes': 1382, 'simple': 4375, 'expanded': 1680, 'enlarged': 1574, 'an': 202, 'important': 2296, 'john': 2508, 'maynard': 2893, 'keynes': 2566, 'publication': 3769, 'general': 1973, 'theory': 4774, 'employment': 1545, 'interest': 2404, 'modern': 3023, 'model': 3021, 'frank': 1916, 'knight': 2586, 'organization': 3329, 'may': 2892, 'view': 5087, 'system': 4696, 'prize': 3678, 'relations': 3944, 'measurement': 2909, 'estimation': 1620, 'aggregation': 120, 'knowledge': 2589, 'signifies': 4366, 'upon': 5018, 'another': 231, 'unending': 4973, 'nature': 3139, 'it': 2475, 'expenditure': 1687, 'never': 3168, 'come': 886, 'halt': 2098, 'y': 5261, 'e': 1463, 'o': 3236, 'means': 2904, 'buyers': 618, 'households': 2216, 'becomes': 452, 'sellers': 4255, 'firms': 1836, 'spend': 4487, 'c': 621, 'all': 152, 'produced': 3697, 'purchased': 3782, 'there': 4776, 'financial': 1830, 'sector': 4231, 'government': 2040, 'foreign': 1877, 'includes': 2308, 'household': 2214, 'producing': 3700, 'each': 1464, 'sectors': 4232, 'receives': 3878, 'payments': 3452, 'lieu': 2706, 'makes': 2817, 'regular': 3932, 'injection': 2359, 'introduction': 2434, 'leakage': 2659, 'institutions': 2380, 'provide': 3754, 'option': 3310, 'save': 4169, 'provides': 3756, 'collection': 863, 'revenue': 4044, 't': 4698, 'provided': 3755, 'overseas': 3365, 'main': 2810, 'imports': 2297, 'represent': 3980, 'spending': 4488, 'residents': 4004, 'rest': 4023, 'world': 5239, 'table': 4700, 'five': 1844, 'equilibrium': 1597, 'occurs': 3259, 'equal': 1593, 'savings': 4170, 'investment': 2442, 'exports': 1706, 'i': 2240, 'g': 1952, 'x': 5256, 'effects': 1501, 'disequilibrium': 1362, 'vary': 5063, 'according': 38, 'equations': 1596, 'belong': 472, 'if': 2257, 'levels': 2692, 'causing': 699, 'recession': 3881, 'contraction': 1045, 'overall': 3358, 'equation': 1595, 'greatly': 2061, 'rise': 4073, 'boom': 542, 'real': 3865, 'exchange': 1658, 'whereas': 5189, 'supplies': 4650, 'raw': 3849, 'material': 2882, 'land': 2617, 'labour': 2608, 'capital': 661, 'enterprise': 1582, 'return': 4038, 'finished': 1834, 'known': 2590, 'generation': 1977, 'three': 4791, 'basic': 426, 'endlessly': 1555, 'titled': 4825, 'watts': 5163, 'closely': 831, 'connected': 985, 'fowlers': 1906, 'family': 1757, 'also': 167, 'strongly': 4586, 'beale': 442, 'on': 3285, 'august': 356, 'sharon': 4319, 'returned': 4039, 'walford': 5141, 'dennis': 1254, 'jnr': 2504, 'became': 449, 'instantly': 2377, 'involved': 2450, 'prominent': 3724, 'branning': 558, 'shared': 4318, 'flirtatious': 1850, 'relationship': 3945, 'soon': 4452, 'befriended': 456, 'max': 2888, 'ultimately': 4956, 'partner': 3421, 'tanya': 4719, 'cross': 1129, 'initially': 2357, 'feuded': 1805, 'central': 713, 'families': 1756, 'introduced': 2432, 'viewers': 5088, 'eastenders': 1476, 'began': 457, 'show': 4343, 'creators': 1117, 'holland': 2193, 'julia': 2529, 'smith': 4418, 'april': 264, 'anita': 224, 'dobson': 1398, 'made': 2799, 'last': 2634, 'appearance': 248, 'angie': 218, 'afterwards': 111, 'leslie': 2682, 'grantham': 2053, 'expressed': 1709, 'desire': 1277, 'step': 4549, 'role': 4092, 'den': 1251, 'popularity': 3586, 'importance': 2295, 'meant': 2905, 'successive': 4625, 'producers': 3698, 'executives': 1665, 'continually': 1036, 'asked': 310, 'dean': 1194, 'reprise': 3985, 'roles': 4093, 'widely': 5198, 'regarded': 3919, 'coup': 1101, 'seen': 4243, 'instrumental': 2384, 'facing': 1730, 'tight': 4811, 'competition': 924, 'itv': 2481, 'soaps': 4427, 'coronation': 1081, 'street': 4573, 'enjoying': 1573, 'successful': 4624, 'years': 5264, 'ever': 1643, 'emmerdale': 1541, 'midst': 2973, 'ratings': 3847, 'revival': 4050, 'again': 112, 'increasingly': 2317, 'dominated': 1407, 'volatile': 5120, 'husband': 2231, 'wife': 5201, 'culminating': 1143, 'death': 1195, 'february': 1784, 'decided': 1204, 'extend': 1712, 'current': 1151, 'contract': 1043, 'despite': 1280, 'official': 3272, 'bbc': 439, 'report': 3975, 'stating': 4532, 'letitia': 2686, 'taking': 4712, 'scheduled': 4189, 'break': 564, 'would': 5241, 'later': 2637, 'happen': 2113, 'away': 381, 'six': 4400, 'vic': 5080, 'obvious': 3251, 'lay': 2649, 'claim': 804, 'pub': 3767, 'absence': 21, 'took': 4840, 'conflict': 978, 'level': 2691, 'joined': 2511, 'chrissie': 780, 'pair': 3383, 'proceeded': 3687, 'bring': 579, 'mitchell': 3014, 'empire': 1543, 'bankrupting': 407, 'scam': 4177, 'retaking': 4034, 'control': 1054, 'sought': 4456, 'phil': 3499, 'help': 2153, 'son': 4447, 'harry': 2124, 'hickles': 2169, 'kidnapped': 2578, 'fianc': 1807, 'hewland': 2167, 'jesse': 2500, 'birdsall': 510, 'november': 3227, 'gavin': 1967, 'sullivan': 4634, 'nicholas': 3179, 'revealed': 4042, 'gang': 1955, 'eric': 1604, 'growing': 2074, 'together': 4830, 'screen': 4209, 'tried': 4908, 'tested': 4760, 'sources': 4460, 'drama': 1428, 'tragedy': 4869, 'christmas': 785, 'day': 1186, 'episode': 1590, 'delivered': 1240, 'divorce': 1395, 'papers': 3396, 'rated': 3843, 'airing': 135, 'british': 582, 'soap': 4426, 'television': 4741, 'seminal': 4259, 'moment': 3036, 'eclipsed': 1482, 'intense': 2395, 'media': 2916, 'scrutiny': 4210, 'surrounding': 4660, 'notably': 3217, 'fractured': 1909, 'condition': 966, 'willed': 5205, 'independent': 2318, 'yet': 5266, 'vulnerable': 5137, 'centre': 714, 'figure': 1815, 'casts': 687, 'shadow': 4311, 'centres': 715, 'responses': 4020, 'selfish': 4251, 'actions': 55, 'manipulative': 2831, 'ways': 5165, 'although': 173, 'wives': 5218, 'appeared': 249, 'combined': 885, 'immense': 2275, 'impact': 2279, 'as': 303, 'mother': 3064, 'stepmother': 4550, 'fiercely': 1811, 'protective': 3747, 'charges': 748, 'rather': 3845, 'mrs': 3079, 'highly': 2177, 'individual': 2331, 'figures': 1816, 'princess': 3657, 'dynamic': 1460, 'common': 903, 'method': 2960, 'cantilever': 654, 'deflection': 1233, 'measurements': 2910, 'beam': 443, 'relative': 3947, 'sensitivity': 4269, 'operation': 3299, 'fact': 1731, 'cantilevers': 655, 'require': 3994, 'electrical': 1521, 'contacts': 1025, 'special': 4473, 'treatments': 4895, 'fabricated': 1725, 'relatively': 3948, 'cheaply': 757, 'sharp': 4320, 'integrated': 2388, 'tips': 4822, 'many': 2840, 'methods': 2962, 'exist': 1668, 'piezoelectric': 3521, 'detection': 1287, 'quartz': 3791, 'qplus': 3788, 'configuration': 974, 'materials': 2883, 'directly': 1339, 'detect': 1285, 'signal': 4359, 'laser': 2633, 'doppler': 1414, 'vibrometry': 5079, 'vibrometer': 5078, 'used': 5031, 'produce': 3696, 'accurate': 41, 'oscillating': 3341, 'thus': 4804, 'non': 3200, 'contact': 1023, 'mode': 3020, 'stm': 4559, 'atomic': 337, 'microscope': 2968, 'complete': 931, 'feedback': 1787, 'mechanism': 2913, 'measure': 2907, 'optical': 3309, 'interferometry': 2409, 'capacitive': 657, 'metal': 2953, 'coated': 848, 'form': 1881, 'capacitor': 658, 'located': 2750, 'behind': 464, 'piezoresistive': 3522, 'elements': 1527, 'act': 53, 'strain': 4571, 'gauge': 1965, 'image': 2268, 'formation': 1885, 'plotting': 3558, 'produces': 3699, 'color': 880, 'mapping': 2843, 'changing': 736, 'position': 3596, 'tip': 4820, 'scanning': 4185, 'recording': 3888, 'measured': 2908, 'variable': 5057, 'intensity': 2396, 'coordinate': 1073, 'forming': 1891, 'afm': 105, 'generally': 1974, 'classified': 816, 'groups': 2072, 'viewpoint': 5090, 'whether': 5190, 'uses': 5037, 'z': 5273, 'loop': 2765, 'shown': 4347, 'maintain': 2812, 'sample': 4150, 'distance': 1376, 'keep': 2555, 'exported': 1705, 'detector': 1288, 'details': 1284, 'case': 683, 'df': 1301, 'among': 196, 'instance': 2376, 'next': 3175, 'section': 4229, 'concavity': 953, 'convexity': 1066, 'apex': 245, 'varies': 5060, 'accordance': 37, 'accompanied': 35, 'scan': 4178, 'direction': 1338, 'without': 5217, 'height': 2147, 'hand': 2103, 'kept': 2562, 'moving': 3076, 'probe': 3681, 'upward': 5022, 'downward': 1424, 'see': 4239, 'fig': 1812, 'using': 5038, 'negative': 3154, 'raster': 3841, 'surface': 4656, 'just': 2539, 'like': 2712, 'tool': 4841, 'usefulness': 5033, 'limitations': 2718, 'several': 4304, 'advantages': 91, 'electron': 1523, 'sem': 4256, 'disadvantage': 1341, 'compared': 915, 'single': 4386, 'size': 4403, 'speed': 4483, 'limitation': 2717, 'images': 2269, 'affected': 103, 'nonlinearity': 3201, 'hysteresis': 2239, 'creep': 1120, 'talk': 4715, 'axes': 382, 'software': 4432, 'enhancement': 1571, 'due': 1448, 'probes': 3682, 'cannot': 653, 'normally': 3203, 'steep': 4546, 'walls': 5144, 'overhangs': 3361, 'major': 2814, 'application': 252, 'besides': 482, 'imaging': 2270, 'spectroscopy': 4481, 'direct': 1336, 'interaction': 2399, 'forces': 1876, 'function': 1944, 'gap': 1958, 'result': 4028, 'curve': 1155, 'problems': 3684, 'technique': 4733, 'include': 2306, 'separation': 4274, 'need': 3150, 'low': 2776, 'stiffness': 4556, 'tend': 4749, 'snap': 4421, 'biophysics': 504, 'mechanical': 2912, 'properties': 3733, 'living': 2741, 'tissue': 4823, 'cells': 708, 'consists': 1005, 'end': 1553, 'specimen': 4480, 'operated': 3297, 'modes': 3026, 'depending': 1259, 'noted': 3220, 'nomenclature': 3197, 'repulsive': 3990, 'avoided': 374, 'amplitude': 200, 'modulation': 3031, 'frequency': 1924, 'settings': 4294, 'dragged': 1427, 'across': 52, 'contours': 1042, 'either': 1511, 'commonly': 904, 'required': 3995, 'ambient': 186, 'samples': 4151, 'develop': 1293, 'liquid': 2728, 'meniscus': 2939, 'layer': 2650, 'tapping': 4720, 'driven': 1435, 'oscillate': 3340, 'resonance': 4013, 'peak': 3459, 'applied': 254, 'contacting': 1024, 'oscillation': 3342, 'typically': 4949, 'lessens': 2684, 'damage': 1170, 'done': 1409, 'amount': 197, 'operating': 3298, 'phase': 3497, 'respect': 4016, 'driving': 1438, 'recorded': 3887, 'well': 5179, 'microscopy': 2969, 'suffer': 4627, 'degradation': 1234, 'sometimes': 4444, 'observed': 3245, 'numerous': 3235, 'scans': 4186, 'schemes': 4191, 'locked': 2754, 'track': 4862, 'servo': 4288, 'excitation': 1660, 'defined': 1227, 'changes': 735, 'regime': 3924, 'resolution': 4010, 'stiff': 4555, 'small': 4414, 'amplitudes': 201, 'ultra': 4957, 'vacuum': 5047, 'environment': 1587, 'sfm': 4310, 'type': 4944, 'spm': 4494, 'demonstrated': 1248, 'order': 3318, 'fractions': 1908, 'nanometer': 3121, 'times': 4817, 'diffraction': 1325, 'limit': 2716, 'afms': 106, 'mutual': 3106, 'for': 1873, 'reaction': 3858, 'imposes': 2298, 'dimensional': 1332, 'shape': 4317, 'topography': 4846, 'manipulation': 2830, 'controlled': 1055, 'simultaneous': 4380, 'acquisition': 50, 'topographical': 4845, 'locally': 2748, 'displayed': 1372, 'often': 3275, 'similarly': 4373, 'competitive': 925, 'technologies': 4735, 'difference': 1319, 'latter': 2639, 'lenses': 2678, 'irradiation': 2460, 'types': 4946, 'tunneling': 4935, 'field': 1810, 'snom': 4423, 'nsom': 3229, 'sted': 4545, 'spring': 4499, 'carried': 677, 'support': 4651, 'described': 1272, 'scale': 4176, 'phenomenon': 3498, 'transduced': 4875, 'macro': 2797, 'measures': 2911, 'displacement': 1370, 'converts': 1065, 'various': 5062, 'brought': 594, 'scanned': 4183, 'grid': 2066, 'historically': 2186, 'different': 1321, 'signals': 4360, 'computer': 950, 'invented': 2437, 'ibm': 2243, 'scientists': 4200, 'precursor': 3620, 'gerd': 1987, 'binnig': 502, 'heinrich': 2149, 'rohrer': 4091, 'early': 1469, 'research': 3997, 'zurich': 5277, 'earned': 1470, 'nobel': 3193, 'physics': 3511, 'commercially': 897, 'available': 371, 'wide': 5197, 'range': 3837, 'disciplines': 1349, 'natural': 3137, 'sciences': 4198, 'solid': 4438, 'semiconductor': 4258, 'science': 4197, 'technology': 4736, 'molecular': 3033, 'engineering': 1567, 'polymer': 3578, 'chemistry': 762, 'biology': 503, 'cell': 707, 'medicine': 2920, 'applications': 253, 'identification': 2251, 'atoms': 338, 'b': 384, 'evaluation': 1637, 'specific': 4478, 'atom': 336, 'study': 4597, 'arising': 282, 'arrangement': 292, 'cellular': 709, 'attempt': 343, 'distinguish': 1381, 'cancer': 649, 'normal': 3202, 'based': 425, 'hardness': 2117, 'evaluate': 1636, 'culture': 1145, 'variations': 5058, 'electric': 1520, 'potentials': 3607, 'conducting': 971, 'scanners': 4184, 'expands': 1682, 'contracts': 1046, 'proportionally': 3736, 'voltage': 5124, 'characterized': 745, 'ratio': 3848, 'piezo': 3520, 'movement': 3073, 'extends': 1715, 'per': 3468, 'volt': 5123, 'decreases': 1213, 'exponentially': 1703, 'swinging': 4678, 'protruding': 3751, 'holder': 2191, 'device': 1297, 'names': 3119, 'employing': 1544, 'name': 3116, 'manufactured': 2835, 'mems': 2937, 'close': 830, 'object': 3238, 'investigation': 2441, 'deflected': 1232, 'designed': 1276, 'detected': 1286, 'modified': 3028, 'mollie': 3035, 'considered': 998, 'east': 1475, 'indiana': 2322, 'northern': 3212, 'beneath': 474, 'soil': 4434, 'lies': 2705, 'trenton': 4902, 'oil': 3278, 'gas': 1962, 'responsible': 4021, 'future': 1951, 'harrison': 2123, 'township': 4859, 'flattened': 1847, 'glaciers': 2009, 'millions': 2984, 'ago': 124, 'centered': 712, 'railroad': 3817, 'stop': 4564, 'agriculture': 129, 'manufacturing': 2837, 'facility': 1729, 'tile': 4813, 'mill': 2982, 'other': 3344, 'businesses': 612, 'included': 2307, 'store': 4566, 'cider': 791, 'blacksmith': 517, 'shop': 4338, 'village': 5094, 'blackford': 516, 'county': 1100, 'intersection': 2418, 'roads': 4086, 'north': 3208, 'discovered': 1353, 'nearby': 3146, 'hartford': 2125, 'city': 801, 'participation': 3414, 'post': 3603, 'office': 3269, 'october': 3262, 'discontinued': 1350, 'mail': 2809, 'handled': 2107, 'war': 5149, 'army': 289, 'biplane': 507, 'forced': 1875, 'engine': 1566, 'failure': 1741, 'line': 2720, 'around': 291, 'interurban': 2420, 'running': 4126, 'parallel': 3399, 'at': 330, 'beginning': 459, 'gradually': 2045, 'came': 641, 'contributors': 1053, 'demise': 1243, 'concerned': 961, 'jacob': 2484, 'burnworth': 609, 'factory': 1736, 'smaller': 4415, 'factor': 1733, 'affect': 102, 'automobile': 366, 'population': 3587, 'people': 3467, 'community': 907, 'consisted': 1002, 'houses': 2217, 'occupied': 3255, 'farmland': 1766, 'owned': 3369, 'privately': 3671, 'her': 2159, 'writings': 5250, 'idea': 2249, 'binary': 500, 'opposition': 3308, 'men': 2938, 'women': 5224, 'overly': 3363, 'simplistic': 4378, 'feminists': 1795, 'found': 1898, 'present': 3634, 'illusion': 2263, 'unified': 4982, 'category': 691, 'full': 1942, 'subdivisions': 4607, 'lorde': 2768, 'identified': 2252, 'issues': 2472, 'race': 3806, 'age': 113, 'gender': 1971, 'even': 1638, 'health': 2136, 'added': 69, 'battled': 435, 'fundamental': 1946, 'female': 1792, 'experience': 1692, 'while': 5191, 'acknowledging': 49, 'differences': 1320, 'varied': 5059, 'works': 5236, 'subsets': 4619, 'primarily': 3653, 'sexuality': 4309, 'essay': 1613, 'erotic': 1606, 'collected': 861, 'sister': 4390, 'outsider': 3356, 'theorizes': 4773, 'site': 4394, 'learn': 2661, 'release': 3949, 'suppression': 4652, 'embrace': 1535, 'set': 4291, 'confront': 980, 'racism': 3807, 'feminist': 1794, 'thought': 4787, 'defines': 1228, 'sexism': 4307, 'ageism': 114, 'heterosexism': 2165, 'elitism': 1532, 'classism': 818, 'altogether': 174, 'explains': 1697, 'ism': 2465, 'privileged': 3674, 'superior': 4646, 'right': 4066, 'govern': 2038, 'anything': 243, 'else': 1533, 'black': 514, 'feminism': 1793, 'continues': 1039, 'examined': 1652, 'scholars': 4192, 'today': 4829, 'career': 669, 'collective': 865, 'identity': 2254, 'books': 541, 'callen': 632, 'center': 711, 'york': 5269, 'michael': 2966, 'audre': 355, 'dedicated': 1215, 'providing': 3757, 'medical': 2918, 'care': 668, 'lgbt': 2695, 'regard': 3918, 'ability': 12, 'pay': 3449, 'project': 3720, 'founded': 1900, 'brooklyn': 591, 'queer': 3793, 'award': 377, 'annual': 229, 'presented': 3635, 'publishing': 3773, 'triangle': 4906, 'lesbian': 2680, 'poetry': 3567, 'inducted': 2333, 'legacy': 2670, 'walk': 5142, 'outdoor': 3351, 'public': 3768, 'display': 1371, 'chicago': 765, 'illinois': 2262, 'celebrates': 706, 'born': 544, 'caribbean': 670, 'immigrants': 2276, 'barbados': 413, 'carriacou': 674, 'frederick': 1919, 'byron': 620, 'linda': 2719, 'gertrude': 1992, 'belmar': 471, 'settled': 4296, 'harlem': 2119, 'parents': 3402, 'difficult': 1323, 'young': 5270, 'child': 767, 'struggled': 4590, 'communication': 905, 'appreciate': 257, 'expression': 1710, 'she': 4322, 'attended': 347, 'college': 869, 'secondary': 4224, 'intellectually': 2391, 'gifted': 2000, 'graduated': 2046, 'spent': 4489, 'pivotal': 3528, 'mexico': 2963, 'period': 3479, 'affirmation': 104, 'renewal': 3965, 'writer': 5246, 'residence': 4002, 'tougaloo': 4851, 'mississippi': 3010, 'met': 2952, 'frances': 1913, 'clayton': 822, 'white': 5193, 'professor': 3708, 'psychology': 3764, 'romantic': 4097, 'formative': 1886, 'artist': 301, 'english': 1569, 'jay': 2494, 'criminal': 1124, 'justice': 2540, 'from': 1936, 'brief': 576, 'affair': 100, 'sculptor': 4211, 'painter': 3382, 'mildred': 2978, 'thompson': 4782, 'started': 4524, 'visiting': 5106, 'professorship': 3709, 'west': 5182, 'berlin': 479, 'because': 450, 'afro': 109, 'german': 1988, 'dagmar': 1164, 'schultz': 4196, 'put': 3786, 'documentary': 1401, 'highlight': 2174, 'chapter': 741, 'focused': 1861, 'discussion': 1360, 'conflicting': 979, 'within': 5216, 'conception': 957, 'layers': 2651, 'selfhood': 4250, 'replicated': 3973, 'multi': 3085, 'genres': 1983, 'published': 3771, 'regularly': 3933, 'langston': 2623, 'hughes': 2224, 'negro': 3156, 'poets': 3568, 'usa': 5028, 'anthologies': 235, 'magazines': 2803, 'cities': 799, 'volume': 5126, 'cables': 624, 'rage': 3814, 'mainly': 2811, 'tenure': 4750, 'poet': 3565, 'addressed': 73, 'themes': 4769, 'love': 2775, 'betrayal': 486, 'childbirth': 768, 'complexities': 936, 'raising': 3822, 'children': 769, 'nominated': 3199, 'book': 540, 'where': 5188, 'live': 2738, 'broadside': 585, 'shows': 4348, 'personal': 3489, 'struggles': 4591, 'anger': 217, 'injustice': 2363, 'volumes': 5127, 'coal': 843, 'influential': 2348, 'voice': 5113, 'arts': 302, 'norton': 3214, 'introducing': 2433, 'wider': 5199, 'audience': 353, 'unicorn': 4981, 'describes': 1273, 'mythos': 3111, 'african': 108, 'deities': 1236, 'creation': 1116, 'fertility': 1800, 'warrior': 5154, 'strength': 4574, 'open': 3293, 'grew': 2065, 'older': 3282, 'confident': 973, 'journals': 2518, 'derived': 1269, 'late': 2636, 'seventies': 4301, 'burst': 610, 'light': 2710, 'fiction': 1808, 'prose': 3740, 'preserve': 3637, 'explore': 1701, 'reflect': 3911, 'diagnosis': 1307, 'treatment': 4894, 'recovery': 3892, 'breast': 565, 'master': 2881, 'tools': 4842, 'will': 5204, 'dismantle': 1369, 'house': 2213, 'transformation': 4877, 'silence': 4369, 'language': 2624, 'action': 54, 'womanism': 5222, 'existence': 1670, 'naturally': 3138, 'opens': 3296, 'definitions': 1230, 'interpretations': 2416, 'actively': 58, 'strived': 4583, 'implementing': 2289, 'womanist': 5223, 'ideology': 2255, 'critique': 1127, 'explicitly': 1698, 'address': 72, 'homosexuality': 2200, 'contrary': 1048, 'sexual': 4308, 'awakening': 376, 'with': 5215, 'mindedness': 2990, 'society': 4430, 'significant': 4364, 'fourteen': 1903, 'laureate': 2641, 'died': 1318, 'liver': 2739, 'croix': 1128, 'gloria': 2014, 'musica': 3096, 'viva': 5111, 'inspiring': 2374, 'listen': 2731, 'create': 1112, 'music': 3095, 'bringing': 580, 'performances': 3475, 'primary': 3654, 'australia': 357, 'musician': 3098, 'classroom': 819, 'residency': 4003, 'sends': 4264, 'musicians': 3099, 'composers': 942, 'through': 4795, 'grants': 2054, 'funding': 1948, 'creates': 1114, 'projects': 3721, 'remote': 3961, 'disadvantaged': 1342, 'needs': 3152, 'guardian': 2079, 'interactive': 2401, 'whiteboards': 5194, 'ten': 4748, 'global': 2012, 'd': 1161, 'international': 2412, 'concert': 963, 'season': 4219, 'presents': 3636, 'great': 2059, 'chamber': 730, 'feature': 1781, 'orchestra': 3316, 'enlightenment': 1575, 'eighth': 1510, 'blackbird': 515, 'pacifica': 3374, 'quartet': 3790, 'sitkovetsky': 4395, 'trio': 4910, 'takacs': 4708, 'angela': 213, 'hewitt': 2166, 'piano': 3513, 'duo': 1452, 'nicolas': 3182, 'altstaedt': 175, 'aleksandar': 145, 'mad': 2798, 'ar': 265, 'featured': 1782, 'tafelmusik': 4704, 'eggner': 1506, 'modigliani': 3030, 'string': 4579, 'goldner': 2028, 'steven': 4553, 'isserlis': 2469, 'connie': 991, 'shih': 4329, 'fagiolini': 1739, 'lewis': 2693, 'maxim': 2889, 'vengerov': 5067, 'kelemen': 2557, 'brass': 560, 'quintet': 3800, 'choir': 774, 'king': 2581, 'cambridge': 640, 'imogen': 2278, 'cooper': 1072, 'borodin': 545, 'ray': 3850, 'chen': 764, 'timothy': 4818, 'karin': 2548, 'schaupp': 4188, 'pavel': 3448, 'steidl': 4547, 'morgenstern': 3058, 'christopher': 786, 'moore': 3054, 'tokyo': 4833, 'jian': 2503, 'wang': 5145, 'bernadette': 480, 'harvey': 2126, 'elias': 1529, 'academy': 26, 'ancient': 210, 'sara': 4162, 'macliver': 2796, 'diana': 1315, 'doherty': 1404, 'lawrence': 2645, 'dali': 1169, 'tak': 4707, 'cs': 1138, 'amarcord': 183, 'kuss': 2597, 'naoko': 3122, 'shimizu': 4331, 'anthony': 236, 'marwood': 2868, 'heritage': 2161, 'grounded': 2069, 'vision': 5104, 'man': 2824, 'romanian': 4096, 'violist': 5098, 'trained': 4870, 'vienna': 5085, 'once': 3286, 'expected': 1684, 'arrived': 295, 'answer': 232, 'persevered': 3487, 'formed': 1888, 'monomeeth': 3045, 'indigenous': 2328, 'australian': 358, 'word': 5228, 'peace': 3458, 'harmony': 2122, 'inspired': 2373, 'enormous': 1576, 'teacher': 4727, 'simon': 4374, 'pullman': 3775, 'determined': 1291, 'ensemble': 1579, 'sydney': 4682, 'verbrugghen': 5070, 'hall': 2096, 'conservatorium': 996, 'december': 1202, 'festival': 1801, 'held': 2150, 'biennially': 494, 'pinchas': 3524, 'zuckerman': 5276, 'lambert': 2616, 'orkis': 3337, 'benjamin': 477, 'beilman': 465, 'alice': 147, 'giles': 2001, 'bezaly': 489, 'hector': 2146, 'mcdonald': 2899, 'pieter': 3519, 'wispelwey': 5213, 'pekka': 3464, 'kuusisto': 2598, 'khatia': 2572, 'buniatishvili': 604, 'youth': 5272, 'coffee': 854, 'concerts': 964, 'melbourne': 2928, 'tuesday': 4926, 'mornings': 3059, 'kwon': 2599, 'choi': 772, 'songmakers': 4450, 'nikki': 3186, 'chooii': 775, 'amid': 194, 'farid': 1761, 'james': 2487, 'crabb': 1111, 'genevieve': 1979, 'lacey': 2610, 'piers': 3518, 'lane': 2620, 'breen': 568, 'caroline': 673, 'almonte': 161, 'tiffany': 4810, 'speight': 4484, 'david': 1185, 'mcnicol': 2901, 'oliver': 3283, 'compa': 908, 'ia': 2241, 'adam': 68, 'chalabi': 729, 'marshall': 2865, 'mcguire': 2900, 'synergy': 4692, 'percussion': 3470, 'geoffrey': 1984, 'collins': 871, 'emma': 1540, 'jane': 2489, 'murphy': 3091, 'howard': 2218, 'panny': 3394, 'tinalley': 4819, 'saguaro': 4140, 'symphony': 4690, 'friends': 1932, 'fernando': 1797, 'henrique': 2157, 'cardoso': 667, 'term': 4751, 'january': 2490, 'reelected': 3902, 'his': 2182, 'credited': 1119, 'stability': 4507, 'country': 1099, 'marred': 2860, 'hyperinflation': 2238, 'administration': 80, 'companies': 910, 'privatized': 3672, 'agencies': 115, 'regulate': 3934, 'industry': 2337, 'aviation': 373, 'etc': 1623, 'placed': 3531, 'focus': 1860, 'external': 1718, 'affairs': 101, 'political': 3574, 'liberalization': 2697, 'declining': 1210, 'contributed': 1051, 'brazil': 561, 'to': 4828, 'attack': 341, 'soaring': 4428, 'debt': 1197, 'figueiredo': 1814, 'stressed': 4576, 'food': 1870, 'resources': 4015, 'automobiles': 367, 'arms': 288, 'clothing': 832, 'shoes': 4335, 'electricity': 1522, 'petroleum': 3494, 'exploration': 1700, 'floundered': 1853, 'gdp': 1968, 'declined': 1209, 'accelerated': 27, 'rising': 4075, 'inflation': 2342, 'leadership': 2656, 'dilma': 1330, 'rousseff': 4106, 'worker': 5233, 'party': 3424, 'woman': 5221, 'elected': 1517, 'june': 2535, 'rouseff': 4105, 'announced': 226, 'labelled': 2605, 'brasil': 559, 'mis': 3002, 'ria': 4058, 'poverty': 3610, 'narrow': 3126, 'margin': 2846, 'far': 1759, 'failed': 1740, 'prevent': 3648, 'falling': 1751, 'luiz': 2782, 'cio': 794, 'lula': 2783, 'da': 1162, 'silva': 4371, 'pt': 3765, 'workers': 5234, 'presidency': 3639, 'vote': 5129, 'roberto': 4088, 'jefferson': 2498, 'chairman': 726, 'brazilian': 562, 'ptb': 3766, 'implicated': 2290, 'bribery': 572, 'loss': 2771, 'resulting': 4030, 'scandals': 4180, 'outweighed': 3357, 'voters': 5130, 'lower': 2777, 'whose': 5196, 'capita': 660, 'raised': 3821, 'consequence': 994, 'expansion': 1683, 'domestic': 1406, 'credit': 1118, 'consumers': 1021, 'welfare': 5178, 'programs': 3714, 'following': 1868, 'victory': 5084, 'approval': 261, 'fueled': 1939, 'continuity': 1040, 'economical': 1484, 'achievements': 47, 'obtained': 3249, 'record': 3886, 'military': 2980, 'mark': 2852, 'efforts': 1505, 'expand': 1679, 'influence': 2345, 'worldwide': 5240, 'specially': 4476, 'emerging': 1538, 'economies': 1486, 'participate': 3413, 'replaced': 3971, 'forum': 1896, 'discussions': 1361, 'demonstrations': 1249, 'clear': 823, 'rule': 4116, 'could': 1090, 'continue': 1037, 'tancredo': 4718, 'neves': 3170, 'minas': 2988, 'gerais': 1986, 'get': 1995, 'lio': 2727, 'dornelles': 1415, 'vargas': 5056, 'minister': 2998, 'former': 1889, 'federal': 1785, 'deputy': 1266, 'prime': 3655, 'seized': 4245, 'momentum': 3037, 'abilities': 11, 'allowed': 159, 'alliance': 154, 'pmdb': 3562, 'defectors': 1222, 'pds': 3457, 'liberal': 2696, 'front': 1937, 'pfl': 3496, 'candidate': 650, 'paulo': 3447, 'maluf': 2823, 'sarney': 4165, 'fulfilled': 1941, 'promise': 3725, 'passing': 3429, 'constitutional': 1016, 'amendment': 189, 'constitution': 1015, 'inherited': 2352, 'summon': 4640, 'elections': 1519, 'constituent': 1013, 'assembly': 320, 'powers': 3613, 'draft': 1426, 'enact': 1548, 'democratic': 1245, 'proclaimed': 3694, 'restored': 4026, 'civil': 802, 'rights': 4067, 'freedom': 1921, 'speech': 4482, 'prosecutors': 3742, 'minist': 2997, 'rio': 4071, 'p': 3372, 'blico': 521, 'universal': 4993, 'transition': 4879, 'suffered': 4628, 'stagnancy': 4512, 'decrease': 1212, 'achieving': 48, 'month': 3049, 'presidential': 3641, 'election': 1518, 'round': 4104, 'collor': 874, 'agenda': 117, 'fighting': 1813, 'corruption': 1086, 'completing': 934, 'civilian': 803, 'lifting': 2709, 'import': 2294, 'barriers': 419, 'exposing': 1707, 'local': 2746, 'parliamentary': 3407, 'win': 5208, 'reliable': 3952, 'base': 423, 'congress': 983, 'lose': 2770, 'accused': 43, 'pedro': 3463, 'condoning': 968, 'peddling': 3462, 'scheme': 4190, 'campaign': 643, 'treasurer': 4890, 'sar': 4161, 'farias': 1760, 'congressional': 984, 'inquiry': 2369, 'released': 3950, 'proven': 3753, 'expenses': 1690, 'paid': 3381, 'vice': 5081, 'itamar': 2480, 'franco': 1915, 'assumed': 329, 'remainder': 3957, 'moved': 3072, 'arrangements': 293, 'coalition': 845, 'leaders': 2655, 'psdb': 3763, 'stabilization': 4508, 'plano': 3542, 'annually': 230, 'votes': 5131, 'jo': 2505, 'signed': 4361, 'amnesty': 195, 'law': 2644, 'turned': 4940, 'geisel': 1969, 'distens': 1377, 'gradual': 2044, 'abertura': 9, 'opening': 3295, 'saying': 4175, 'goal': 2017, 'make': 2816, 'democracy': 1244, 'process': 3688, 'towards': 4856, 'culminated': 1141, 'adoption': 86, 'troubled': 4917, 'hard': 2115, 'liners': 2723, 'reacted': 3857, 'series': 4277, 'terrorist': 4757, 'bombings': 536, 'spain': 4466, 'visit': 5105, 'united': 4992, 'kingdom': 2582, 'beatrice': 447, 'daughter': 1184, 'biarritz': 492, 'stayed': 4541, 'villa': 5093, 'mauriscot': 2887, 'days': 1187, 'alfonso': 146, 'marriage': 2861, 'agreements': 127, 'treaty': 4896, 'private': 3670, 'contractual': 1047, 'concern': 960, 'victoria': 5083, 'eug': 1629, 'nie': 3183, 'conversion': 1062, 'protestants': 3748, 'accommodated': 34, 'decision': 1205, 'grant': 2051, 'consent': 993, 'privy': 3676, 'council': 1091, 'niece': 3184, 'subject': 4609, 'eugenie': 1630, 'grandson': 2050, 'felipe': 1788, 'vi': 5076, 'cartier': 680, 'tiara': 4806, 'diamonds': 1314, 'pearls': 3461, 'emeralds': 1537, 'left': 2668, 'infanta': 2340, 'maria': 2848, 'cristina': 1125, 'countess': 1096, 'marone': 2859, 'sapphire': 4160, 'ring': 4069, 'sold': 4435, 'sotheby': 4455, 'balmoral': 399, 'castle': 686, 'scotland': 4207, 'prince': 3656, 'henry': 2158, 'morganatic': 3057, 'style': 4602, 'battenberg': 433, 'queen': 3792, 'monarch': 3038, 'reluctantly': 3955, 'marry': 2864, 'remain': 3956, 'companion': 911, 'secretary': 4226, 'father': 1771, 'active': 57, 'service': 4285, 'contracting': 1044, 'fever': 1806, 'africa': 107, 'spanish': 4467, 'royal': 4110, 'exile': 1667, 'municipal': 3090, 'republicans': 3989, 'leading': 2657, 'proclamation': 3695, 'republic': 3987, 'gathered': 1964, 'rome': 4099, 'baptism': 409, 'palazzo': 3385, 'malta': 2822, 'juan': 2521, 'eldest': 1516, 'infante': 2341, 'carlos': 672, 'vatican': 5065, 'cardinal': 666, 'eugenio': 1631, 'pacelli': 3373, 'stood': 4563, 'dying': 1458, 'pope': 3584, 'pius': 3527, 'xi': 5258, 'become': 451, 'xii': 5259, 'months': 3050, 'briefly': 577, 'stand': 4515, 'godmother': 2023, 'sophia': 4453, 'greece': 2062, 'denmark': 1253, 'married': 2862, 'xiii': 5260, 'monastery': 3039, 'san': 4152, 'jer': 2499, 'nimo': 3187, 'madrid': 2800, 'after': 110, 'wedding': 5171, 'ceremony': 717, 'procession': 3691, 'heading': 2133, 'back': 389, 'palace': 3384, 'assassination': 317, 'inauspicious': 2302, 'start': 4523, 'isolated': 2466, 'unpopular': 5005, 'births': 511, 'deteriorated': 1289, 'devoted': 1300, 'hospitals': 2208, 'poor': 3582, 'education': 1495, 'dame': 1172, 'luisa': 2781, 'linguistic': 2725, 'khmer': 2575, 'divides': 1394, 'periods': 3481, 'old': 3281, 'subdivided': 4606, 'pre': 3617, 'angkorian': 219, 'conventionally': 1060, 'accepted': 30, 'historical': 2185, 'stages': 4511, 'transitional': 4880, 'represented': 3983, 'middle': 2971, 'cambodia': 637, 'fell': 1789, 'colonialism': 877, 'native': 3136, 'led': 2665, 'monk': 3044, 'chuon': 789, 'nath': 3130, 'resisted': 4009, 'thai': 4763, 'influences': 2347, 'spoken': 4495, 'million': 2983, 'dialects': 1312, 'mutually': 3107, 'intelligible': 2392, 'marked': 2853, 'classification': 815, 'showing': 4346, 'standard': 4516, 'taught': 4723, 'cambodian': 638, 'dialect': 1311, 'plain': 3537, 'encompassed': 1549, 'northwest': 3213, 'provinces': 3759, 'surin': 4659, 'border': 543, 'northeast': 3209, 'thailand': 4764, 'western': 5183, 'cardamom': 665, 'chanthaburi': 738, 'mountain': 3068, 'extending': 1714, 'eastern': 1478, 'phnom': 3502, 'penh': 3466, 'areas': 277, 'krom': 2594, 'southern': 4463, 'mekong': 2927, 'delta': 1241, 'formerly': 1890, 'vietnam': 5086, 'khe': 2574, 'se': 4214, 'srepok': 4503, 'sekong': 4247, 'river': 4078, 'valleys': 5052, 'sesan': 4289, 'siem': 4357, 'pang': 3392, 'districts': 1388, 'stung': 4599, 'treng': 4901, 'province': 3758, 'phonological': 3505, 'inventory': 2439, 'sounds': 4457, 'appropriate': 260, 'symbols': 4689, 'phonetic': 3504, 'alphabet': 165, 'ipa': 2454, 'voiceless': 5115, 'plosives': 3556, 'aspiration': 314, 'vs': 5136, 'contrastive': 1050, 'vowel': 5134, 'voiced': 5114, 'pronounced': 3728, 'implosives': 2293, 'speakers': 4472, 'weak': 5167, 'educated': 1494, 'syllable': 4684, 'approach': 258, 'respectively': 4017, 'addition': 70, 'consonants': 1009, 'occasionally': 3252, 'recent': 3879, 'loan': 2743, 'words': 5229, 'cambodians': 639, 'familiar': 1755, 'languages': 2625, 'authors': 363, 'proposed': 3737, 'slightly': 4411, 'analyses': 203, 'diphthongs': 1334, 'triphthongs': 4911, 'analyzed': 205, 'nucleus': 3230, 'plus': 3560, 'semivowel': 4260, 'coda': 851, 'followed': 1867, 'consonant': 1008, 'begins': 460, 'cluster': 836, 'rarely': 3840, 'slight': 4410, 'epenthesis': 1589, 'clusters': 837, 'consisting': 1004, 'plosive': 3555, 'comes': 888, 'syllabic': 4683, 'vowels': 5135, 'listed': 2730, 'minor': 2999, 'unstressed': 5011, 'preceding': 3619, 'structure': 4588, 'cv': 1158, 'crv': 1134, 'cvn': 1159, 'crvn': 1135, 'v': 5046, 'n': 3112, 'nasal': 3127, 'stress': 4575, 'falls': 1752, 'most': 3062, 'consist': 1001, 'syllables': 4685, 'compounds': 945, 'mostly': 3063, 'loanwords': 2744, 'usually': 5039, 'pali': 3388, 'sanskrit': 4158, 'patterns': 3445, 'phonation': 3503, 'distinction': 1379, 'survives': 4661, 'archaic': 270, 'tonal': 4837, 'colloquial': 872, 'contrast': 1049, 'versus': 5073, 'peaking': 3460, 'tone': 4838, 'compensate': 919, 'elision': 1530, 'intonation': 2428, 'conveys': 1068, 'semantic': 4257, 'context': 1032, 'distinguishing': 1383, 'declarative': 1207, 'statements': 4530, 'questions': 3797, 'exclamations': 1661, 'pattern': 3444, 'typical': 4948, 'phrase': 3508, 'steady': 4543, 'abrupt': 18, 'drop': 1439, 'want': 5147, 'signify': 4367, 'doubt': 1420, 'interrogative': 2417, 'similar': 4372, 'yes': 5265, 'reap': 3868, 'exclamatory': 1662, 'phrases': 3509, 'follow': 1866, 'steadily': 4542, 'sharply': 4321, 'instead': 2378, 'expensive': 1691, 'analytic': 204, 'inflection': 2344, 'lexical': 2694, 'categories': 690, 'define': 1226, 'isolating': 2467, 'little': 2737, 'morphology': 3060, 'compounding': 944, 'derivational': 1267, 'takes': 4711, 'forms': 1892, 'repetitive': 3970, 'nouns': 3224, 'inflect': 2343, 'grammatical': 2048, 'singular': 4388, 'plural': 3559, 'classifying': 817, 'particles': 3416, 'numerals': 3234, 'always': 179, 'obligatory': 3242, 'chinese': 771, 'dropped': 1440, 'possession': 3599, 'colloquially': 873, 'pronouns': 3729, 'register': 3927, 'choice': 773, 'pronoun': 3727, 'perceived': 3469, 'relationships': 3946, 'speaker': 4471, 'referent': 3907, 'registers': 3929, 'adjectives': 77, 'verbs': 5071, 'verb': 5068, 'nominalization': 3198, 'demonstratives': 1250, 'noun': 3223, 'modify': 3029, 'degrees': 1235, 'comparison': 916, 'constructed': 1017, 'syntactically': 4693, 'divided': 1393, 'auxiliary': 369, 'adjectival': 76, 'equivalent': 1602, 'syntax': 4694, 'rules': 4118, 'describe': 1271, 'sentences': 4272, 'particular': 3417, 'relate': 3940, 'clauses': 821, 'sentence': 4271, 'convey': 1067, 'meaning': 2902, 'optional': 3311, 'topic': 4844, 'predicate': 3622, 'adverbials': 94, 'indirect': 2329, 'markers': 2854, 'preferred': 3624, 'sv': 4667, 'do': 1397, 'io': 2452, 'ordering': 3320, 'objects': 3239, 'changed': 734, 'clarified': 809, 'inclusion': 2310, 'discourse': 1352, 'osv': 3343, 'possible': 3601, 'emphasizing': 1542, 'comment': 894, 'particle': 3415, 'attributes': 351, 'formal': 1882, 'precedes': 3618, 'follows': 1869, 'attribute': 350, 'completely': 933, 'uninflected': 4985, 'translates': 4882, 'copula': 1077, 'negation': 3153, 'achieved': 46, 'putting': 3787, 'clause': 820, 'imperatives': 2285, 'unmarked': 5001, 'prohibitives': 3718, 'take': 4709, 'softened': 4431, 'contexts': 1033, 'polite': 3573, 'passive': 3431, 'utilizing': 5043, 'hit': 2188, 'correct': 1083, 'undergo': 4965, 'results': 4031, 'translated': 4881, 'likely': 2714, 'immediately': 2274, 'head': 2130, 'counting': 1097, 'biquinary': 508, 'numbers': 3233, 'principal': 3658, 'gives': 2007, 'digits': 1328, 'spelling': 4486, 'transcription': 4874, 'ordinal': 3322, 'placing': 3535, 'corresponding': 1084, 'gist': 2003, 'diagnostic': 1308, 'significantly': 4365, 'basis': 428, 'particularly': 3418, 'kit': 2584, 'definition': 1229, 'clinical': 829, 'pathways': 3441, 'largely': 2629, 'uninformative': 4986, 'era': 1603, 'ct': 1140, 'undertaken': 4968, 'radiology': 3812, 'definitive': 1231, 'biopsy': 505, 'endoscopically': 1557, 'percutaneously': 3471, 'ultrasound': 4958, 'guidance': 2083, 'surgery': 4657, 'suspected': 4663, 'opposed': 3306, 'causes': 698, 'tumors': 4930, 'pathologist': 3439, 'immunohistochemistry': 2277, 'antibodies': 238, 'stain': 4513, 'molecule': 3034, 'cd': 703, 'suspicion': 4665, 'remains': 3959, 'tumor': 4929, 'newer': 3172, 'antibody': 239, 'dog': 1402, 'purpose': 3785, 'radiologic': 3811, 'locate': 2749, 'lesion': 2681, 'signs': 4368, 'invasion': 2436, 'metastasis': 2957, 'radiographs': 3810, 'helpful': 2155, 'gists': 2004, 'barium': 416, 'fluoroscopic': 1858, 'examinations': 1651, 'patient': 3442, 'abdominal': 6, 'complaints': 930, 'modalities': 3019, 'mri': 3078, 'selected': 4248, 'situations': 4399, 'endoscopic': 1556, 'arise': 280, 'bowel': 551, 'muscularis': 3093, 'propria': 3739, 'deeper': 1219, 'mucosa': 3082, 'submucosa': 4614, 'luminal': 2784, 'perspective': 3492, 'suggest': 4632, 'submucosal': 4615, 'mass': 2877, 'wall': 5143, 'grows': 2075, 'outside': 3355, 'exophytic': 1677, 'growth': 2076, 'inside': 2372, 'intraluminal': 2430, 'grow': 2073, 'exophytically': 1678, 'bulk': 602, 'cavity': 700, 'malignancy': 2821, 'metastases': 2956, 'omentum': 3284, 'peritoneum': 3484, 'localized': 2747, 'resectable': 3999, 'adult': 87, 'anatomically': 208, 'physiologically': 3512, 'feasible': 1780, 'radiotherapy': 3813, 'effective': 1498, 'respond': 4018, 'chemotherapy': 763, 'medications': 2919, 'less': 2683, 'imatinib': 2271, 'glivec': 2011, 'gleevec': 2010, 'orally': 3314, 'administered': 79, 'drug': 1441, 'marketed': 2856, 'chronic': 787, 'myelogenous': 3109, 'leukemia': 2689, 'bcr': 441, 'abl': 13, 'inhibition': 2353, 'inhibits': 2355, 'tyrosine': 4950, 'kinase': 2580, 'mutations': 3104, 'pdgfra': 3456, 'treating': 4893, 'approved': 262, 'metastatic': 2958, 'unresectable': 5009, 'us': 5027, 'fda': 1778, 'resistance': 4008, 'encountered': 1551, 'multiple': 3087, 'inhibitor': 2354, 'sunitinib': 4643, 'sutent': 4666, 'effectiveness': 1500, 'depend': 1257, 'genotype': 1981, 'regorafenib': 3930, 'stivarga': 4558, 'surgically': 4658, 'removed': 3962, 'longer': 2761, 'majority': 2815, 'ages': 119, 'rare': 3839, 'connective': 989, 'sarcomas': 4163, 'unlike': 5000, 'gastrointestinal': 1963, 'epithelial': 1592, 'interstitial': 2419, 'cajal': 626, 'icc': 2245, 'autonomic': 368, 'nervous': 3161, 'intestine': 2426, 'approximately': 263, 'associated': 326, 'abnormal': 15, 'pathway': 3440, 'comprises': 948, 'extracellular': 1720, 'domain': 1405, 'transmembrane': 4884, 'segment': 4244, 'intracellular': 2429, 'exons': 1676, 'gene': 1972, 'point': 3569, 'exon': 1675, 'targeted': 4722, 'therapy': 4775, 'drugs': 1442, 'mesylate': 2951, 'del': 1238, 'subset': 4618, 'stromal': 4584, 'previously': 3651, 'wild': 5202, 'carries': 678, 'somatic': 4440, 'activating': 56, 'wildtype': 5203, 'lesser': 2685, 'appear': 247, 'neither': 3158, 'pdgfr': 3455, 'abnormalities': 16, 'court': 1105, 'hears': 2139, 'variety': 5061, 'cases': 684, 'mandatory': 2827, 'discretionary': 1357, 'appeals': 246, 'courts': 1106, 'supreme': 4653, 'jurisdiction': 2536, 'review': 4047, 'trial': 4903, 'administrative': 81, 'instituted': 2379, 'judges': 2523, 'expedited': 1685, 'jx': 2542, 'summary': 4637, 'procedure': 3685, 'reduce': 3898, 'requiring': 3996, 'oral': 3313, 'argument': 278, 'chief': 766, 'associate': 325, 'justices': 2541, 'senior': 4265, 'nadeau': 3113, 'resignation': 4006, 'letter': 2688, 'governor': 2042, 'lynch': 2789, 'announcing': 228, 'retirement': 4035, 'ii': 2260, 'article': 298, 'states': 4531, 'judicial': 2527, 'officers': 3270, 'shall': 4316, 'executive': 1664, 'hold': 2190, 'offices': 3271, 'good': 2031, 'behavior': 463, 'unless': 4999, 'otherwise': 3346, 'assigned': 323, 'sit': 4392, 'temporarily': 4746, 'authority': 362, 'hear': 2137, 'arguments': 279, 'render': 3964, 'decisions': 1206, 'file': 1817, 'opinions': 3304, 'advisory': 98, 'committee': 902, 'members': 2933, 'considers': 1000, 'suggestions': 4633, 'governing': 2039, 'ethics': 1625, 'statutes': 4538, 'relating': 3942, 'ethical': 1624, 'conduct': 969, 'advise': 97, 'evidence': 1645, 'faith': 1745, 'disciplined': 1348, 'inquire': 2368, 'investigate': 2440, 'alleged': 153, 'misconduct': 3003, 'judge': 2522, 'referee': 3906, 'stenographer': 4548, 'reporter': 3978, 'clerk': 826, 'probate': 3680, 'persons': 3491, 'performing': 3478, 'duties': 1455, 'attorney': 349, 'discipline': 1347, 'effect': 1497, 'improve': 2300, 'effort': 1504, 'protect': 3744, 'client': 828, 'guarantee': 2077, 'lawyers': 2648, 'fair': 1743, 'bokowsky': 533, 'h': 2091, 'hampshire': 2102, 'enter': 1580, 'nolle': 3196, 'prosequi': 3743, 'prosecutions': 3741, 'initiated': 2358, 'officials': 3274, 'merrill': 2946, 'sherburne': 4325, 'judicature': 2526, 'ruled': 4117, 'practice': 3615, 'give': 2005, 'trials': 4905, 'certain': 718, 'unconstitutional': 4963, 'revolution': 4051, 'mortgage': 3061, 'specialists': 4474, 'inc': 2303, 'implode': 2292, 'explode': 1699, 'heavy': 2144, 'industries': 2336, 'internet': 2414, 'news': 3173, 'outlets': 3352, 'treated': 4892, 'traditional': 4866, 'print': 3661, 'legal': 2671, 'privileges': 3675, 'granted': 2052, 'journalists': 2517, 'wentworth': 5181, 'prescribed': 3631, 'charge': 747, 'instruct': 2381, 'jury': 2538, 'issue': 2470, 'reasonable': 3870, 'upheld': 5017, 'u': 4951, 'circuit': 795, 'tsoumas': 4924, 'f': 1724, 'aubert': 352, 'reversed': 4046, 'conviction': 1070, 'alternate': 170, 'instruction': 2382, 'indicated': 2324, 'depart': 1255, 'sweezy': 4676, 'citing': 800, 'fourteenth': 1904, 'contempt': 1031, 'finding': 1832, 'subversive': 4621, 'person': 3488, 'refused': 3917, 'subsequently': 4617, 'chaplinsky': 740, 'representatives': 3982, 'grand': 2049, 'inquest': 2367, 'impeachments': 2282, 'heard': 2138, 'senate': 4262, 'impeachment': 2281, 'commenced': 893, 'woodbury': 5226, 'langdon': 2621, 'portsmouth': 3595, 'conducted': 970, 'adopt': 84, 'hr': 2220, 'recommending': 3884, 'brock': 586, 'authored': 361, 'sent': 4270, 'resolutions': 4011, 'sherman': 4326, 'horton': 2207, 'jr': 2520, 'broderick': 587, 'determine': 1290, 'impeachable': 2280, 'convict': 1069, 'colony': 879, 'temporary': 4747, 'legislature': 2676, 'existing': 1671, 'amended': 188, 'establish': 1616, 'abolished': 17, 'statute': 4537, 'making': 2818, 'efficient': 1502, 'giving': 2008, 'branch': 556, 'consolidated': 1007, 'biennial': 493, 'budget': 598, 'commission': 898, 'jcc': 2496, 'totally': 4850, 'staff': 4510, 'space': 4465, 'shopping': 4339, 'carts': 682, 'combination': 884, 'plastic': 3544, 'nest': 3162, 'facilitate': 1728, 'collecting': 862, 'storage': 4565, 'injured': 2362, 'fitted': 1843, 'wheels': 5186, 'wheel': 5185, 'jams': 2488, 'cart': 679, 'handle': 2106, 'alternative': 171, 'basket': 429, 'past': 3436, 'studies': 4594, 'retailers': 4032, 'offer': 3266, 'sears': 4218, 'sales': 4147, 'supermarket': 4647, 'chain': 723, 'tesco': 4758, 'trialed': 4904, 'user': 5034, 'adjustable': 78, 'heart': 2140, 'rate': 3842, 'monitoring': 3043, 'calorie': 636, 'hardware': 2118, 'raise': 3820, 'awareness': 380, 'source': 4459, 'pathogens': 3438, 'researchers': 3998, 'prototypes': 3750, 'computerized': 951, 'aware': 379, 'attaching': 340, 'tablet': 4702, 'ordinary': 3323, 'some': 4441, 'target': 4721, 'begun': 461, 'fully': 1943, 'recycled': 3895, 'axles': 383, 'design': 1274, 'countries': 1098, 'customer': 1157, 'deposit': 1262, 'inserting': 2371, 'coin': 856, 'token': 4831, 'card': 664, 'returns': 4041, 'designated': 1275, 'parking': 3405, 'almost': 162, 'ubiquitous': 4952, 'continental': 1035, 'europe': 1634, 'canada': 647, 'chains': 724, 'aldi': 143, 'systems': 4697, 'compulsory': 949, 'coins': 858, 'value': 5053, 'sell': 4254, 'tokens': 4832, 'charity': 752, 'airports': 137, 'luggage': 2780, 'profit': 3710, 'opportunity': 3305, 'theft': 4768, 'costly': 1089, 'problem': 3683, 'stores': 4567, 'america': 190, 'utilize': 5041, 'retrieval': 4037, 'collects': 868, 'premises': 3627, 'fee': 1786, 'electronic': 1524, 'tech': 4731, 'prevention': 3649, 'utilizes': 5042, 'impediment': 2284, 'vertical': 5074, 'posts': 3605, 'taken': 4710, 'lot': 2774, 'mount': 3067, 'pole': 3570, 'taller': 4717, 'onto': 3291, 'block': 522, 'exit': 1673, 'cattle': 694, 'supermarkets': 4648, 'lock': 2753, 'mounted': 3069, 'connecting': 986, 'nested': 3163, 'corral': 1082, 'invention': 2438, 'sylvan': 4686, 'goldman': 2027, 'owner': 3370, 'humpty': 2229, 'dumpty': 1449, 'oklahoma': 3280, 'catch': 689, 'innovator': 2366, 'orla': 3338, 'watson': 5162, 'rear': 3869, 'door': 1412, 'allow': 158, 'nesting': 3164, 'bessie': 483, 'decamp': 1200, 'seat': 4220, 'belt': 473, 'chairs': 728, 'carriages': 676, 'devised': 1299, 'telescoping': 4739, 'disassembly': 1344, 'parts': 3423, 'unfolded': 4978, 'folding': 1863, 'chair': 725, 'owing': 3368, 'overwhelming': 3367, 'manufacturers': 2836, 'desired': 1278, 'exclusive': 1663, 'license': 2702, 'issued': 2471, 'driverless': 1436, 'chaotic': 739, 'moon': 3053, 'labs': 2609, 'carriage': 675, 'england': 1568, 'barrae': 418, 'coohudder': 1071, 'places': 3534, 'wagon': 5139, 'hawaii': 2128, 'he': 2129, 'indian': 2321, 'collector': 867, 'pune': 3776, 'commissioner': 899, 'india': 2320, 'maldives': 2819, 'march': 2845, 'currently': 1152, 'consul': 1019, 'response': 4019, 'swachh': 4668, 'bharat': 490, 'abhiyan': 10, 'narendra': 3123, 'modi': 3027, 'mulay': 3084, 'consulate': 1020, 'nokarshahiche': 3195, 'rang': 3836, 'autobiographical': 365, 'experiences': 1694, 'gyanbachi': 2089, 'mekh': 2926, 'subjects': 4611, 'covered': 1108, 'tourism': 4853, 'russia': 4128, 'navya': 3141, 'dishanche': 1365, 'amantran': 182, 'examines': 1653, 'portray': 3592, 'firsthand': 1838, 'rahila': 3816, 'gaon': 1957, 'poem': 3563, 'stretches': 4577, 'stanzas': 4519, 'rhyme': 4056, 'maati': 2792, 'pankh': 3393, 'aani': 2, 'aakash': 1, 'novel': 3226, 'marathi': 2844, 'true': 4919, 'story': 4569, 'regarding': 3920, 'polity': 3576, 'jonaki': 2513, 'passionate': 3430, 'sensitive': 4268, 'mind': 2989, 'trying': 4923, 'hidden': 2170, 'meanings': 2903, 'cultural': 1144, 'happenings': 2114, 'column': 883, 'loksatta': 2759, 'badalate': 392, 'vishwa': 5102, 'badalata': 391, 'vishwachi': 5103, 'maze': 2896, 'ghar': 1997, 'sakal': 4145, 'wrote': 5253, 'sadhana': 4137, 'weekly': 5174, 'contributes': 1052, 'hindu': 2180, 'pages': 3380, 'articles': 299, 'hindi': 2179, 'daily': 1165, 'dainik': 1166, 'bhaskar': 491, 'human': 2226, 'periodicals': 3480, 'japanese': 2492, 'lokmat': 2758, 'maharashtra': 2808, 'antarnad': 234, 'portions': 3591, 'writing': 5249, 'text': 4761, 'karnataka': 2550, 'japan': 2491, 'boards': 528, 'sahitya': 4141, 'akademi': 138, 'ritu': 4077, 'ug': 4954, 'rahi': 3815, 'hai': 2092, 'andar': 211, 'ek': 1512, 'asmaan': 312, 'urdu': 5025, 'ke': 2553, 'khalihanomein': 2569, 'subah': 4604, 'ki': 2576, 'hoti': 2211, 'nahin': 3115, 'situation': 4398, 'lat': 2635, 'kolhapur': 2591, 'district': 1387, 'risen': 4074, 'manohar': 2833, 'krishna': 2593, 'farmer': 1763, 'tailor': 4706, 'akkatai': 139, 'homemaker': 2198, 'completed': 932, 'graduation': 2047, 'shahaji': 4314, 'chattrapati': 756, 'topped': 4847, 'shivaji': 4334, 'ba': 385, 'literature': 2735, 'prestigious': 3645, 'dhananjay': 1303, 'keer': 2556, 'during': 1454, 'difficulties': 1324, 'find': 1831, 'aspired': 315, 'join': 2510, 'meanwhile': 2906, 'topper': 4848, 'mumbai': 3089, 'personnel': 3490, 'management': 2826, 'peter': 3493, 'alvarez': 178, 'medal': 2915, 'scoring': 4204, 'rank': 3838, 'mpsc': 3077, 'examination': 1650, 'succeeded': 4622, 'union': 4987, 'upsc': 5021, 'coveted': 1109, 'unit': 4991, 'vaguely': 5048, 'resembled': 4001, 'huge': 2222, 'washer': 5158, 'dryer': 1443, 'predecessor': 3621, 'ran': 3835, 'volts': 5125, 'ac': 25, 'needed': 3151, 'ipled': 2455, 'models': 3022, 'dealt': 1193, 'additional': 71, 'frame': 1910, 'drives': 1437, 'compact': 909, 'market': 2855, 'channel': 737, 'attached': 339, 'desktop': 1279, 'dasd': 1178, 'effectively': 1499, 'allowing': 160, 'maximum': 2890, 'mb': 2897, 'pc': 3454, 'informally': 2349, 'baby': 386, 'california': 628, 'products': 3705, 'positioned': 3597, 'replacement': 3972, 'entry': 1585, 'stripped': 4582, 'ocl': 3261, 'rpg': 4111, 'os': 3339, 'bought': 548, 'ssp': 4505, 'marketplace': 2857, 'unrecognizable': 5008, 'by': 619, 'offered': 3267, 'guest': 2081, 'sixteen': 4401, 'bit': 512, 'processors': 3693, 'csp': 1139, 'processor': 3692, 'msp': 3080, 'busy': 613, 'labeled': 2604, 'panel': 3391, 'hexadecimal': 2168, 'leds': 2666, 'smallest': 4416, 'k': 2543, 'ram': 3829, 'drive': 1434, 'largest': 2630, 'configured': 976, 'disk': 1367, 'organized': 3330, 'blocks': 523, 'compile': 927, 'kb': 2552, 'large': 2628, 'virtual': 5099, 'memory': 2936, 'manner': 2832, 'swap': 4672, 'popular': 3585, 'business': 611, 'shipped': 4332, 'department': 1256, 'antitrust': 240, 'lawsuit': 2647, 'claiming': 807, 'unlawful': 4998, 'practices': 3616, 'knock': 2587, 'competitors': 926, 'virtually': 5100, 'sda': 4213, 'though': 4786, 'code': 852, 'incompatible': 2312, 'command': 891, 'simpler': 4376, 'menus': 2943, 'simplified': 4377, 'keys': 2568, 'indicators': 2327, 'ka': 2544, 'ky': 2600, 'invisible': 2444, 'characters': 746, 'company': 912, 'amalgamated': 180, 'asna': 313, 'third': 4780, 'compiler': 929, 'password': 3434, 'security': 4236, 'resource': 4014, 'access': 31, 'devices': 1298, 'mile': 2979, 'users': 5036, 'dial': 1310, 'anywhere': 244, 'baud': 436, 'connection': 987, 'fast': 1769, 'responsive': 4022, 'connections': 988, 'graphics': 2057, 'databases': 1181, 'bulletproof': 603, 'reboots': 3874, 'ipls': 2456, 'ended': 1554, 'forward': 1897, 'badge': 393, 'implemented': 2288, 'stripe': 4581, 'reader': 3862, 'terminal': 4752, 'begin': 458, 'session': 4290, 'id': 2248, 'menu': 2942, 'secedit': 4222, 'ids': 2256, 'passwords': 3435, 'library': 2699, 'folder': 1862, 'group': 2071, 'userid': 5035, 'confine': 977, 'operational': 3300, 'contiguous': 1034, 'fixed': 1845, 'contain': 1026, 'extent': 1717, 'roughly': 4103, 'reorganized': 3968, 'extended': 1713, 'allocated': 157, 'files': 1818, 'sequential': 4276, 'indexed': 2319, 'distributed': 1385, 'data': 1179, 'architecture': 273, 'ddm': 1189, 'interface': 2407, 'graphical': 2056, 'interfaces': 2408, 'windows': 5209, 'interacting': 2398, 'commands': 892, 'typed': 4945, 'pressed': 3644, 'mouse': 3070, 'click': 827, 'cmd': 838, 'icon': 2247, 'rec': 3875, 'adv': 88, 'experienced': 1693, 'know': 2588, 'alt': 168, 'key': 2563, 'keypad': 2567, 'unavailable': 4960, 'keyboards': 2565, 'accented': 28, 'graphic': 2055, 'box': 552, 'fortran': 1895, 'cobol': 849, 'dfu': 1302, 'subroutine': 4616, 'wsu': 5254, 'formats': 1887, 'digit': 1326, 'assembler': 319, 'routine': 4108, 'programming': 3713, 'essential': 1615, 'workstation': 5237, 'interchangeably': 2402, 'thing': 4778, 'ones': 3288, 'evolved': 1649, 'mid': 2970, 'compatible': 917, 'served': 4283, 'emulators': 1546, 'predominated': 3623, 'dual': 1444, 'green': 2064, 'interestingly': 2405, 'colors': 881, 'implementation': 2287, 'unfortunately': 4979, 'extensive': 1716, 'confusing': 981, 'terminals': 4753, 'keyboard': 2564, 'clunky': 835, 'weighed': 5176, 'pounds': 3609, 'daisywheel': 1168, 'printer': 3663, 'typewriters': 4947, 'band': 403, 'lines': 2724, 'minute': 3001, 'lpm': 2778, 'dot': 1419, 'matrix': 2884, 'printers': 3664, 'workstations': 5238, 'switches': 4680, 'dip': 1333, 'gone': 2030, 'status': 4536, 'quo': 3803, 'online': 3290, 'setup': 4297, 'up': 5016, 'eight': 1509, 'numbered': 3232, 'twinaxial': 4942, 'out': 3350, 'ports': 3594, 'auto': 364, 'configure': 975, 'cnfigssp': 839, 'map': 2841, 'identify': 2253, 'assign': 322, 'characteristics': 744, 'console': 1006, 'subconsole': 4605, 'programmer': 3712, 'operator': 3302, 'productivity': 3704, 'aid': 133, 'pop': 3583, 'cost': 1088, 'mapics': 2842, 'information': 2350, 'database': 1180, 'feu': 1804, 'edit': 1492, 'utility': 5040, 'games': 1953, 'funlib': 1949, 'contained': 1027, 'star': 4520, 'trek': 4899, 'hangman': 2110, 'prix': 3677, 'biorhythm': 506, 'spool': 4496, 'acronym': 51, 'peripheral': 3482, 'operations': 3301, 'machines': 2795, 'slow': 4413, 'write': 5245, 'faster': 1770, 'manage': 2825, 'components': 939, 'writers': 5247, 'prints': 3667, 'paychecks': 3451, 'vitally': 5110, 'paycheck': 3450, 'check': 758, 'paper': 3395, 'likewise': 2715, 'printout': 3666, 'buxx': 616, 'sys': 4695, 'options': 3312, 'replying': 3974, 'message': 2948, 'sure': 4655, 'reports': 3979, 'stock': 4560, 'checks': 759, 'perfectly': 3472, 'aligned': 150, 'fit': 1841, 'boxes': 553, 'wasting': 5160, 'align': 149, 'aligning': 151, 'properly': 3732, 'gesar': 1993, 'mukpo': 3083, 'directed': 1337, 'tulku': 4927, 'renowned': 3966, 'tibetan': 4808, 'buddhist': 597, 'ch': 720, 'gyam': 2088, 'trungpa': 4920, 'rinpoche': 4070, 'film': 1821, 'scandalous': 4179, 'dream': 1432, 'internationally': 2413, 'lives': 2740, 'secular': 4233, 'halifax': 2095, 'nova': 3225, 'scotia': 4206, 'fund': 1945, 'approached': 259, 'board': 527, 'reel': 3901, 'diversity': 1391, 'filmmakers': 1825, 'colour': 882, 'gotten': 2037, 'look': 2762, 'fish': 1839, 'something': 4443, 'tell': 4742, 'nobody': 3194, 'shot': 4342, 'location': 2751, 'florida': 1852, 'nepal': 3160, 'premiered': 3626, 'doxa': 1425, 'televised': 4740, 'cbc': 701, 'network': 3166, 'eye': 1722, 'edition': 1493, 'dvd': 1457, 'favorable': 1775, 'reviews': 4049, 'pressburger': 3643, 'famed': 1754, 'filmmaker': 1824, 'emeric': 1539, 'deemed': 1217, 'intimate': 2427, 'honest': 2202, 'sleeper': 4408, 'working': 5235, 'interviewing': 2425, 'canadian': 648, 'dylan': 1459, 'henderson': 2156, 'caucasian': 695, 'incarnation': 2304, 'teachers': 4728, 'visits': 5107, 'younger': 5271, 'half': 2094, 'ashoka': 306, 'refugee': 3916, 'bir': 509, 'welcomed': 5177, 'fleeing': 1849, 'tibetans': 4809, 'occupation': 3254, 'tibet': 4807, 'meets': 2924, 'francisco': 1914, 'wyatt': 5255, 'arnold': 290, 'studying': 4598, 'shechen': 4323, 'returning': 4040, 'home': 2197, 'reflects': 3915, 'tulkus': 4928, 'interviewed': 2423, 'gangs': 1956, 'wasseypur': 5159, 'launched': 2640, 'raja': 3823, 'sen': 4261, 'rediff': 3897, 'gave': 1966, 'rating': 3846, 'soundtrack': 4458, 'calling': 633, 'strikingly': 4578, 'flavourful': 1848, 'headily': 2132, 'authentic': 359, 'quirky': 3801, 'sneha': 4422, 'khanwalkar': 2571, 'awards': 378, 'best': 484, 'director': 1340, 'filmfare': 1822, 'heavily': 2143, 'armed': 284, 'scour': 4208, 'finally': 1828, 'nasir': 3129, 'narration': 3125, 'colonial': 876, 'farm': 1762, 'lands': 2619, 'dhanbad': 1304, 'mining': 2996, 'shahid': 4315, 'khan': 2570, 'jaideep': 2485, 'ahlawat': 132, 'pathan': 3437, 'advantage': 90, 'mysteriousness': 3110, 'faceless': 1727, 'dacoit': 1163, 'sultana': 4636, 'qureshi': 3804, 'impersonating': 2286, 'rob': 4087, 'ferry': 1798, 'trains': 4871, 'rainy': 3819, 'ramadhir': 3831, 'singh': 4385, 'overhears': 3362, 'ambitions': 187, 'mines': 2994, 'nationalised': 3133, 'sardar': 4164, 'marries': 2863, 'nagma': 3114, 'khatoon': 2573, 'richa': 4061, 'chadda': 721, 'asgar': 304, 'satya': 4166, 'anand': 206, 'escape': 1608, 'jail': 2486, 'eventually': 1642, 'gets': 1996, 'pregnant': 3625, 'sensing': 4267, 'increasing': 2316, 'clout': 833, 'calls': 634, 'ehsaan': 1508, 'brokers': 589, 'meeting': 2923, 'sultan': 4635, 'decide': 1203, 'allies': 156, 'enemy': 1559, 'feared': 1779, 'shifts': 4328, 'stealing': 4544, 'iron': 2459, 'ore': 3324, 'mature': 2886, 'faizal': 1746, 'nawazuddin': 3142, 'siddiqui': 4355, 'seriously': 4279, 'bollywood': 534, 'movies': 3075, 'starts': 4526, 'behaving': 462, 'talking': 4716, 'dressing': 1433, 'reveals': 4043, 'friend': 1931, 'travelling': 4889, 'anurag': 241, 'kashyap': 2551, 'said': 4143, 'wanted': 5148, 'bihar': 496, 'reasons': 3871, 'bajpayee': 395, 'till': 4814, 'date': 1182, 'piyush': 3529, 'mishra': 3005, 'tigmanshu': 4812, 'dhulia': 1306, 'given': 2006, 'discretion': 1356, 'perform': 3473, 'interview': 2422, 'helped': 2154, 'bag': 394, 'huma': 2225, 'characterised': 743, 'debut': 1198, 'filming': 1823, 'varanasi': 5055, 'assistant': 324, 'sohil': 4433, 'shah': 4313, 'killed': 2579, 'shoot': 4336, 'stunt': 4600, 'scene': 4187, 'accident': 32, 'positive': 3598, 'aggregator': 121, 'website': 5170, 'reviewgang': 4048, 'movie': 3074, 'stars': 4522, 'subhash': 4608, 'jha': 2501, 'ians': 2242, 'brutal': 595, 'brilliant': 578, 'dark': 1177, 'sinister': 4389, 'terrifying': 4755, 'violence': 5096, 'savagely': 4168, 'funny': 1950, 'disregarded': 1374, 'helluva': 2152, 'romp': 4100, 'rugged': 4115, 'heartland': 2142, 'rajeev': 3826, 'masand': 2872, 'cnn': 840, 'ibn': 2244, 'concluding': 965, 'bolstered': 535, 'riveting': 4080, 'thrilling': 4793, 'plot': 3557, 'dynamics': 1461, 'gripping': 2067, 'seizes': 4246, 'attention': 348, 'saibal': 4142, 'chatterjee': 755, 'ndtv': 3144, 'faint': 1742, 'hearted': 2141, 'prissy': 3669, 'kunal': 2595, 'guha': 2082, 'yahoo': 5262, 'considering': 999, 'blood': 525, 'spilled': 4490, 'sauce': 4167, 'pur': 3779, 'excess': 1657, 'suffocates': 4631, 'magic': 2806, 'originality': 3334, 'lack': 2611, 'room': 4102, 'breathe': 566, 'maggie': 2805, 'lee': 2667, 'notes': 3221, 'lets': 2687, 'diverse': 1389, 'italo': 2478, 'mafia': 2801, 'classics': 814, 'coppola': 1076, 'scorsese': 4205, 'leone': 2679, 'michod': 2967, 'taut': 4724, 'crime': 1122, 'thriller': 4792, 'animal': 221, 'override': 3364, 'distinct': 1378, 'cr': 1110, 'escobar': 1609, 'bandra': 405, 'thursday': 4803, 'july': 2532, 'evening': 1639, 'draws': 1431, 'wars': 5155, 'jharkhand': 2502, 'muslim': 3100, 'girl': 2002, 'portrayed': 3593, 'conversely': 1061, 'character': 742, 'surajdeo': 4654, 'fazloo': 1776, 'sabir': 4135, 'alam': 141, 'downfall': 1422, 'kunti': 2596, 'widow': 5200, 'brothers': 593, 'baccha': 388, 'rajan': 3825, 'dhani': 1305, 'others': 3345, 'setting': 4293, 'disputes': 1373, 'relation': 3943, 'litigated': 2736, 'applicable': 251, 'dependent': 1258, 'laws': 2646, 'legislation': 2675, 'sue': 4626, 'crown': 1130, 'uk': 4955, 'breach': 563, 'damages': 1171, 'compensatory': 920, 'detrimented': 1292, 'liquidated': 2729, 'estimate': 1618, 'agreed': 125, 'avoids': 375, 'calculating': 627, 'parties': 3419, 'certainty': 719, 'punitive': 3778, 'exemplary': 1666, 'punish': 3777, 'fault': 1772, 'intended': 2394, 'nevertheless': 3169, 'claimant': 805, 'plaintiff': 3538, 'actual': 64, 'losses': 2772, 'accurately': 42, 'occurred': 3258, 'innocent': 2365, 'duty': 1456, 'mitigate': 3015, 'steps': 4551, 'consequential': 995, 'recover': 3891, 'caused': 697, 'foreseeable': 1878, 'circumstances': 798, 'unjust': 4996, 'permit': 3485, 'defaulting': 1220, 'simply': 4379, 'buy': 617, 'performance': 3474, 'performed': 3476, 'both': 547, 'injunction': 2361, 'remedies': 3960, 'originating': 3336, 'equity': 1600, 'related': 3941, 'orders': 3321, 'requested': 3992, 'prohibits': 3719, 'obtain': 3248, 'equitable': 1599, 'relief': 3953, 'aggrieved': 123, 'contains': 1029, 'valid': 5050, 'arbitration': 268, 'submit': 4613, 'procedures': 3686, 'forth': 1894, 'uniform': 4983, 'enforcement': 1563, 'arbitrated': 267, 'judgments': 2525, 'wales': 5140, 'enforced': 1562, 'urgent': 5026, 'applying': 255, 'interim': 2410, 'body': 531, 'addresses': 74, 'normative': 3204, 'conceptual': 959, 'more': 3055, 'propounded': 3738, 'marxist': 2871, 'dimension': 1331, 'theoretical': 4771, 'debate': 1196, 'obligations': 3241, 'restitutionary': 4024, 'enrichment': 1578, 'defendant': 1223, 'expense': 1689, 'recognise': 3882, 'privilege': 3673, 'capacity': 659, 'artificial': 300, 'enforce': 1561, 'restricted': 4027, 'competent': 923, 'voidable': 5118, 'voids': 5119, 'benefits': 475, 'evidenced': 1646, 'deed': 1216, 'document': 1400, 'bound': 549, 'referred': 3908, 'l': 2601, 'estrange': 1622, 'graucob': 2058, 'passed': 3427, 'frauds': 1918, 'parol': 3409, 'verbal': 5069, 'usage': 5029, 'regards': 3922, 'somewhat': 4445, 'deprecated': 1264, 'loose': 2766, 'somebody': 4442, 'signer': 4363, 'regardless': 3921, 'actually': 65, 'read': 3860, 'unwritten': 5015, 'unspoken': 5010, 'implied': 2291, 'acts': 63, 'legally': 2672, 'binding': 501, 'misrepresentation': 3007, 'false': 1753, 'statement': 4529, 'inducing': 2332, 'gordon': 2034, 'selico': 4253, 'misrepresent': 3006, 'fallacy': 1750, 'opinion': 3303, 'mistake': 3011, 'incorrect': 2314, 'grounds': 2070, 'invalidate': 2435, 'agreement': 126, 'mistaken': 3012, 'belief': 468, 'facts': 1737, 'unilateral': 4984, 'duress': 1453, 'threat': 4788, 'harm': 2120, 'compel': 918, 'judgment': 2524, 'esp': 1610, 'wrongful': 5252, 'manifestation': 2829, 'seeming': 4241, 'assent': 321, 'transaction': 4872, 'volition': 5121, 'undue': 4971, 'doctrine': 1399, 'parent': 3401, 'solicitor': 4437, 'aside': 309, 'unconscionable': 4962, 'dealing': 1192, 'illegal': 2261, 'policy': 3572, 'void': 5117, 'unusual': 5013, 'unenforceable': 4974, 'spy': 4500, 'secret': 4225, 'provision': 3760, 'uncertain': 4961, 'incomplete': 2313, 'reached': 3855, 'eyes': 1723, 'standards': 4518, 'mentioned': 2940, 'resolving': 4012, 'sever': 4302, 'severability': 4303, 'differently': 1322, 'technical': 4732, 'sense': 4266, 'generic': 1978, 'warranty': 5152, 'actress': 62, 'obligation': 3240, 'night': 3185, 'theatrical': 4767, 'singer': 4383, 'rehearse': 3936, 'obtaining': 3250, 'warranties': 5151, 'representations': 3981, 'finds': 1833, 'subjective': 4610, 'promotional': 3726, 'puffery': 3774, 'boilerplate': 532, 'fits': 1842, 'provisions': 3761, 'express': 1708, 'factual': 1738, 'rulings': 4119, 'standardized': 4517, 'shipping': 4333, 'insurance': 2387, 'partnerships': 3422, 'utmost': 5044, 'agency': 116, 'deal': 1191, 'sale': 4146, 'lease': 2663, 'custom': 1156, 'hutton': 2232, 'warren': 5153, 'whilst': 5192, 'barter': 422, 'existed': 1669, 'traceable': 4860, 'industrial': 2334, 'onwards': 3292, 'worked': 5232, 'factories': 1734, 'cash': 685, 'wage': 5138, 'principle': 3659, 'latin': 2638, 'pacta': 3376, 'sunt': 4644, 'servanda': 4281, 'jurisdictions': 2537, 'principles': 3660, 'european': 1635, 'discrimination': 1358, 'eroded': 1605, 'commercial': 896, 'foundation': 1899, 'fundamentally': 1947, 'overarching': 3359, 'eu': 1628, 'acceptance': 29, 'intention': 2397, 'consideration': 997, 'not': 3216, 'necessarily': 3148, 'reach': 3854, 'minds': 2991, 'bilateral': 497, 'side': 4356, 'advertised': 95, 'poster': 3604, 'constitute': 1014, 'invitation': 2445, 'treat': 4891, 'indication': 2326, 'prepared': 3629, 'negotiate': 3155, 'arises': 281, 'advertisement': 96, 'reward': 4054, 'famous': 1758, 'carlill': 671, 'carbolic': 663, 'smoke': 4420, 'ball': 398, 'nineteenth': 3190, 'ignored': 2258, 'presumed': 3646, 'intend': 2393, 'expressly': 1711, 'opposite': 3307, 'heads': 2135, 'dunlop': 1451, 'selfridge': 4252, 'lord': 2767, 'dunedin': 1450, 'pollack': 3577, 'metaphor': 2955, 'purchase': 3781, 'explain': 1695, 'unknown': 4997, 'weigh': 5175, 'adequacy': 75, 'sufficient': 4630, 'sufficiency': 4629, 'test': 4759, 'fairness': 1744, 'equivalence': 1601, 'entering': 1581, 'sinatra': 4381, 'nancy': 3120, 'barbato': 415, 'move': 3071, 'hollywood': 2194, 'errantly': 1607, 'strayed': 4572, 'extra': 1719, 'marital': 2851, 'marilyn': 2850, 'maxwell': 2891, 'valentine': 5049, 'ava': 370, 'gardner': 1959, 'transgressions': 4878, 'becoming': 453, 'regrets': 3931, 'what': 5184, 'ruefully': 4114, 'stated': 4528, 'warm': 5150, 'friendship': 1933, 'kitty': 2585, 'kelley': 2558, 'claims': 808, 'photographs': 3507, 'magazine': 2802, 'sworn': 4681, 'mia': 2965, 'farrow': 1768, 'barbara': 414, 'blakeley': 519, 'zeppo': 5274, 'straight': 4570, 'converted': 1063, 'catholicism': 693, 'blonde': 524, 'starlet': 4521, 'alora': 164, 'gooding': 2032, 'big': 495, 'nick': 3180, 'sevano': 4298, 'summers': 4639, 'swan': 4671, 'claimed': 806, 'turner': 4941, 'gushed': 2086, 'serious': 4278, 'faked': 1748, 'splitting': 4493, 'oblige': 3243, 'mgm': 2964, 'concerns': 962, 'judy': 2528, 'garland': 1960, 'remained': 3958, 'occasions': 3253, 'legendary': 2674, 'singers': 4384, 'romantically': 4098, 'lauren': 2642, 'bacall': 387, 'engaged': 1564, 'dancer': 1173, 'juliet': 2531, 'prowse': 3762, 'short': 4341, 'broke': 588, 'engagement': 1565, 'dickinson': 1316, 'spare': 4468, 'enjoyed': 1572, 'listening': 2732, 'classical': 813, 'attend': 346, 'workaholic': 5231, 'reportedly': 3977, 'slept': 4409, 'hours': 2212, 'average': 372, 'mood': 3052, 'swings': 4679, 'bouts': 550, 'mild': 2977, 'severe': 4305, 'depression': 1265, 'admitting': 83, 'interviewer': 2424, 'acute': 66, 'sadness': 4138, 'elation': 1514, 'julie': 2530, 'ann': 225, 'lyma': 2788, 'unacknowledged': 4959, 'showgirl': 4345, 'dorothy': 1416, 'bunocelli': 605, 'vanity': 5054, 'really': 3867, 'split': 4492, 'answered': 233, 'possibly': 3602, 'ronan': 4101, 'might': 2975, 'stereotype': 4552, 'tough': 4852, 'italian': 2476, 'embraced': 1536, 'boss': 546, 'willie': 5207, 'moretti': 3056, 'kickbacks': 2577, 'reported': 3976, 'intervened': 2421, 'releasing': 3951, 'tommy': 4836, 'dorsey': 1417, 'fbi': 1777, 'dossier': 1418, 'requests': 3993, 'germanic': 1989, 'roman': 4094, 'votive': 5132, 'dating': 1183, 'nd': 3143, 'rd': 3852, 'ad': 67, 'inscriptions': 2370, 'referring': 3909, 'hercules': 2160, 'reality': 3866, 'varying': 5064, 'likelihood': 2713, 'refer': 3905, 'thor': 4783, 'interpretatio': 2415, 'romana': 4095, 'contemporary': 1030, 'account': 39, 'christian': 781, 'missionary': 3009, 'saint': 4144, 'boniface': 538, 'felled': 1790, 'oak': 3237, 'tree': 4898, 'jove': 2519, 'donar': 1408, 'hesse': 2164, 'germany': 1990, 'mentions': 2941, 'thunor': 4802, 'unor': 5002, 'version': 5072, 'god': 2020, 'codex': 853, 'mainz': 2813, 'saxon': 4173, 'baptismal': 410, 'vow': 5133, 'records': 3890, 'gods': 2024, 'uu': 5045, 'wodan': 5219, 'saxn': 4172, 'te': 4726, 'thunaer': 4798, 'renunciation': 3967, 'demons': 1247, 'formula': 1893, 'repeated': 3969, 'pagans': 3378, 'formally': 1883, 'converting': 1064, 'christianity': 782, 'kentish': 2561, 'legend': 2673, 'probably': 3679, 'villainous': 5095, 'reeve': 3903, 'ecgberht': 1481, 'kent': 2560, 'swallowed': 4669, 'earth': 1472, 'unores': 5003, 'hl': 2189, 'mound': 3066, 'chronicler': 788, 'bremen': 569, 'gesta': 1994, 'hammaburgensis': 2100, 'ecclesiae': 1480, 'pontificum': 3580, 'mightiest': 2976, 'sits': 4396, 'temple': 4745, 'uppsala': 5020, 'triple': 4912, 'throne': 4794, 'flanked': 1846, 'woden': 5220, 'fricco': 1929, 'gamla': 1954, 'sweden': 4674, 'runic': 4125, 'invoking': 2449, 'norway': 3215, 'officially': 3273, 'christianized': 783, 'still': 4557, 'invoked': 2448, 'stick': 4554, 'bearing': 446, 'bryggen': 596, 'bergen': 478, 'poetic': 3566, 'edda': 1490, 'compiled': 928, 'reaching': 3856, 'pagan': 3377, 'appears': 250, 'lusp': 2785, 'gr': 2043, 'mnism': 3018, 'sk': 4404, 'rnism': 4084, 'rbar': 3851, 'slj': 4412, 'hymiskvi': 2234, 'lokasenna': 2756, 'rymskvi': 4133, 'alv': 177, 'ssm': 4504, 'hyndlulj': 2237, 'freyr': 1928, 'messenger': 2949, 'rnir': 4083, 'threatens': 4789, 'ger': 1985, 'smitten': 4419, 'threats': 4790, 'curses': 1154, 'odin': 3263, 'angry': 220, 'risks': 4076, 'potent': 3606, 'wrath': 5242, 'traveling': 4888, 'inlet': 2364, 'encounters': 1552, 'ferryman': 1799, 'disguise': 1363, 'attempts': 345, 'hail': 2093, 'ride': 4064, 'so': 4425, 'secures': 4235, 'goats': 2019, 'egil': 1507, 'hymir': 2233, 'search': 4217, 'cauldron': 696, 'enough': 1577, 'brew': 570, 'ale': 144, 'lacuna': 2613, 'manuscript': 2838, 'abruptly': 19, 'picks': 3514, 'boat': 529, 'sea': 4215, 'sitting': 4397, 'unhappy': 4980, 'silent': 4370, 'row': 4109, 'shore': 4340, 'arrives': 296, 'tells': 4744, 'loki': 2757, 'rip': 4072, 'hammer': 2101, 'tunheimr': 4933, 'tunn': 4934, 'rymr': 4132, 'barrow': 421, 'plaiting': 3539, 'golden': 2026, 'collars': 860, 'dogs': 1403, 'trimming': 4909, 'manes': 2828, 'horses': 2206, 'goddesses': 2022, 'meet': 2922, 'discuss': 1359, 'riding': 4065, 'goat': 2018, 'chariot': 749, 'disguised': 1364, 'arrive': 294, 'assembled': 318, 'tnar': 4827, 'wretched': 5244, 'asks': 311, 'bridal': 573, 'gift': 1999, 'freyja': 1927, 'mj': 3016, 'llnir': 2742, 'sanctify': 4154, 'bride': 574, 'lap': 2626, 'goddess': 2021, 'offers': 3268, 'hyndla': 2236, 'bl': 513, 'sacrifice': 4136, 'protected': 3745, 'comments': 895, 'prologue': 3722, 'snorri': 4424, 'sturluson': 4601, 'euhemerises': 1632, 'troy': 4918, 'memnon': 2935, 'troana': 4915, 'priam': 3652, 'aesir': 99, 'asia': 307, 'asgard': 305, 'asian': 308, 'gylfaginning': 2090, 'ldskaparm': 2652, 'ttatal': 4925, 'heimskringla': 2148, 'composed': 940, 'statues': 4535, 'ynglinga': 5268, 'saga': 4139, 'konar': 2592, 'lafs': 2615, 'tryggvasonar': 4922, 'fs': 1938, 'helga': 2151, 'tales': 4714, 'traditions': 4867, 'continued': 1038, 'scandinavia': 4181, 'pictured': 3515, 'red': 3896, 'bearded': 445, 'evident': 1647, 'danish': 1175, 'med': 2914, 'lange': 2622, 'beard': 444, 'frisian': 1935, 'curse': 1153, 'diis': 1329, 'ruadhiiret': 4113, 'donner': 1410, 'regiir': 3923, 'scandinavian': 4182, 'folk': 1864, 'lightning': 2711, 'frightens': 1934, 'trolls': 4916, 'folktales': 1865, 'reflection': 3914, 'beings': 467, 'norse': 3206, 'rr': 4112, 'placenames': 3533, 'danelaw': 1174, 'comparatively': 914, 'traces': 4861, 'locations': 2752, 'sparsely': 4470, 'donnersberg': 1411, 'derive': 1268, 'deity': 1237, 'iceland': 2246, 'breed': 567, 'fox': 1907, 'holta': 2196, 'holt': 2195, 'coat': 847, 'runestones': 4124, 'invocation': 2447, 'reads': 3864, 'hallow': 2097, 'runes': 4122, 'monument': 3051, 'stones': 4562, 'depict': 1260, 'fishing': 1840, 'serpent': 4280, 'rmungandr': 4082, 'rdum': 3853, 'stone': 4561, 'thy': 4805, 'altuna': 176, 'runestone': 4123, 'ardre': 274, 'vii': 5091, 'gotland': 2036, 'gosforth': 2035, 'pendants': 3465, 'distinctive': 1380, 'representing': 3984, 'frequently': 1925, 'unearthed': 4972, 'viking': 5092, 'burials': 607, 'swastika': 4673, 'symbol': 4688, 'swedish': 4675, 'chemist': 761, 'ns': 3228, 'berzelius': 481, 'chemical': 760, 'element': 1525, 'thorium': 4785, 'comic': 889, 'stan': 4514, 'larry': 2632, 'lieber': 2704, 'kirby': 2583, 'marvel': 2867, 'comics': 890, 'superhero': 4645, 'hero': 2163, 'shrew': 4349, 'scutisorex': 4212, 'thori': 4784, 'species': 4477, 'congo': 982, 'thunar': 4799, 'thuner': 4801, 'cognates': 855, 'descending': 1270, 'proto': 3749, 'masculine': 2874, 'unraz': 5007, 'thunder': 4800, 'origin': 3332, 'weekday': 5172, 'containing': 1028, 'theonym': 4770, 'butuan': 615, 'caraga': 662, 'forestland': 1880, 'earlier': 1467, 'comprised': 947, 'protection': 3746, 'forest': 1879, 'endowed': 1558, 'swamplands': 4670, 'coastal': 846, 'filling': 1820, 'extracted': 1721, 'riverbank': 4079, 'taguibo': 4705, 'ground': 2068, 'bay': 437, 'barangays': 412, 'urban': 5023, 'rural': 4127, 'registered': 3928, 'reflecting': 3913, 'proof': 3730, 'besting': 485, 'agricultural': 128, 'rice': 4059, 'bananas': 401, 'coconuts': 850, 'poultry': 3608, 'shrimp': 4350, 'milkfish': 2981, 'cosmopolitan': 1087, 'telecommunications': 4738, 'infrastructure': 2351, 'smart': 4417, 'communications': 906, 'globe': 2013, 'telecom': 4737, 'pldt': 3554, 'bayantel': 438, 'able': 14, 'serve': 4282, 'highlights': 2176, 'philippines': 3501, 'discovering': 1354, 'wonders': 5225, 'secrets': 4228, 'beautiful': 448, 'edelmiro': 1491, 'amante': 181, 'sr': 4502, 'pres': 3630, 'susan': 4662, 'fuentes': 1940, 'visayan': 5101, 'songs': 4451, 'calo': 635, 'medina': 2921, 'host': 2209, 'travel': 4887, 'abs': 20, 'cbn': 702, 'tipong': 4821, 'pinoy': 3525, 'oriented': 3331, 'aired': 134, 'gma': 2015, 'laurice': 2643, 'guillen': 2085, 'winning': 5210, 'actor': 61, 'johnny': 2509, 'delgado': 1239, 'deceased': 1201, 'josette': 2515, 'campo': 644, 'atayde': 332, 'sylvia': 4687, 'sanchez': 4153, 'dante': 1176, 'javelosa': 2493, 'luzon': 2787, 'veteran': 5075, 'anchor': 209, 'broadcaster': 584, 'seth': 4292, 'member': 2932, 'pilipinas': 3523, 'aguilas': 130, 'tackle': 4703, 'ardy': 275, 'larong': 2631, 'shooting': 4337, 'guard': 2078, 'alaska': 142, 'aces': 45, 'philippine': 3500, 'pba': 3453, 'marky': 2858, 'cielo': 792, 'charito': 751, 'booc': 539, 'plaza': 3553, 'author': 360, 'bill': 498, 'creating': 1115, 'seventeenth': 4300, 'lt': 2779, 'gen': 1970, 'hernando': 2162, 'dca': 1188, 'iriberri': 2457, 'being': 466, 'regional': 3926, 'competence': 922, 'timber': 4815, 'hub': 2221, 'colleges': 870, 'courses': 1104, 'universities': 4994, 'ateneo': 333, 'de': 1190, 'branches': 557, 'rainbow': 3818, 'angels': 216, 'learning': 2662, 'rock': 4089, 'shilo': 4330, 'mission': 3008, 'ampayon': 199, 'elementary': 1526, 'angelicum': 215, 'montessori': 3047, 'florencio': 1851, 'sibayan': 4353, 'libertad': 2698, 'obrero': 3244, 'ong': 3289, 'yiu': 5267, 'airport': 136, 'bancasi': 402, 'serves': 4284, 'agusan': 131, 'norte': 3207, 'port': 3588, 'masao': 2873, 'seaport': 4216, 'transportation': 4885, 'proper': 3731, 'orange': 3315, 'tricycle': 4907, 'accommodate': 33, 'passengers': 3428, 'joseph': 2514, 'estrada': 1621, 'lobbied': 2745, 'fidel': 1809, 'ramos': 3833, 'decongest': 1211, 'traffic': 4868, 'magsaysay': 2807, 'bridge': 575, 'route': 4107, 'developments': 1296, 'unfinished': 4977, 'sports': 4497, 'transferred': 4876, 'hectare': 2145, 'brgy': 571, 'colonization': 878, 'rajahnate': 3824, 'indianized': 2323, 'metallurgic': 2954, 'sophisticated': 4454, 'naval': 3140, 'song': 4449, 'dynasty': 1462, 'china': 770, 'trading': 4864, 'links': 2726, 'discovery': 1355, 'balangay': 396, 'boats': 530, 'ambangan': 184, 'barangay': 411, 'concentration': 955, 'archaeological': 269, 'ocean': 3260, 'going': 2025, 'southeast': 4462, 'easter': 1477, 'sunday': 4641, 'ferdinand': 1796, 'magellan': 2804, 'ordered': 3319, 'celebrated': 705, 'no': 3192, 'coincided': 857, 'burned': 608, 'guerrilla': 2080, 'attacked': 342, 'garrison': 1961, 'battle': 434, 'specialized': 4475, 'earning': 1471, 'nickname': 3181, 'logging': 2755, 'decline': 1208, 'investors': 2443, 'sheet': 4324, 'pieces': 3517, 'beethoven': 454, 'sonata': 4448, 'collections': 864, 'separate': 4273, 'vocal': 5112, 'musical': 3097, 'printed': 3662, 'score': 4201, 'scores': 4202, 'instruments': 2386, 'voices': 5116, 'composition': 943, 'lined': 2722, 'miniature': 2995, 'indistinguishable': 2330, 'except': 1655, 'reduction': 3900, 'literal': 2733, 'piece': 3516, 'orchestral': 3317, 'purely': 3783, 'sections': 4230, 'choral': 776, 'accompaniment': 36, 'comparable': 913, 'organ': 3326, 'exists': 1672, 'church': 790, 'hands': 2108, 'handel': 2105, 'messiah': 2950, 'label': 2603, 'selections': 4249, 'staves': 4540, 'polyphonic': 3579, 'baroque': 417, 'bass': 431, 'clef': 825, 'melodies': 2930, 'played': 3549, 'instrument': 2383, 'sung': 4642, 'upper': 5019, 'stave': 4539, 'treble': 4897, 'lead': 2654, 'specifies': 4479, 'melody': 2931, 'lyrics': 2790, 'chord': 777, 'chart': 753, 'melodic': 2929, 'detailed': 1283, 'harmonic': 2121, 'fake': 1747, 'jazz': 2495, 'tunes': 4932, 'tablature': 4699, 'solo': 4439, 'pitches': 3526, 'rhythm': 4057, 'guide': 2084, 'skill': 4406, 'sight': 4358, 'reading': 3863, 'unfamiliar': 4976, 'viewing': 5089, 'handwritten': 2109, 'instrumentalists': 2385, 'ear': 1466, 'tune': 4931, 'platform': 3546, 'composer': 941, 'writes': 5248, 'visual': 5108, 'already': 166, 'readable': 3861, 'format': 1884, 'notation': 3219, 'downloadable': 1423, 'platforms': 3547, 'digital': 1327, 'audio': 354, 'scorewriters': 4203, 'midi': 2972, 'performer': 3477, 'playing': 3552, 'equipped': 1598, 'controller': 1056, 'manual': 2834, 'connick': 990, 'coordinating': 1074, 'players': 3551, 'practical': 3614, 'mutopia': 3105, 'gutenberg': 2087, 'parchment': 3400, 'greek': 2063, 'least': 2664, 'bc': 440, 'hymns': 2235, 'mesomedes': 2947, 'crete': 1121, 'before': 455, 'preserved': 3638, 'manuscripts': 2839, 'advent': 92, 'printing': 3665, 'solely': 4436, 'translating': 4883, 'engraving': 1570, 'quality': 3789, 'issuing': 2473, 'renaissance': 3963, 'spread': 4498, 'efficiently': 1503, 'laboriously': 2607, 'copied': 1075, 'patronage': 3443, 'wealthy': 5168, 'aristocrats': 283, 'plate': 3545, 'sixteenth': 4402, 'methodology': 2961, 'hastened': 2127, 'photographic': 3506, 'increased': 2315, 'complexity': 937, 'publishers': 3772, 'saw': 4171, 'massive': 2880, 'explosion': 1702, 'parlor': 3408, 'ownership': 3371, 'rigueur': 4068, 'indicates': 2325, 'page': 3379, 'cover': 1107, 'genre': 1982, 'ca': 622, 'styles': 4603, 'notated': 3218, 'nashville': 3128, 'progression': 3716, 'enables': 1547, 'bandleaders': 404, 'notice': 3222, 'turkish': 4938, 'historian': 2183, 'handan': 2104, 'nezir': 3176, 'akme': 140, 'commitment': 901, 'unionists': 4989, 'professed': 3706, 'skin': 4407, 'deep': 1218, 'rallying': 3828, 'cry': 1136, 'equally': 1594, 'goltz': 2029, 'entire': 1583, 'ottoman': 3347, 'le': 2653, 'bon': 537, 'turks': 4939, 'parliament': 3406, 'turk': 4936, 'netted': 3165, 'progress': 3715, 'seats': 4221, 'associations': 328, 'banned': 408, 'ethnically': 1627, 'shut': 4351, 'organisations': 3328, 'clubs': 834, 'ethnic': 1626, 'coalesced': 844, 'shuttered': 4352, 'italy': 2479, 'organisation': 3327, 'italians': 2477, 'libya': 2700, 'secretive': 4227, 'shadowy': 4312, 'sparked': 4469, 'dubious': 1445, 'conspiracy': 1010, 'theories': 4772, 'cup': 1150, 'spite': 4491, 'partisan': 3420, 'revolutionary': 4053, 'cabinet': 623, 'sublime': 4612, 'porte': 3589, 'enver': 1586, 'pasha': 3425, 'easily': 1474, 'charismatic': 750, 'hardly': 2116, 'rumelia': 4120, 'ottomanism': 3348, 'defeat': 1221, 'balkan': 397, 'seemingly': 4242, 'showed': 4344, 'disloyal': 1368, 'nationalism': 3134, 'purge': 3784, 'marshals': 2866, 'generals': 1975, 'lieutenant': 2707, 'colonels': 875, 'inept': 2338, 'absent': 22, 'wartime': 5157, 'atmosphere': 335, 'minority': 3000, 'religions': 3954, 'christians': 784, 'anatolia': 207, 'summer': 4638, 'ambassador': 185, 'hans': 2111, 'von': 5128, 'wangenheim': 5146, 'swing': 4677, 'reich': 3937, 'governments': 2041, 'offensive': 3265, 'defensive': 1224, 'rally': 3827, 'triumvirate': 4913, 'victim': 5082, 'allied': 155, 'aggression': 122, 'admired': 82, 'modernising': 3024, 'meiji': 2925, 'restoration': 4025, 'impressed': 2299, 'russian': 4129, 'obsessed': 3246, 'copying': 1079, 'built': 601, 'presence': 3633, 'towns': 4858, 'recruiting': 3893, 'macedonia': 2793, 'diplomatic': 1335, 'question': 3795, 'abdulhamid': 8, 'persecuted': 3486, 'absolute': 23, 'reinstate': 3939, 'originally': 3335, 'suspended': 4664, 'overthrow': 3366, 'evolution': 1648, 'muslims': 3101, 'believed': 469, 'scientifically': 4199, 'nation': 3131, 'powerful': 3612, 'diverted': 1392, 'revolutionaries': 4052, 'countercoup': 1093, 'islamists': 2463, 'incident': 2305, 'reactionaries': 3859, 'rebelled': 3872, 'retook': 4036, 'istanbul': 2474, 'reign': 3938, 'abdul': 7, 'hamid': 2099, 'pan': 3389, 'islamism': 2462, 'hugely': 2223, 'caliph': 629, 'loomed': 2763, 'underground': 4966, 'karakol': 2547, 'depots': 1263, 'mustafa': 3103, 'kemal': 2559, 'atat': 331, 'rk': 4081, 'attempted': 344, 'introduce': 2431, 'politics': 3575, 'jump': 2533, 'multiparty': 3086, 'turkey': 4937, 'namely': 3118, 'progressive': 3717, 'republican': 3988, 'karabekir': 2546, 'crystallised': 1137, 'controversial': 1058, 'armenian': 286, 'genocide': 1980, 'telling': 4743, 'soviet': 4464, 'commissioners': 900, 'armenians': 287, 'territory': 4756, 'perished': 3483, 'rebellion': 3873, 'eager': 1465, 'marginalised': 2847, 'tradition': 4865, 'secularism': 4234, 'unionist': 4988, 'envisioned': 1588, 'proved': 3752, 'undertook': 4969, 'unsuccessful': 5012, 'russians': 4130, 'portion': 3590, 'partially': 3412, 'classic': 812, 'armenia': 285, 'retaken': 4033, 'russo': 4131, 'expedition': 1686, 'djemal': 1396, 'andreas': 212, 'jun': 2534, 'dubjel': 1446, 'talaat': 4713, 'collectively': 866, 'pashas': 3426, 'deportations': 1261, 'massacres': 2879, 'serving': 4287, 'disarmed': 1343, 'battalions': 432, 'call': 630, 'joint': 2512, 'accusing': 44, 'crimes': 1123, 'humanity': 2227, 'dissolution': 1375, 'disintegrated': 1366, 'resigned': 4007, 'any': 242, 'possibility': 3600, 'truth': 4921, 'reconciliation': 3885, 'democratisation': 1246, 'lost': 2773, 'neutral': 3167, 'invited': 2446, 'france': 1912, 'britain': 581, 'occupy': 3256, 'assassinated': 316, 'nemesis': 3159, 'census': 710, 'bureau': 606, 'town': 4857, 'water': 5161, 'cumberland': 1147, 'easternmost': 1479, 'massachusetts': 2878, 'facto': 1732, 'northeasternmost': 3211, 'rhode': 4055, 'island': 2464, 'cumberlandite': 1149, 'rich': 4060, 'mineral': 2993, 'unique': 4990, 'residing': 4005, 'headed': 2131, 'couples': 1102, 'householder': 2215, 'median': 2917, 'mills': 2985, 'fourth': 1905, 'parade': 3397, 'road': 4085, 'celebrate': 704, 'farms': 1767, 'convenience': 1059, 'original': 3333, 'dairy': 1167, 'event': 1640, 'cumberlandfest': 1148, 'weekend': 5173, 'diamond': 1313, 'hill': 2178, 'park': 3404, 'blackstone': 518, 'theatre': 4766, 'broad': 583, 'hosts': 2210, 'events': 1641, 'encompassing': 1550, 'prevailing': 3647, 'cultures': 1146, 'valley': 5051, 'historic': 2184, 'metcalf': 2959, 'franklin': 1917, 'abbott': 5, 'wrentham': 5243, 'americans': 192, 'plymouth': 3561, 'spelled': 4485, 'blaxton': 520, 'settle': 4295, 'tourist': 4854, 'destination': 1281, 'nine': 3189, 'misery': 3004, 'tomb': 4835, 'trappist': 4886, 'abbey': 4, 'our': 3349, 'lady': 2614, 'destroyed': 1282, 'fire': 1835, 'cannons': 652, 'cannonballs': 651, 'machine': 2794, 'looms': 2764, 'woolens': 5227, 'headquarters': 2134, 'hope': 2205, 'discount': 1351, 'chafee': 722, 'corridor': 1085, 'aaron': 3, 'fricke': 1930, 'sex': 4306, 'prom': 3723, 'baseball': 424, 'coach': 842, 'belisle': 470, 'championship': 732, 'seven': 4299, 'chairperson': 727, 'charter': 754, 'mayoral': 2895, 'prep': 3628, 'mercymount': 2945, 'sisters': 4391, 'mercy': 2944, 'americas': 193, 'my': 3108, 'cat': 688, 'wit': 5214, 'wisdom': 5212, 'sita': 4393, 'sings': 4387, 'blues': 526, 'min': 2987, 'animation': 223, 'is': 2461, 'mine': 2992, 'israel': 2468, 'palestine': 3386, 'canaan': 646, 'levant': 2690, 'kahlil': 2545, 'gibran': 1998, 'prophet': 3735, 'tom': 4834, 'doug': 1421, 'paley': 3387, 'syndicated': 4691, 'radio': 3809, 'comedy': 887, 'urbana': 5024, 'jean': 2497, 'passovoy': 3433, 'hiram': 2181, 'illustrating': 2266, 'collaboration': 859, 'chris': 779, 'butler': 614, 'obstacles': 3247, 'clearing': 824, 'hanshaw': 2112, 'recordings': 3889, 'questioncopyright': 3796, 'org': 3325, 'memes': 2934, 'strip': 4580, 'mimi': 2986, 'eunice': 1633, 'highlighting': 2175, 'intellectual': 2390, 'property': 3734, 'paradoxes': 3398, 'publish': 3770, 'nina': 3188, 'adventures': 93, 'fluff': 1857, 'copyleft': 1080, 'licence': 2701, 'conference': 972, 'copycamp': 1078, 'warsaw': 5156, 'ip': 2453, 'trivandrum': 4914, 'job': 2506, 'episodes': 1591, 'expanding': 1681, 'length': 2677, 'ramayana': 3832, 'rama': 3830, 'techniques': 4734, 'parsons': 3410, 'seder': 4237, 'masochism': 2876, 'unorthodox': 5004, 'animated': 222, 'exodus': 1674, 'narrated': 3124, 'passover': 3432, 'seders': 4238, 'quilts': 3799, 'santa': 4159, 'cruz': 1133, 'draw': 1429, 'cameraless': 642, 'imax': 2272, 'pandorama': 3390, 'modernist': 3025, 'festivals': 1802, 'mm': 3017, 'fetch': 1803, 'humorous': 2228, 'cartoon': 681, 'illusions': 2264, 'embarked': 1534, 'between': 488, 'freelance': 1922, 'duck': 1447, 'studios': 4596, 'diversification': 1390, 'industrialization': 2335, 'honduras': 2201, 'el': 1513, 'salvador': 4149, 'cacm': 625, 'integration': 2389, 'esquipulas': 1612, 'statistics': 4533, 'seemed': 4240, 'reflected': 3912, 'fluctuations': 1856, 'demand': 1242, 'rates': 3844, 'masked': 2875, 'structural': 4587, 'deficits': 1225, 'legacies': 2669, 'earthquake': 1473, 'decades': 1199, 'concentrated': 954, 'controlling': 1057, 'somoza': 4446, 'holdings': 2192, 'every': 1644, 'nicaraguan': 3178, 'estimated': 1619, 'arable': 266, 'processing': 3690, 'export': 1704, 'licenses': 2703, 'sandinistas': 4157, 'resulted': 4029, 'uneven': 4975, 'chose': 778, 'fill': 1819, 'decreasing': 1214, 'revenues': 4045, 'mushrooming': 3094, 'expenditures': 1688, 'amounts': 198, 'wiped': 5211, 'disaster': 1345, 'eleven': 1528, 'sandinista': 4156, 'overcame': 3360, 'inequalities': 2339, 'counterinsurgents': 1094, 'nicaragua': 3177, 'subsistence': 4620, 'farming': 1765, 'pools': 3581, 'labor': 2606, 'resemble': 4000, 'banana': 400, 'interests': 2406, 'elite': 1531, 'toward': 4855, 'dictatorial': 1317, 'policies': 3571, 'alienated': 148, 'nearly': 3147, 'shifted': 4327, 'anti': 237, 'struggle': 4589, 'tremendous': 4900, 'violeta': 5097, 'barrios': 420, 'chamorro': 731, 'radical': 3808, 'previous': 3650, 'package': 3375, 'bank': 406, 'prescriptions': 3632, 'imf': 2273, 'finance': 1829, 'mayoraga': 2894, 'quickly': 3798, 'disasters': 1346, 'plague': 3536}\n",
            "(1000, 5278)\n"
          ]
        }
      ]
    },
    {
      "cell_type": "markdown",
      "source": [
        "### Creating training data(one hot encoder)"
      ],
      "metadata": {
        "id": "AinBEYrT4VA0"
      }
    },
    {
      "cell_type": "code",
      "source": [
        "data = []\n",
        "WINDOW_SIZE = 3\n",
        "def to_one_hot(data_point_index, vocab_size):\n",
        "    temp = np.zeros(vocab_size)\n",
        "    temp[data_point_index] = 1\n",
        "    return temp"
      ],
      "metadata": {
        "id": "N7oTqKMKuJ6W"
      },
      "execution_count": null,
      "outputs": []
    },
    {
      "cell_type": "code",
      "source": [
        "for sentence in sentences:\n",
        "    for word_index, word in enumerate(sentence):\n",
        "        for nb_word in sentence[max(word_index - WINDOW_SIZE, 0) : min(word_index + WINDOW_SIZE, len(sentence)) + 1] : \n",
        "            if nb_word != word:\n",
        "                data.append([word, nb_word])"
      ],
      "metadata": {
        "id": "dnYdCQSfu2x5"
      },
      "execution_count": null,
      "outputs": []
    },
    {
      "cell_type": "code",
      "source": [
        "x_train = [] \n",
        "for data_word in data:\n",
        "    x_train.append(to_one_hot(word2int[data_word[0]], vocab_size))"
      ],
      "metadata": {
        "id": "2btdoLQeu20j"
      },
      "execution_count": null,
      "outputs": []
    },
    {
      "cell_type": "code",
      "source": [
        "y_train = [] \n",
        "for data_word in data:\n",
        "    y_train.append(to_one_hot(word2int[data_word[1]], vocab_size))"
      ],
      "metadata": {
        "id": "-CXzj0aGu22u"
      },
      "execution_count": null,
      "outputs": []
    },
    {
      "cell_type": "code",
      "source": [
        "x_train = np.asarray(x_train)\n",
        "y_train = np.asarray(y_train)"
      ],
      "metadata": {
        "id": "0uat22Qhu25m"
      },
      "execution_count": null,
      "outputs": []
    },
    {
      "cell_type": "code",
      "source": [
        "x = tf.placeholder(tf.float32, shape=(None, vocab_size))\n",
        "y_label = tf.placeholder(tf.float32, shape=(None, vocab_size))"
      ],
      "metadata": {
        "id": "UBdpTMbYu275"
      },
      "execution_count": null,
      "outputs": []
    },
    {
      "cell_type": "markdown",
      "source": [
        "### Embedding Size "
      ],
      "metadata": {
        "id": "FLYiZINb4ipL"
      }
    },
    {
      "cell_type": "code",
      "source": [
        "EMBEDDING_DIM = 20"
      ],
      "metadata": {
        "id": "29B_qL9du2-k"
      },
      "execution_count": null,
      "outputs": []
    },
    {
      "cell_type": "code",
      "source": [
        "W1 = tf.Variable(tf.random_normal([vocab_size, EMBEDDING_DIM]))\n",
        "b1 = tf.Variable(tf.random_normal([EMBEDDING_DIM]))\n",
        "hidden_representation = tf.add(tf.matmul(x,W1), b1)"
      ],
      "metadata": {
        "id": "URyhvUYv4f8c"
      },
      "execution_count": null,
      "outputs": []
    },
    {
      "cell_type": "code",
      "source": [
        "W2 = tf.Variable(tf.random_normal([EMBEDDING_DIM, vocab_size]))\n",
        "b2 = tf.Variable(tf.random_normal([vocab_size]))\n",
        "prediction = tf.nn.softmax(tf.add( tf.matmul(hidden_representation, W2), b2))"
      ],
      "metadata": {
        "id": "mZPWORINuJ81"
      },
      "execution_count": null,
      "outputs": []
    },
    {
      "cell_type": "markdown",
      "source": [
        "### Training model of word2vec"
      ],
      "metadata": {
        "id": "5sZw58Ku4rYd"
      }
    },
    {
      "cell_type": "code",
      "source": [
        "#sess = tf.Session()\n",
        "#init = tf.global_variables_initializer()\n",
        "#sess.run(init) \n",
        "#cross_entropy_loss = tf.reduce_mean(-tf.reduce_sum(y_label * tf.log(prediction), reduction_indices=[1]))\n",
        "#train_step = tf.train.GradientDescentOptimizer(0.1).minimize(cross_entropy_loss)\n",
        "#n_iters = 1000\n",
        "#for _ in range(n_iters):\n",
        "#    sess.run(train_step, feed_dict={x: x_train, y_label: y_train})\n",
        "#    print('loss is : ', sess.run(cross_entropy_loss, feed_dict={x: x_train, y_label: y_train}))"
      ],
      "metadata": {
        "id": "R8EUBuPRuJ_N"
      },
      "execution_count": null,
      "outputs": []
    },
    {
      "cell_type": "code",
      "source": [
        "#vectors = sess.run(W1 + b1)"
      ],
      "metadata": {
        "id": "lHnl_GbhuKB8"
      },
      "execution_count": null,
      "outputs": []
    },
    {
      "cell_type": "markdown",
      "source": [
        "### Loading the training vectors(embedding)"
      ],
      "metadata": {
        "id": "EbLknOV741lf"
      }
    },
    {
      "cell_type": "code",
      "source": [
        "import pickle"
      ],
      "metadata": {
        "id": "68iJmoxO6iYK"
      },
      "execution_count": 9,
      "outputs": []
    },
    {
      "cell_type": "code",
      "source": [
        "with open('/content/vectors.pickle1', 'rb') as handle:\n",
        "    vectors = pickle.load(handle)"
      ],
      "metadata": {
        "id": "RY0daUd1w6if"
      },
      "execution_count": 10,
      "outputs": []
    },
    {
      "cell_type": "markdown",
      "source": [
        "### Average of vectors"
      ],
      "metadata": {
        "id": "TqWv8kE25C4L"
      }
    },
    {
      "cell_type": "code",
      "source": [
        "avg_data = []\n",
        "for row in docs:\n",
        "    vec = np.zeros(20)\n",
        "    count = 0\n",
        "    for word in row:\n",
        "        try:\n",
        "            vec += vectors[word2int[word]]\n",
        "            count += 1\n",
        "        except:\n",
        "            pass\n",
        "    avg_data.append(vec/count)"
      ],
      "metadata": {
        "id": "N4gipbE9uKEj"
      },
      "execution_count": 11,
      "outputs": []
    },
    {
      "cell_type": "code",
      "source": [
        "avg_vec_wv = np.vstack(avg_data)"
      ],
      "metadata": {
        "id": "KKIQr6YxuKHP"
      },
      "execution_count": 12,
      "outputs": []
    },
    {
      "cell_type": "markdown",
      "source": [
        "### TF-IDF"
      ],
      "metadata": {
        "id": "CpfXgnmC5I4x"
      }
    },
    {
      "cell_type": "code",
      "source": [
        "word_set = list(words)\n",
        "total_documents = len(docs)\n",
        "total_documents"
      ],
      "metadata": {
        "id": "4k_eajhzuKJ8",
        "outputId": "59647e46-801a-40b4-fc97-313b34d3c618",
        "colab": {
          "base_uri": "https://localhost:8080/"
        }
      },
      "execution_count": 13,
      "outputs": [
        {
          "output_type": "execute_result",
          "data": {
            "text/plain": [
              "1000"
            ]
          },
          "metadata": {},
          "execution_count": 13
        }
      ]
    },
    {
      "cell_type": "code",
      "source": [
        "index_dict = {} #Dictionary to store index for each word\n",
        "i = 0\n",
        "for word in word_set:\n",
        "    index_dict[word] = i\n",
        "    i += 1"
      ],
      "metadata": {
        "id": "KXwAYBl9uKMk"
      },
      "execution_count": 14,
      "outputs": []
    },
    {
      "cell_type": "code",
      "source": [
        "#Create a count dictionary\n",
        "def count_dict(sentences):\n",
        "    word_count = {}\n",
        "    for word in word_set:\n",
        "        word_count[word] = 0\n",
        "        for sent in sentences:\n",
        "            if word in sent:\n",
        "                word_count[word] += 1\n",
        "    return word_count"
      ],
      "metadata": {
        "id": "5PiYsNXWvlOU"
      },
      "execution_count": 15,
      "outputs": []
    },
    {
      "cell_type": "code",
      "source": [
        "word_count = count_dict(docs)"
      ],
      "metadata": {
        "id": "UwXLI3UFvlRD"
      },
      "execution_count": 16,
      "outputs": []
    },
    {
      "cell_type": "code",
      "source": [
        "#Term Frequency\n",
        "def termfreq(document, word):\n",
        "    N = len(document)\n",
        "    occurance = len([token for token in document if token == word])\n",
        "    return occurance/N"
      ],
      "metadata": {
        "id": "2fJpnnkYvlTe"
      },
      "execution_count": 17,
      "outputs": []
    },
    {
      "cell_type": "code",
      "source": [
        "#Inverse Document Frequency\n",
        "def inverse_doc_freq(word):\n",
        "    try:\n",
        "        word_occurance = word_count[word] + 1\n",
        "    except:\n",
        "        word_occurance = 1\n",
        "    return np.log(total_documents/word_occurance)"
      ],
      "metadata": {
        "id": "t3OUQNFDvlWG"
      },
      "execution_count": 18,
      "outputs": []
    },
    {
      "cell_type": "code",
      "source": [
        "#TF-IDF\n",
        "def tf_idf(sentence):                \n",
        "    tf_idf_vec = np.zeros((len(word_set),))\n",
        "    for word in sentence:\n",
        "        tf = termfreq(sentence,word)\n",
        "        idf = inverse_doc_freq(word)         \n",
        "        value = tf*idf\n",
        "        tf_idf_vec[index_dict[word]] = value \n",
        "    return tf_idf_vec"
      ],
      "metadata": {
        "id": "-geq5GNxvlYo"
      },
      "execution_count": 19,
      "outputs": []
    },
    {
      "cell_type": "code",
      "source": [
        "tf_idf_vector = []\n",
        "for sent in sentences:\n",
        "    vec = tf_idf(sent)\n",
        "    tf_idf_vector.append(vec)"
      ],
      "metadata": {
        "id": "7Tt20BKJvlbN"
      },
      "execution_count": 20,
      "outputs": []
    },
    {
      "cell_type": "code",
      "source": [
        "tf_idf_vectors = np.vstack(tf_idf_vector)"
      ],
      "metadata": {
        "id": "GgBhcdCUvleA"
      },
      "execution_count": 21,
      "outputs": []
    },
    {
      "cell_type": "markdown",
      "source": [
        "### TF-IDF WORD2VEC"
      ],
      "metadata": {
        "id": "Q2H3-0Wb5cqR"
      }
    },
    {
      "cell_type": "code",
      "source": [
        "tf_w_data = []\n",
        "i = 0\n",
        "for row in sentences:\n",
        "    vec = [0 for i in range(20)]    \n",
        "    temp_tfidf = []\n",
        "    for val in tf_idf_vectors[i]:\n",
        "        if val != 0:\n",
        "            temp_tfidf.append(val)    \n",
        "    count = 0\n",
        "    tf_idf_sum = 0\n",
        "    for word in row:\n",
        "        try:\n",
        "            count += 1\n",
        "            tf_idf_sum = tf_idf_sum + temp_tfidf[count-1]\n",
        "            vec += (temp_tfidf[count-1] * vectors[word2int[word]])\n",
        "        except:\n",
        "          pass\n",
        "    vec = (float)(1/tf_idf_sum) * vec\n",
        "    tf_w_data.append(vec)\n",
        "    i = i + 1 "
      ],
      "metadata": {
        "id": "X-Yyp0cduKPT"
      },
      "execution_count": 22,
      "outputs": []
    },
    {
      "cell_type": "code",
      "source": [
        "final_vectors = np.vstack(tf_w_data)"
      ],
      "metadata": {
        "id": "2553yWyUuKST"
      },
      "execution_count": 23,
      "outputs": []
    },
    {
      "cell_type": "markdown",
      "source": [
        "### Cosine Similarity"
      ],
      "metadata": {
        "id": "OUS-p8R05nH9"
      }
    },
    {
      "cell_type": "code",
      "source": [
        "def cos_sim(a: Tensor, b: Tensor):\n",
        "    if not isinstance(a, torch.Tensor):\n",
        "        a = torch.tensor(a)\n",
        "    if not isinstance(b, torch.Tensor):\n",
        "        b = torch.tensor(b)\n",
        "    if len(a.shape) == 1:\n",
        "        a = a.unsqueeze(0)\n",
        "    if len(b.shape) == 1:\n",
        "        b = b.unsqueeze(0)\n",
        "    a_norm = torch.nn.functional.normalize(a, p=2, dim=1)\n",
        "    b_norm = torch.nn.functional.normalize(b, p=2, dim=1)\n",
        "    return torch.mm(a_norm, b_norm.transpose(0, 1))"
      ],
      "metadata": {
        "id": "91MOF245wN14"
      },
      "execution_count": 24,
      "outputs": []
    },
    {
      "cell_type": "markdown",
      "source": [
        "### Creating the clusters"
      ],
      "metadata": {
        "id": "EymhRLXN5sWy"
      }
    },
    {
      "cell_type": "code",
      "source": [
        "def cluster_detection(embeddings, threshold, min_community_size, batch_size=32):\n",
        "    if not isinstance(embeddings, torch.Tensor):\n",
        "        embeddings = torch.tensor(embeddings)\n",
        "    threshold = torch.tensor(threshold, device=embeddings.device)\n",
        "    extracted_communities = []\n",
        "    min_community_size = min(min_community_size, len(embeddings))\n",
        "    sort_max_size = min(max(2 * min_community_size, 50), len(embeddings))\n",
        "    for start_idx in range(0, len(embeddings), batch_size):\n",
        "        cos_scores = cos_sim(embeddings[start_idx:start_idx + batch_size], embeddings)\n",
        "        top_k_values, _ = cos_scores.topk(k=min_community_size, largest=True)\n",
        "        for i in range(len(top_k_values)):\n",
        "            if top_k_values[i][-1] >= threshold:\n",
        "                new_cluster = []\n",
        "                top_val_large, top_idx_large = cos_scores[i].topk(k=sort_max_size, largest=True)\n",
        "                while top_val_large[-1] > threshold and sort_max_size < len(embeddings):\n",
        "                    sort_max_size = min(2 * sort_max_size, len(embeddings))\n",
        "                    top_val_large, top_idx_large = cos_scores[i].topk(k=sort_max_size, largest=True)\n",
        "                for idx, val in zip(top_idx_large.tolist(), top_val_large):\n",
        "                    if val < threshold:\n",
        "                        break\n",
        "                    new_cluster.append(idx)\n",
        "                extracted_communities.append(new_cluster)\n",
        "        del cos_scores\n",
        "    extracted_communities = sorted(extracted_communities, key=lambda x: len(x), reverse=True)\n",
        "    unique_communities = []\n",
        "    extracted_ids = set()\n",
        "    for cluster_id, community in enumerate(extracted_communities):\n",
        "        community = sorted(community)\n",
        "        non_overlapped_community = []\n",
        "        for idx in community:\n",
        "            if idx not in extracted_ids:\n",
        "                non_overlapped_community.append(idx)\n",
        "        if len(non_overlapped_community) >= min_community_size:\n",
        "            unique_communities.append(non_overlapped_community)\n",
        "            extracted_ids.update(non_overlapped_community)\n",
        "    unique_communities = sorted(unique_communities, key=lambda x: len(x), reverse=True)\n",
        "    return unique_communities"
      ],
      "metadata": {
        "id": "vBemqTbWuKcW"
      },
      "execution_count": 25,
      "outputs": []
    },
    {
      "cell_type": "code",
      "source": [
        "clusters = cluster_detection(final_vectors, min_community_size=1, threshold=0.50)"
      ],
      "metadata": {
        "id": "hTEt8XoeuKez"
      },
      "execution_count": 43,
      "outputs": []
    },
    {
      "cell_type": "code",
      "source": [
        "for i, cluster in enumerate(clusters):\n",
        "    print(\"\\nCluster {}, #{} Elements \".format(i+1, len(cluster)))\n",
        "    for sentence_id in cluster[0:3]:\n",
        "        print(\"\\t\", docs[sentence_id])"
      ],
      "metadata": {
        "id": "_N-cJ6CIuKhb",
        "outputId": "324b3f15-ad94-4302-ead5-4adc602f0cb5",
        "colab": {
          "base_uri": "https://localhost:8080/"
        }
      },
      "execution_count": 44,
      "outputs": [
        {
          "output_type": "stream",
          "name": "stdout",
          "text": [
            "\n",
            "Cluster 1, #103 Elements \n",
            "\t the effects disequilibrium vary according equations belong\n",
            "\t the equation economic equilibrium disequilibrium s t m i g x five sector model levels income expenditure output greatly rise causing boom economic activity\n",
            "\t in real flow household sector supplies raw material land labour capital enterprise firms return firms sector provides finished goods services household sector\n",
            "\n",
            "Cluster 2, #57 Elements \n",
            "\t the first visualize modern circular flow income model frank knight publication the economic organization ref\n",
            "\t laser doppler vibrometry a laser doppler vibrometer used produce accurate deflection measurements oscillating cantilever ref thus used non contact mode\n",
            "\t due nature afm probes cannot normally measure steep walls overhangs\n",
            "\n",
            "Cluster 3, #51 Elements \n",
            "\t tony hunter professional football player buffalo bills los angeles rams\n",
            "\t the lacrosse team two state titles constant force state midwest\n",
            "\t marx distinguishes simple reproduction expanded enlarged reproduction ref\n",
            "\n",
            "Cluster 4, #35 Elements \n",
            "\t moeller student run newspaper the crusader consistently recognized one top region\n",
            "\t the moeller art program nationally recognized four year program culminates advanced placement studio art art history ref\n",
            "\t the moeller crusaders long history athletic success\n",
            "\n",
            "Cluster 5, #28 Elements \n",
            "\t of course total economy much complicated illustration\n",
            "\t mollie manufacturing facility tile mill ref\n",
            "\t lorde time tougaloo college like year national university mexico formative experience artist\n",
            "\n",
            "Cluster 6, #25 Elements \n",
            "\t the land occupied mollie community located intersection blackford county roads north east farmland owned privately\n",
            "\t her writings based theory difference idea binary opposition men women overly simplistic although feminists found necessary present illusion solid unified whole category women full subdivisions ref\n",
            "\t in lorde inducted legacy walk outdoor public display chicago illinois celebrates lgbt history people ref\n",
            "\n",
            "Cluster 7, #23 Elements \n",
            "\t the circular flow diagram illustrates interdependence flows activities occur economy production goods services output economy income generated production\n",
            "\t in financial sector in terms circular flow income model leakage financial institutions provide economy option households save money\n",
            "\t the importance vic watts became obvious sharon returned lay claim pub year absence\n",
            "\n",
            "Cluster 8, #21 Elements \n",
            "\t the circular flow diagram abstraction economy whole\n",
            "\t real flow exchange goods services household firms whereas money flow monetary exchange two sectors\n",
            "\t when goods services flow one sector economy another known real flow\n",
            "\n",
            "Cluster 9, #19 Elements \n",
            "\t the title went second team ohio high school boys volleyball history go undefeated\n",
            "\t an important development john maynard keynes publication general theory employment interest money\n",
            "\t rather two mrs watts highly individual volatile figures dominated relationship den\n",
            "\n",
            "Cluster 10, #19 Elements \n",
            "\t the circular flow income concept better understanding economy whole example national income product accounts nipas\n",
            "\t production consumption expenditure generation income three basic economic activities economy go endlessly titled circular flow income\n",
            "\t details explained case especially constant df mode fm afm among afm instance next section\n",
            "\n",
            "Cluster 11, #18 Elements \n",
            "\t in the crusader first place second highest honor high school newspaper receive american scholastic press association ref\n",
            "\t unending nature economic activities it signifies production income expenditure unending nature therefore economic activities economy never come halt\n",
            "\t the watts centre figure den casts strong shadow family\n",
            "\n",
            "Cluster 12, #16 Elements \n",
            "\t first regulation impedes flow income throughout social classes therefore economic development\n",
            "\t on august sharon returned walford dennis jnr became instantly involved prominent branning family shared flirtatious relationship jack soon befriended brother max ultimately partner tanya cross initially feuded\n",
            "\t lorde relationship parents difficult young age\n",
            "\n",
            "Cluster 13, #16 Elements \n",
            "\t quite number countermeasures installed counteract misuse computers including web filtering monitor students use computers\n",
            "\t fran ois quesnay developed concepts first visualize interactions time called tableau conomique ref\n",
            "\t throughout years screen watts one eastenders tried tested sources drama tragedy\n",
            "\n",
            "Cluster 14, #14 Elements \n",
            "\t there government sector\n",
            "\t various methods detection used e g\n",
            "\t future northern indiana including became harrison township mollie flattened two glaciers millions years ago ref\n",
            "\n",
            "Cluster 15, #14 Elements \n",
            "\t this say circular flow diagram useful understanding basics economy leakages injections\n",
            "\t injections leakages\n",
            "\t the process transition towards democracy culminated end military regime adoption new democratic constitution however troubled\n",
            "\n",
            "Cluster 16, #13 Elements \n",
            "\t afm several advantages scanning electron microscope sem\n",
            "\t the afm signals sample height cantilever deflection recorded computer x scan\n",
            "\t inspired life vienna enormous respect teacher simon pullman determined create pullman like ensemble sydney\n",
            "\n",
            "Cluster 17, #10 Elements \n",
            "\t in contact mode tip dragged across surface sample contours surface measured either using deflection cantilever directly commonly using feedback signal required keep cantilever constant position\n",
            "\t mollie economy centered railroad stop agriculture\n",
            "\t musica viva international concert season presents great chamber musicians around world\n",
            "\n",
            "Cluster 18, #9 Elements \n",
            "\t it also administration many state owned companies privatized agencies created first time regulate many sectors industry energy oil aviation etc\n",
            "\t barium fluoroscopic examinations ct commonly used evaluate patient abdominal complaints\n",
            "\t in late us department justice ended case ibm ibm went forward system named as\n",
            "\n",
            "Cluster 19, #9 Elements \n",
            "\t if s t m i g x levels income output expenditure employment fall causing recession contraction overall economic activity\n",
            "\t her second volume cables rage mainly written tenure poet residence tougaloo college mississippi addressed themes love betrayal childbirth complexities raising children\n",
            "\t one works sister outsider the master tools will never dismantle master house\n",
            "\n",
            "Cluster 20, #9 Elements \n",
            "\t khmer verbs relatively open class divided two types main verbs auxiliary verbs ref\n",
            "\t syntax rules processes describe sentences formed particular language words relate within clauses phrases phrases relate within sentence convey meaning ref\n",
            "\t ct scanning often undertaken see radiology section\n",
            "\n",
            "Cluster 21, #8 Elements \n",
            "\t the hard liners reacted opening series terrorist bombings\n",
            "\t khmer passive voice ref construction utilizing main verb hit correct affect auxiliary verb meaning subject undergo results sentences translated english using passive voice ref\n",
            "\t the advisory committee judicial ethics provides advisory opinions appropriate rules court statutes relating ethical professional conduct judges advise would evidence good faith disciplined\n",
            "\n",
            "Cluster 22, #8 Elements \n",
            "\t second taxes productive classes farmers reduced favor higher taxes unproductive classes landowners since luxurious way life distorts income flow\n",
            "\t all output o produced firms purchased households expenditure e\n",
            "\t the melbourne season featured howard panny timothy young tinalley string quartet saguaro trio melbourne symphony percussion friends australian brass quintet\n",
            "\n",
            "Cluster 23, #8 Elements \n",
            "\t there foreign sector\n",
            "\t the afm applied problems wide range disciplines natural sciences including solid state physics semiconductor science technology molecular engineering polymer chemistry physics surface chemistry molecular biology cell biology medicine\n",
            "\t just tip brought close surface object investigation cantilever deflected interaction tip surface afm designed measure\n",
            "\n",
            "Cluster 24, #8 Elements \n",
            "\t in spent pivotal year student national university mexico period described time affirmation renewal\n",
            "\t in whole family gathered rome baptism palazzo malta juan eldest son infante juan carlos vatican cardinal secretary state eugenio pacelli stood dying pope pius xi would become pope pius xii months\n",
            "\t the following classification scheme showing development modern khmer dialects ref\n",
            "\n",
            "Cluster 25, #7 Elements \n",
            "\t soon den joined second wife chrissie pair proceeded bring whole mitchell financial empire bankrupting family scam retaking control vic\n",
            "\t beneath soil mollie lies trenton oil gas field responsible indiana gas boom ref\n",
            "\t mollie post office discontinued february area mail began handled nearby hartford city post office ref\n",
            "\n",
            "Cluster 26, #7 Elements \n",
            "\t khmer verbs completely uninflected subject topic introduced clear context noun phrase may dropped\n",
            "\t khmer uses three verbs translates english copula\n",
            "\t susan calo medina host travel time abs cbn news channel tipong pinoy cultural oriented show aired gma network\n",
            "\n",
            "Cluster 27, #7 Elements \n",
            "\t in marxian economics economic reproduction refers recurrent cyclical processes ref initial conditions necessary economic activity occur constantly created ref\n",
            "\t each sectors receives payments lieu goods services makes regular flow goods physical services\n",
            "\t her conception many layers selfhood replicated multi genres work\n",
            "\n",
            "Cluster 28, #7 Elements \n",
            "\t in luiz in cio lula da silva pt workers party presidency national vote\n",
            "\t in researchers developed prototypes computerized context aware shopping carts attaching tablet computers ordinary carts\n",
            "\t an oral contract may also called parol contract verbal contract verbal meaning spoken rather words established usage british english regards contracts agreements ref common although somewhat deprecated loose american english ref\n",
            "\n",
            "Cluster 29, #7 Elements \n",
            "\t one earliest ideas circular flow explained work th century irish french economist richard cantillon ref influenced prior economists especially william petty ref\n",
            "\t victoria eugenie devoted work hospitals services poor well education\n",
            "\t the intonation pattern typical khmer declarative phrase steady rise throughout followed abrupt drop last syllable ref\n",
            "\n",
            "Cluster 30, #7 Elements \n",
            "\t measurement national income national income estimation aggregation economic activity circular flow\n",
            "\t s t m i g x levels income expenditure output fall causing contraction recession overall economic activity\n",
            "\t following lula second victory approval ratings started rise fueled continuity economical social achievements obtained first term record highest brazilian president since end military regime\n",
            "\n",
            "Cluster 31, #6 Elements \n",
            "\t want go siem reap ref\n",
            "\t jurisdictions vary principles freedom contract\n",
            "\t in order contract formed parties must reach mutual assent also called meeting minds\n",
            "\n",
            "Cluster 32, #6 Elements \n",
            "\t approximately gists associated abnormal c kit pathway\n",
            "\t numerous place names scandinavia contain old norse name rr\n",
            "\t lt gen hernando dca iriberri former chief staff armed forces philippines\n",
            "\n",
            "Cluster 33, #6 Elements \n",
            "\t afm probes manufactured mems technology\n",
            "\t lorde poetry published regularly langston hughes new negro poets usa several foreign anthologies black literary magazines\n",
            "\t the principal number words listed following table gives western khmer digits khmer spelling ipa transcription ref\n",
            "\n",
            "Cluster 34, #5 Elements \n",
            "\t in natural gas discovered nearby hartford city blackford county began participation indiana gas boom ref\n",
            "\t the last military president jo figueiredo signed general amnesty law turned geisel distens gradual abertura opening political system saying goal make country democracy\n",
            "\t in colonial times concept consideration exported many common law countries unknown scotland civil law jurisdictions\n",
            "\n",
            "Cluster 35, #5 Elements \n",
            "\t mollie located intersection county roads north east\n",
            "\t in state constitution amended establish supreme court superior court constitutional courts means could changed abolished constitutional amendment legislature\n",
            "\t members advisory boards sahitya akademi ref\n",
            "\n",
            "Cluster 36, #5 Elements \n",
            "\t may view economic organization system prize relations\n",
            "\t franco moved away collor made arrangements national coalition government including main leaders pmdb pfl psdb\n",
            "\t nancy barbato sinatra frank sinatra announced separation valentine day february frank additional extra marital affair ava gardner compounding transgressions becoming public knowledge\n",
            "\n",
            "Cluster 37, #5 Elements \n",
            "\t recently moeller unveiled plans build multipurpose stadium campus named gerry faust athletic complex foot bronze statue honoring entrance however plan faced strong criticism neighboring homeowners moeller request change zoning regulation denied\n",
            "\t the detector afm measures deflection displacement respect equilibrium position cantilever converts electrical signal\n",
            "\t victoria eugenie cartier tiara diamonds set pearls alternatively emeralds left daughter infanta maria cristina countess marone\n",
            "\n",
            "Cluster 38, #5 Elements \n",
            "\t in cellular biology afm used attempt distinguish cancer cells normal cells based hardness cells b evaluate interactions specific cell neighboring cells competitive culture system\n",
            "\t as tumor grows may project outside bowel exophytic growth inside bowel intraluminal growth commonly grow exophytically bulk tumor projects abdominal cavity\n",
            "\t with new developments surrounding old unfinished sports complex facility city government transferred sports complex hectare complex brgy\n",
            "\n",
            "Cluster 39, #5 Elements \n",
            "\t by mid dip switches gone status quo became online setup\n",
            "\t if terms contract uncertain incomplete parties cannot reached agreement eyes law ref\n",
            "\t online contracts become common\n",
            "\n",
            "Cluster 40, #5 Elements \n",
            "\t y e o this means expenditure buyers households becomes income sellers firms\n",
            "\t in musica viva festival included lambert orkis benjamin beilman alice giles sharon bezaly hector mcdonald pieter wispelwey pacifica quartet goldner string quartet\n",
            "\t khmer khe spoken se san srepok sekong river valleys sesan siem pang districts stung treng province\n",
            "\n",
            "Cluster 41, #5 Elements \n",
            "\t the relative popularity beam deflection method explained high sensitivity simple operation fact cantilevers require electrical contacts special treatments therefore fabricated relatively cheaply sharp integrated tips\n",
            "\t from lorde brief affair sculptor painter mildred thompson\n",
            "\t words three syllables compounds mostly loanwords usually derived pali sanskrit recently french\n",
            "\n",
            "Cluster 42, #5 Elements \n",
            "\t archbishop moeller high school established fall archbishop karl j alter appointed monsignor edward a mccarthy brother paul sibbing s m supervise planning construction new high school near montgomery ohio\n",
            "\t atomic force microscopy afm scanning force microscopy sfm type scanning probe microscopy spm demonstrated resolution order fractions nanometer times better optical diffraction limit\n",
            "\t man ke khalihanomein hindi poetry collection\n",
            "\n",
            "Cluster 43, #5 Elements \n",
            "\t afm images also affected nonlinearity hysteresis ref creep piezoelectric material cross talk x z axes may require software enhancement filtering\n",
            "\t due change definition clinical pathways care year largely uninformative current era ref\n",
            "\t some retailers sell tokens alternative coins often charity\n",
            "\n",
            "Cluster 44, #5 Elements \n",
            "\t simultaneous acquisition topographical images properties sample measured locally displayed image often similarly high resolution\n",
            "\t the voiceless plosives may occur without aspiration vs etc difference contrastive vowel\n",
            "\t in addition consonants occur occasionally recent loan words speech cambodians familiar french languages\n",
            "\n",
            "Cluster 45, #5 Elements \n",
            "\t his government credited providing economic stability country marred years hyperinflation\n",
            "\t cardoso administration also placed strong focus external affairs\n",
            "\t adjectives demonstratives numerals follow noun modify\n",
            "\n",
            "Cluster 46, #4 Elements \n",
            "\t ssp system support program operating system s\n",
            "\t in th century chronicler adam bremen records gesta hammaburgensis ecclesiae pontificum statue thor adam describes mightiest sits temple uppsala center triple throne flanked woden fricco located gamla uppsala sweden\n",
            "\t the wretched sister j tnar appears asks bridal gift freyja j tnar bring mj llnir sanctify bride lay lap marry two hand goddess v r\n",
            "\n",
            "Cluster 47, #4 Elements \n",
            "\t negation achieved putting verb particle end sentence clause\n",
            "\t russia navya dishanche amantran a book examines russia portray new russia based firsthand experience russia ref\n",
            "\t in england wales contract may enforced use claim urgent cases applying interim injunction prevent breach\n",
            "\n",
            "Cluster 48, #4 Elements \n",
            "\t alternatively one think transactions terms monetary flows occur\n",
            "\t lesser numbers gists appear associated neither c kit pdgfr abnormalities ref\n",
            "\t sinatra became stereotype tough working class italian american something embraced\n",
            "\n",
            "Cluster 49, #4 Elements \n",
            "\t around interurban line began running parallel railroad\n",
            "\t mapics manufacturing production information control system popular s application\n",
            "\t in england contracts insurance partnerships require utmost good faith others may require good faith employment contracts agency\n",
            "\n",
            "Cluster 50, #4 Elements \n",
            "\t it noted despite nomenclature repulsive contact occur avoided amplitude modulation afm frequency modulation afm depending settings\n",
            "\t imatinib glivec gleevec orally administered drug initially marketed chronic myelogenous leukemia based bcr abl inhibition also inhibits c kit tyrosine kinase mutations pdgfra mutations d v useful treating gists several situations\n",
            "\t the popular program programmer operator productivity aid pop it cost\n",
            "\n",
            "Cluster 51, #4 Elements \n",
            "\t in the guardian named musica viva in schools interactive whiteboards one ten global r d projects changing arts culture\n",
            "\t in airports system similar shopping cart deposit also used luggage carts profit making opportunity\n",
            "\t in specific circumstances terms used differently\n",
            "\n",
            "Cluster 52, #4 Elements \n",
            "\t she attended hunter college high school secondary school intellectually gifted students graduated\n",
            "\t in formal contexts polite speech questions also marked beginning particle\n",
            "\t the advanced bought world system ssp five years marketplace end th century marketplace system almost unrecognizable\n",
            "\n",
            "Cluster 53, #4 Elements \n",
            "\t moeller high school opened doors september along la salle high school fellow cincinnati archdiocesan school\n",
            "\t shopping carts usually fitted four wheels however one wheel jams cart become difficult handle\n",
            "\t currently consul general india consul general india new york usa april\n",
            "\n",
            "Cluster 54, #4 Elements \n",
            "\t compounding khmer common derivational process takes two forms coordinate compounds repetitive compounds\n",
            "\t gists thought arise interstitial cells cajal icc normally part autonomic nervous system intestine ref\n",
            "\t sinatra judy garland remained good friends death two occasions two legendary singers romantically involved\n",
            "\n",
            "Cluster 55, #4 Elements \n",
            "\t after inauspicious start tenure queen spain victoria eugenie became isolated spanish people unpopular new land\n",
            "\t a minor syllable unstressed syllable preceding main syllable word structure cv crv cvn crvn c consonant v vowel n nasal consonant\n",
            "\t state v wentworth n h prescribed model charge trial judges instruct jury issue reasonable doubt upheld u s court appeals first circuit tsoumas v state new hampshire f\n",
            "\n",
            "Cluster 56, #4 Elements \n",
            "\t in amplitude modulation changes oscillation amplitude phase provide feedback signal imaging\n",
            "\t lorde work black feminism continues examined scholars today\n",
            "\t economic changes included lifting import barriers exposing local companies international competition\n",
            "\n",
            "Cluster 57, #4 Elements \n",
            "\t in variations electric potentials also scanned using conducting cantilevers\n",
            "\t phnom penh khmer spoken capital surrounding areas\n",
            "\t in general courts consolidated funding state courts state biennial budget\n",
            "\n",
            "Cluster 58, #4 Elements \n",
            "\t s t m i g x\n",
            "\t s t m i g x\n",
            "\t khmer nouns inflect grammatical gender singular plural\n",
            "\n",
            "Cluster 59, #4 Elements \n",
            "\t in lorde writer residence tougaloo college mississippi ref met frances clayton white professor psychology romantic partner ref\n",
            "\t book expensive ref\n",
            "\t chadda revealed interview role helped bag film roles ref\n",
            "\n",
            "Cluster 60, #3 Elements \n",
            "\t nokarshahiche rang a autobiographical book life experiences various places countries\n",
            "\t three stones depict thor fishing serpent j rmungandr h rdum stone thy denmark altuna runestone altuna sweden one ardre image stones stone vii gotland sweden gosforth cross gosforth england\n",
            "\t she plans publish much work including nina adventures fluff original work sita sings the blues copyleft licence ref\n",
            "\n",
            "Cluster 61, #3 Elements \n",
            "\t victoria eugenie great grandson felipe vi present king spain\n",
            "\t if uncertain incomplete clauses contract options resolving true meaning failed may possible sever void affected clauses contract includes severability clause\n",
            "\t terms may implied due factual circumstances conduct parties\n",
            "\n",
            "Cluster 62, #3 Elements \n",
            "\t other contributors mollie demise concerned jacob burnworth tile factory\n",
            "\t there various models including c d model dealt speed ability support additional frame house two additional drives\n",
            "\t more generally writers propounded marxist feminist interpretations contract\n",
            "\n",
            "Cluster 63, #3 Elements \n",
            "\t according configuration described interaction tip sample atomic scale phenomenon transduced changes motion cantilever macro scale phenomenon\n",
            "\t after riding together thor goat driven chariot two disguised arrive j tunheimr\n",
            "\t historic metcalf franklin farm abbott run valley road last working dairy farm cumberland\n",
            "\n",
            "Cluster 64, #3 Elements \n",
            "\t injection means introduction income flow\n",
            "\t queen victoria eugenie returned briefly spain february stand godmother baptism great grandson infante felipe son infante juan carlos princess sophia greece denmark\n",
            "\t courts may also look external standards either mentioned explicitly contract ref implied common practice certain field ref\n",
            "\n",
            "Cluster 65, #3 Elements \n",
            "\t in essay the erotic power written collected sister outsider lorde theorizes erotic site power women learn release suppression embrace\n",
            "\t some retailers target begun using carts fully made recycled plastic metal part wheel axles drawing away established metal cart design\n",
            "\t a machine shop cumberland made first power looms woolens america ref\n",
            "\n",
            "Cluster 66, #3 Elements \n",
            "\t while acknowledging differences women wide varied lorde works concerned two subsets concerned primarily race sexuality\n",
            "\t just modern khmer emerging transitional period represented middle khmer cambodia fell influence french colonialism ref\n",
            "\t t film turned sleeper hit young working people sold\n",
            "\n",
            "Cluster 67, #3 Elements \n",
            "\t the primary purpose csp keep msp busy ran slightly x speed msp\n",
            "\t early era printers workstations series binary switches known dip switches configuration\n",
            "\t contracts may bilateral unilateral\n",
            "\n",
            "Cluster 68, #3 Elements \n",
            "\t a disadvantage afm compared scanning electron microscope sem single scan image size\n",
            "\t amplitude modulation also used non contact regime image atomic resolution using stiff cantilevers small amplitudes ultra high vacuum environment\n",
            "\t recently accepted third category restitutionary obligations based unjust enrichment defendant plaintiff expense\n",
            "\n",
            "Cluster 69, #3 Elements \n",
            "\t again family increasingly dominated volatile relationship husband wife culminating den death february leslie grantham decided extend current contract\n",
            "\t the system system unit vaguely resembled huge washer dryer appearance unlike predecessor ran volts ac\n",
            "\t in prose edda thor mentioned four books prologue gylfaginning sk ldskaparm l h ttatal\n",
            "\n",
            "Cluster 70, #3 Elements \n",
            "\t khmer spoken million people cambodia official language\n",
            "\t standard khmer central khmer language taught cambodian schools used media based dialect spoken throughout central plain ref region encompassed northwest central provinces\n",
            "\t throughout life sinatra mood swings bouts mild severe depression admitting interviewer i acute capacity sadness well elation\n",
            "\n",
            "Cluster 71, #3 Elements \n",
            "\t force spectroscopy used biophysics measure mechanical properties ref living material tissue cells ref\n",
            "\t she taught design technology section parsons part the new school ref\n",
            "\t she also makes quilts ref\n",
            "\n",
            "Cluster 72, #3 Elements \n",
            "\t although cambodian dialects tonal colloquial phnom penh dialect developed tonal contrast level versus peaking tone compensate elision ref\n",
            "\t tales thor influenced native traditions regarding thor continued modern period particularly scandinavia\n",
            "\t during reign sultan abdul hamid ii pan islamism become hugely important part state ideology abdul hamid often stressed claim caliph\n",
            "\n",
            "Cluster 73, #3 Elements \n",
            "\t rico murray undrafted free agent signee cincinnati bengals\n",
            "\t in heimskringla composed th century snorri sturluson thor statues thor mentioned ynglinga saga h konar saga g lafs saga tryggvasonar l fs saga helga\n",
            "\t sheet music used record guide means perform song piece music\n",
            "\n",
            "Cluster 74, #3 Elements \n",
            "\t northern khmer called khmer surin khmer refers dialects spoken many several border provinces present day northeast thailand\n",
            "\t khmer krom southern khmer spoken indigenous khmer population mekong delta formerly controlled khmer empire part vietnam since\n",
            "\t as defeat loomed cup founded underground group known karakol guard set secret arms depots wage guerrilla war allies reached anatolia\n",
            "\n",
            "Cluster 75, #3 Elements \n",
            "\t in australian law contract set aside due unconscionable dealing ref\n",
            "\t statements fact contract obtaining contract considered either warranties representations\n",
            "\t on four possibly five runestones invocation thor appears reads may thor hallow runes monument\n",
            "\n",
            "Cluster 76, #3 Elements \n",
            "\t western khmer also called cardamom khmer chanthaburi khmer spoken small isolated population cardamom mountain range extending western cambodia eastern central thailand\n",
            "\t ref maggie lee variety notes kashyap never lets diverse influences old school italo american mafia classics la coppola scorsese leone well david michod taut crime thriller animal kingdom override distinct indian color\n",
            "\t right time young turk revolution secretive committee dominated shadowy central committee sparked many dubious conspiracy theories cup\n",
            "\n",
            "Cluster 77, #3 Elements \n",
            "\t there several types scanning microscopy including scanning probe microscopy includes afm scanning tunneling microscopy stm near field scanning optical microscope snom nsom sted microscopy sted scanning electron microscopy\n",
            "\t kit d v point mutations c kit exon responsible resistance targeted therapy drugs like imatinib mesylate tyrosine kinase inhibitor\n",
            "\t contract law based principle expressed latin phrase pacta sunt servanda agreements must kept ref\n",
            "\n",
            "Cluster 78, #2 Elements \n",
            "\t printer name paycheck forms buxx device p align yes\n",
            "\t in germany locations named thor sparsely recorded amount locations called donnersberg german donner mountain may derive name deity donner southern germanic form god name ref\n",
            "\n",
            "Cluster 79, #2 Elements \n",
            "\t the cancer journals derived part personal journals written late seventies a burst light use non fiction prose preserve explore reflect lorde diagnosis treatment recovery breast cancer ref\n",
            "\t in system announced support distributed data management architecture ddm\n",
            "\n",
            "Cluster 80, #2 Elements \n",
            "\t in mollie population people community consisted two houses\n",
            "\t returning home halifax family mukpo reflects upon life upon experiences tulkus teachers interviewed\n",
            "\n",
            "Cluster 81, #2 Elements \n",
            "\t pronouns subject complicated system social register choice pronoun depending perceived relationships speaker audience referent see social registers\n",
            "\t she attended local elementary high schools illustrating history north pole comic collaboration university high school history teacher chris butler attended university illinois studying art two years\n",
            "\n",
            "Cluster 82, #2 Elements \n",
            "\t a contractual term provision forming part contract ref\n",
            "\t butuan colonization known rajahnate butuan indianized kingdom known metallurgic industry sophisticated naval technology\n",
            "\n",
            "Cluster 83, #2 Elements \n",
            "\t much drama watts household centres responses den selfish actions manipulative ways\n",
            "\t the unionists believed secret behind success west science scientifically advanced nation powerful\n",
            "\n",
            "Cluster 84, #2 Elements \n",
            "\t merrill v sherburne n h supreme court judicature ruled general court practice passing bills give people new trials certain cases unconstitutional practice common american revolution done case case basis post revolution\n",
            "\t in british supermarket chain tesco trialed shopping carts user adjustable wheel resistance heart rate monitoring calorie counting hardware effort raise awareness health issues\n",
            "\n",
            "Cluster 85, #2 Elements \n",
            "\t in english placenames old english thunor contrast old norse form name later introduced danelaw left comparatively traces\n",
            "\t an open score score polyphonic piece showing voice separate staff\n",
            "\n",
            "Cluster 86, #2 Elements \n",
            "\t the musica viva festival held biennially sydney conservatorium music\n",
            "\t the mafia downfall dhanbad come gang wars rather came differences kunti singh widow surajdeo singh three brothers baccha singh rajan singh ram dhani singh gave others opportunity make space ref\n",
            "\n",
            "Cluster 87, #2 Elements \n",
            "\t in terms five sector circular flow income model state equilibrium occurs total leakages equal total injections occur economy\n",
            "\t in late enver ordered armenians serving ottoman army disarmed sent labour battalions ref\n",
            "\n",
            "Cluster 88, #2 Elements \n",
            "\t many methods beam deflection measurements exist\n",
            "\t whilst early rules trade barter existed since ancient times modern laws contract west traceable industrial revolution onwards increasing numbers worked factories cash wage\n",
            "\n",
            "Cluster 89, #2 Elements \n",
            "\t a gang heavily armed men scour finally narrow house wasseypur\n",
            "\t according united states census bureau town total area land water ref\n",
            "\n",
            "Cluster 90, #2 Elements \n",
            "\t check forms must perfectly aligned numbers fit little boxes wasting expensive form\n",
            "\t in united states persons typically minor contracts considered voidable however minor voids contract benefits received minor must returned\n",
            "\n",
            "Cluster 91, #2 Elements \n",
            "\t adult gists rare age\n",
            "\t in december supreme court instituted three judges expedited jx summary procedure reduce cases requiring oral argument\n",
            "\n",
            "Cluster 92, #2 Elements \n",
            "\t the audre lorde project founded brooklyn based organization queer people color\n",
            "\t collor agenda focused fighting corruption sarney administration completing transition year military rule civilian government\n",
            "\n",
            "Cluster 93, #2 Elements \n",
            "\t in review aggregator website reviewgang movie received stars based reviews ref\n",
            "\t aaron fricke denied request bring sex date school prom cumberland high school\n",
            "\n",
            "Cluster 94, #2 Elements \n",
            "\t it presented neves opposition candidate paulo maluf ref\n",
            "\t on october senior associate justice nadeau hand delivered resignation letter governor john lynch announcing retirement court effective december governor council accepted\n",
            "\n",
            "Cluster 95, #2 Elements \n",
            "\t the smallest s k ram mb hard drive\n",
            "\t sheet music th st century typically indicates title song composition title page cover top first page title page cover\n",
            "\n",
            "Cluster 96, #2 Elements \n",
            "\t sardar marries nagma khatoon richa chadda\n",
            "\t the success party film held escobar bandra mumbai thursday july late evening ref\n",
            "\n",
            "Cluster 97, #2 Elements \n",
            "\t victoria eugenie grew queen victoria household british monarch reluctantly allowed beatrice marry condition remain mother full time companion personal secretary\n",
            "\t misrepresentation means false statement fact made one party another party effect inducing party contract\n",
            "\n",
            "Cluster 98, #2 Elements \n",
            "\t at beginning th century indiana gas boom gradually came end ref\n",
            "\t another shopping cart innovator orla watson ref invented swinging rear door allow nesting ref\n",
            "\n",
            "Cluster 99, #2 Elements \n",
            "\t in u s one unusual type unenforceable contract personal employment contract work spy secret agent\n",
            "\t by rajahnate established contact song dynasty china\n",
            "\n",
            "Cluster 100, #2 Elements \n",
            "\t most retailers north america utilize cart retrieval service collects carts found store premises returns store fee\n",
            "\t devices could far mile system unit\n",
            "\n",
            "Cluster 101, #2 Elements \n",
            "\t the model called system pc desktop also informally baby name later attached software program produced california software products inc\n",
            "\t cumberland site iron works made cannons cannonballs french indian war american revolution\n",
            "\n",
            "Cluster 102, #2 Elements \n",
            "\t the first concert sydney musica viva presented verbrugghen hall sydney conservatorium music december\n",
            "\t thor arrives tells loki silent threatens rip loki head body hammer\n",
            "\n",
            "Cluster 103, #2 Elements \n",
            "\t lorde born new york city caribbean immigrants barbados carriacou frederick byron lorde known byron linda gertrude belmar lorde settled harlem\n",
            "\t most khmer words consist either one two syllables\n",
            "\n",
            "Cluster 104, #2 Elements \n",
            "\t when using afm image sample tip brought contact sample sample raster scanned along x grid fig\n",
            "\t slight vowel epenthesis occurs clusters consisting plosive followed beginning cluster ref\n",
            "\n",
            "Cluster 105, #2 Elements \n",
            "\t however watts family also received criticism press viewers\n",
            "\t butuan also fast becoming cosmopolitan city\n",
            "\n",
            "Cluster 106, #2 Elements \n",
            "\t when opened doors moeller high school received students parishes northeastern part greater cincinnati area drawing roger bacon high school purcell marian high school two male comprehensive cincinnati archdiocesan schools\n",
            "\t the callen lorde community health center organization new york city named michael callen audre lorde dedicated providing medical health care city lgbt population without regard ability pay\n",
            "\n",
            "Cluster 107, #2 Elements \n",
            "\t lorde professor english john jay college criminal justice part city university new york\n",
            "\t in made world first cameraless imax film pandorama ref short modernist film shown widely major film festivals mm form\n",
            "\n",
            "Cluster 108, #2 Elements \n",
            "\t although den first second wives appeared screen combined total years angie chrissie immense impact show watts family\n",
            "\t gists tumors connective tissue e sarcomas unlike gastrointestinal tumors non epithelial\n",
            "\n",
            "Cluster 109, #2 Elements \n",
            "\t in manipulation forces tip sample also used change properties sample controlled way\n",
            "\t according bajpayee role sardar khan negative role done till date\n",
            "\n",
            "Cluster 110, #2 Elements \n",
            "\t sometimes capacity either natural artificial persons either enforce contracts contracts enforced restricted\n",
            "\t custom hutton v warren ref\n",
            "\n",
            "Cluster 111, #2 Elements \n",
            "\t moeller high school athletic teams exception boxing lacrosse skiing volleyball sanctioned ohio high school athletic association ohsaa compete greater catholic league south along elder st xavier la salle high schools\n",
            "\t in august sharon sought phil help son dennis harry hickles kidnapped fianc john hewland jesse birdsall\n",
            "\n",
            "Cluster 112, #2 Elements \n",
            "\t when sample concavity convexity distance tip apex sample varies accordance concavity convexity accompanied scan sample along x direction without height regulation z direction\n",
            "\t big private universities like ateneo university de la salle university expressed put local branches\n",
            "\n",
            "Cluster 113, #2 Elements \n",
            "\t lorde poetry became open personal grew older became confident sexuality\n",
            "\t beginning viking age personal names containing theonym th rr recorded great frequency\n",
            "\n",
            "Cluster 114, #2 Elements \n",
            "\t an afm probe sharp tip free swinging end cantilever protruding holder ref\n",
            "\t stress khmer falls final syllable word ref\n",
            "\n",
            "Cluster 115, #2 Elements \n",
            "\t adjectives verbs verb phrases may made nouns use nominalization particles\n",
            "\t both order specific performance injunction discretionary remedies originating part equity\n",
            "\n",
            "Cluster 116, #2 Elements \n",
            "\t it relationship den princess central dynamic watts family\n",
            "\t experienced windows users know using alt key combination four digits keypad produce characters otherwise unavailable standard pc keyboards accented vowels graphic box drawing characters\n",
            "\n",
            "Cluster 117, #2 Elements \n",
            "\t however popularity watts viewers importance family show meant successive producers executives continually asked dean dobson grantham reprise roles ref\n",
            "\t khmer phonation distinction vowels survives archaic dialect western khmer ref\n",
            "\n",
            "Cluster 118, #2 Elements \n",
            "\t contributes hindu newspaper literary pages english\n",
            "\t on contrary raja sen rediff gave movie stars concluding it excess suffocates magic originality dying lack room breathe\n",
            "\n",
            "Cluster 119, #2 Elements \n",
            "\t victoria eugenie born october balmoral castle scotland\n",
            "\t josette campo atayde known sylvia sanchez\n",
            "\n",
            "Cluster 120, #2 Elements \n",
            "\t it includes household sector producing sector government sector\n",
            "\t goldner persevered soon formed monomeeth string quartet took name indigenous australian word peace harmony\n",
            "\n",
            "Cluster 121, #2 Elements \n",
            "\t in rousseff second term narrow margin far failed prevent popularity falling\n",
            "\t he written several features human interest stories several journals periodicals etc english japanese marathi sakal lokmat maharashtra times antarnad sadhana etc ref\n",
            "\n",
            "Cluster 122, #2 Elements \n",
            "\t it provided password security resource security allowing control allowed access program file\n",
            "\t most countries statutes deal directly sale goods lease transactions trade practices\n",
            "\n",
            "Cluster 123, #2 Elements \n",
            "\t sinatra romantically involved angie dickinson ten years around\n",
            "\t paley public knowledge organization ip award work intellectual property ref\n",
            "\n",
            "Cluster 124, #2 Elements \n",
            "\t dante javelosa luzon veteran anchor broadcaster\n",
            "\t cumberland home headquarters original location ann hope chain discount stores claims first chain discount department stores america founded\n",
            "\n",
            "Cluster 125, #2 Elements \n",
            "\t keys f f also called cmd command keys\n",
            "\t i applied reel diversity program gotten\n",
            "\n",
            "Cluster 126, #2 Elements \n",
            "\t mechanical plate engraving developed late sixteenth century ref\n",
            "\t in town population spread age years age older\n",
            "\n",
            "Cluster 127, #2 Elements \n",
            "\t related orders specific performance injunction may requested contract prohibits certain action\n",
            "\t paley born urbana ref illinois daughter jean passovoy hiram paley ref\n",
            "\n",
            "Cluster 128, #2 Elements \n",
            "\t joe uecker ohio state senator r\n",
            "\t sita sings blues min d digital animation\n",
            "\n",
            "Cluster 129, #1 Elements \n",
            "\t in poem hyndlulj freyja offers j tunn woman hyndla bl sacrifice thor may protected comments thor care much j tunn women ref\n",
            "\n",
            "Cluster 130, #1 Elements \n",
            "\t ibm introduced compact ref system targeted lower end market\n",
            "\n",
            "Cluster 131, #1 Elements \n",
            "\t her father died active military service contracting fever africa\n",
            "\n",
            "Cluster 132, #1 Elements \n",
            "\t a mature faizal nawazuddin siddiqui seriously affected bollywood movies starts behaving talking dressing like bollywood characters\n",
            "\n",
            "Cluster 133, #1 Elements \n",
            "\t lorde died liver cancer november st croix living gloria i\n",
            "\n",
            "Cluster 134, #1 Elements \n",
            "\t through grants special funding musica viva also creates special music projects remote disadvantaged special needs schools students\n",
            "\n",
            "Cluster 135, #1 Elements \n",
            "\t sinatra also engaged india born south african actress dancer juliet prowse short fall early sinatra broke engagement late year prowse refused give career\n",
            "\n",
            "Cluster 136, #1 Elements \n",
            "\t also sister outsider the transformation silence language action\n",
            "\n",
            "Cluster 137, #1 Elements \n",
            "\t another dimension theoretical debate contract place within relationship wider law obligations\n",
            "\n",
            "Cluster 138, #1 Elements \n",
            "\t there several difficulties translating new printing press technology music\n",
            "\n",
            "Cluster 139, #1 Elements \n",
            "\t it also karabekir crystallised modern turkish position controversial armenian genocide telling soviet peace commissioners return armenians territory controlled turks question armenians perished rebellion making\n",
            "\n",
            "Cluster 140, #1 Elements \n",
            "\t not agreements necessarily contractual parties generally must deemed intention legally bound\n",
            "\n",
            "Cluster 141, #1 Elements \n",
            "\t kitty kelley claims sinatra first seen photographs ava gardner magazine sworn would marry\n",
            "\n",
            "Cluster 142, #1 Elements \n",
            "\t classifying particles used numerals always obligatory thai chinese example often dropped colloquial speech\n",
            "\n",
            "Cluster 143, #1 Elements \n",
            "\t the christmas day episode den delivered angie divorce papers highest rated airing british soap television history\n",
            "\n",
            "Cluster 144, #1 Elements \n",
            "\t in bessie decamp invented seat belt chairs go carts carriages ref\n",
            "\n",
            "Cluster 145, #1 Elements \n",
            "\t starting freshman class moeller high school adopted new laptop program\n",
            "\n",
            "Cluster 146, #1 Elements \n",
            "\t i want ref\n",
            "\n",
            "Cluster 147, #1 Elements \n",
            "\t another major application afm besides imaging force spectroscopy direct measurement tip sample interaction forces function gap tip sample result measurement called force distance curve\n",
            "\n",
            "Cluster 148, #1 Elements \n",
            "\t in king spain made official state visit united kingdom\n",
            "\n",
            "Cluster 149, #1 Elements \n",
            "\t a company called amalgamated software north america asna produced third party compiler system late called rpg\n",
            "\n",
            "Cluster 150, #1 Elements \n",
            "\t music engraving art drawing music notation high quality purpose mechanical reproduction\n",
            "\n",
            "Cluster 151, #1 Elements \n",
            "\t in summer german ambassador hans von wangenheim launched public relations campaign designed swing public opinion towards reich\n",
            "\n",
            "Cluster 152, #1 Elements \n",
            "\t the squire student literary journal features stories poems essays written moeller students\n",
            "\n",
            "Cluster 153, #1 Elements \n",
            "\t sweezy v new hampshire citing due process clause fourteenth amendment u s supreme court reversed affirmation contempt finding subversive person refused answer questions activities attorney general subsequently refused state superior court\n",
            "\n",
            "Cluster 154, #1 Elements \n",
            "\t saibal chatterjee ndtv gave movie stars concluding it may faint hearted prissy\n",
            "\n",
            "Cluster 155, #1 Elements \n",
            "\t if resistance imatinib encountered multiple tyrosine kinase inhibitor sunitinib marketed sutent considered ref ref\n",
            "\n",
            "Cluster 156, #1 Elements \n",
            "\t most benefits three decades growth world war ii concentrated hands\n",
            "\n",
            "Cluster 157, #1 Elements \n",
            "\t shopping cart theft costly problem stores use\n",
            "\n",
            "Cluster 158, #1 Elements \n",
            "\t in april anita dobson made last appearance angie watts soon afterwards leslie grantham expressed desire step role den watts\n",
            "\n",
            "Cluster 159, #1 Elements \n",
            "\t despite official bbc report stating letitia dean taking scheduled break would return eastenders later happen away show six years\n",
            "\n",
            "Cluster 160, #1 Elements \n",
            "\t frank sinatra met nancy barbato b\n",
            "\n",
            "Cluster 161, #1 Elements \n",
            "\t unfortunately extensive use colors became confusing using less expensive dual color terminals\n",
            "\n",
            "Cluster 162, #1 Elements \n",
            "\t if light ever came system needed ipled\n",
            "\n",
            "Cluster 163, #1 Elements \n",
            "\t since musica viva in schools inspiring children think actively listen create music bringing professional live music performances primary secondary schools australia\n",
            "\n",
            "Cluster 164, #1 Elements \n",
            "\t in driverless shopping cart made chaotic moon labs ref\n",
            "\n",
            "Cluster 165, #1 Elements \n",
            "\t households spend income y goods services consumption c\n",
            "\n",
            "Cluster 166, #1 Elements \n",
            "\t as adopted mother stepmother angie chrissie fiercely protective charges\n",
            "\n",
            "Cluster 167, #1 Elements \n",
            "\t economic reproduction involves physical production distribution goods services trade circulation via exchanges transactions goods services consumption goods services productive intermediate consumption final consumption\n",
            "\n",
            "Cluster 168, #1 Elements \n",
            "\t butuan city becoming one highlights tourism programs philippines people local foreign discovering wonders secrets ancient beautiful city\n",
            "\n",
            "Cluster 169, #1 Elements \n",
            "\t butuan subdivided barangays urban ref rural\n",
            "\n",
            "Cluster 170, #1 Elements \n",
            "\t old norse rr old english unor old high german donar old saxon thunar old frisian thuner cognates within germanic language branch descending proto germanic masculine noun unraz thunder ref\n",
            "\n",
            "Cluster 171, #1 Elements \n",
            "\t mollie considered part east central indiana northern indiana\n",
            "\n",
            "Cluster 172, #1 Elements \n",
            "\t also shopping carts identified source pathogens became major public health concern\n",
            "\n",
            "Cluster 173, #1 Elements \n",
            "\t rajeev masand cnn ibn gave movie stars concluding bolstered riveting performances thrilling plot dynamics gripping film seizes full attention\n",
            "\n",
            "Cluster 174, #1 Elements \n",
            "\t gyanbachi mekh collection essays a wide range subjects covered environment education tourism social welfare\n",
            "\n",
            "Cluster 175, #1 Elements \n",
            "\t dfu programs generated subroutine r code wsu programs\n",
            "\n",
            "Cluster 176, #1 Elements \n",
            "\t as census people households families residing town\n",
            "\n",
            "Cluster 177, #1 Elements \n",
            "\t files s may sequential s direct d indexed i\n",
            "\n",
            "Cluster 178, #1 Elements \n",
            "\t kit p d del exon a subset gastrointestinal stromal tumors previously regarded wild type tumors carries somatic activating mutations kit exon p d del ref\n",
            "\n",
            "Cluster 179, #1 Elements \n",
            "\t in nepal mukpo visits shechen monastery\n",
            "\n",
            "Cluster 180, #1 Elements \n",
            "\t several types interaction detected\n",
            "\n",
            "Cluster 181, #1 Elements \n",
            "\t if contract contains valid arbitration clause aggrieved party must submit arbitration claim accordance procedures set forth clause\n",
            "\n",
            "Cluster 182, #1 Elements \n",
            "\t to recover damages claimant must show breach contract caused foreseeable loss ref\n",
            "\n",
            "Cluster 183, #1 Elements \n",
            "\t linguistic study khmer language divides history four periods one old khmer period subdivided pre angkorian angkorian ref\n",
            "\n",
            "Cluster 184, #1 Elements \n",
            "\t as proof dynamic economy butuan city local income reached p besting major cities country\n",
            "\n",
            "Cluster 185, #1 Elements \n",
            "\t savings taxes imports investment government spending exports\n",
            "\n",
            "Cluster 186, #1 Elements \n",
            "\t in lorde volume the black unicorn describes identity within mythos african female deities creation fertility warrior strength\n",
            "\n",
            "Cluster 187, #1 Elements \n",
            "\t an unwritten unspoken contract also known contract implied acts parties either implied fact contract implied law contract may also legally binding\n",
            "\n",
            "Cluster 188, #1 Elements \n",
            "\t it fallacy opinion cannot statement fact\n",
            "\n",
            "Cluster 189, #1 Elements \n",
            "\t lorde set confront issues racism feminist thought\n",
            "\n",
            "Cluster 190, #1 Elements \n",
            "\t khmer dialects although mutually intelligible sometimes quite marked\n",
            "\n",
            "Cluster 191, #1 Elements \n",
            "\t piezoelectric detection cantilevers made quartz ref qplus configuration piezoelectric materials directly detect deflection electrical signal\n",
            "\n",
            "Cluster 192, #1 Elements \n",
            "\t a smaller factor affect mollie automobile\n",
            "\n",
            "Cluster 193, #1 Elements \n",
            "\t many contracts contain clause setting disputes relation contract litigated\n",
            "\n",
            "Cluster 194, #1 Elements \n",
            "\t in special guest international conference copycamp warsaw ref\n",
            "\n",
            "Cluster 195, #1 Elements \n",
            "\t after births children victoria eugenie relationship alfonso deteriorated numerous affairs\n",
            "\n",
            "Cluster 196, #1 Elements \n",
            "\t ardy larong small forward shooting guard alaska aces philippine basketball association pba\n",
            "\n",
            "Cluster 197, #1 Elements \n",
            "\t various authors proposed slightly different analyses khmer vowel system\n",
            "\n",
            "Cluster 198, #1 Elements \n",
            "\t intonation often conveys semantic context khmer distinguishing declarative statements questions exclamations\n",
            "\n",
            "Cluster 199, #1 Elements \n",
            "\t in many countries customer pay small deposit inserting coin token card returned customer returns cart designated cart parking point\n",
            "\n",
            "Cluster 200, #1 Elements \n",
            "\t early evening disguised loki thor meet rymr assembled j tnar\n",
            "\n",
            "Cluster 201, #1 Elements \n",
            "\t in modern times thor continues referred popular culture\n",
            "\n",
            "Cluster 202, #1 Elements \n",
            "\t compounds however preserve stress patterns constituent words\n",
            "\n",
            "Cluster 203, #1 Elements \n",
            "\t in october presidential elections fernando henrique cardoso elected votes\n",
            "\n",
            "Cluster 204, #1 Elements \n",
            "\t on october dilma rousseff also worker party first woman elected president brazil term beginning january\n",
            "\n",
            "Cluster 205, #1 Elements \n",
            "\t scores come various formats\n",
            "\n",
            "Cluster 206, #1 Elements \n",
            "\t international the film met positive international reviews\n",
            "\n",
            "Cluster 207, #1 Elements \n",
            "\t in harry connick jr invented system method coordinating music display among players orchestra ref\n",
            "\n",
            "Cluster 208, #1 Elements \n",
            "\t during japanese occupation philippines world war ii half butuan burned local guerrilla forces attacked enemy garrison march battle butuan ref ref\n",
            "\n",
            "Cluster 209, #1 Elements \n",
            "\t once asked expected arrived australia answer simple\n",
            "\n",
            "Cluster 210, #1 Elements \n",
            "\t on june rouseff announced program labelled brasil sem mis ria brazil without poverty\n",
            "\n",
            "Cluster 211, #1 Elements \n",
            "\t in paley moved trivandrum india husband taken job\n",
            "\n",
            "Cluster 212, #1 Elements \n",
            "\t ritu ug rahi hai a collection poems hindi\n",
            "\n",
            "Cluster 213, #1 Elements \n",
            "\t before th century western music written hand preserved manuscripts usually bound large volumes\n",
            "\n",
            "Cluster 214, #1 Elements \n",
            "\t he high commissioner india male maldives april march ref\n",
            "\n",
            "Cluster 215, #1 Elements \n",
            "\t screen formats generated object code\n",
            "\n",
            "Cluster 216, #1 Elements \n",
            "\t in dunlop v selfridge lord dunedin adopted pollack metaphor purchase sale explain consideration\n",
            "\n",
            "Cluster 217, #1 Elements \n",
            "\t table all leakages injections five sector model\n",
            "\n",
            "Cluster 218, #1 Elements \n",
            "\t lexical categories hard define khmer ref\n",
            "\n",
            "Cluster 219, #1 Elements \n",
            "\t after initial consonant consonant cluster comes syllabic nucleus one vowels listed\n",
            "\n",
            "Cluster 220, #1 Elements \n",
            "\t piezoresistive detection cantilevers fabricated piezoresistive elements act strain gauge\n",
            "\n",
            "Cluster 221, #1 Elements \n",
            "\t adjectival verbs word class equivalent english\n",
            "\n",
            "Cluster 222, #1 Elements \n",
            "\t on july sinatra married barbara blakeley marx formerly married zeppo marx straight man marx brothers act ref converted catholicism marry\n",
            "\n",
            "Cluster 223, #1 Elements \n",
            "\t up local devices could configured system using eight lines numbered a line defined series twinaxial cables attached devices in out ports\n",
            "\n",
            "Cluster 224, #1 Elements \n",
            "\t in certain circumstances implied contract may created\n",
            "\n",
            "Cluster 225, #1 Elements \n",
            "\t lorde focused discussion difference differences groups women conflicting differences within individual\n",
            "\n",
            "Cluster 226, #1 Elements \n",
            "\t contrary audre lorde open sexuality sexual awakening\n",
            "\n",
            "Cluster 227, #1 Elements \n",
            "\t passing four digit code assembler routine returned associated text\n",
            "\n",
            "Cluster 228, #1 Elements \n",
            "\t modern sheet music may come different formats\n",
            "\n",
            "Cluster 229, #1 Elements \n",
            "\t in united states children injured year shopping carts ref\n",
            "\n",
            "Cluster 230, #1 Elements \n",
            "\t in words turkish historian handan nezir akme e commitment unionists constitution professed fighting skin deep rallying cry popular support anything else\n",
            "\n",
            "Cluster 231, #1 Elements \n",
            "\t in syllable final position approach respectively\n",
            "\n",
            "Cluster 232, #1 Elements \n",
            "\t in interview november issue vanity fair farrow said sinatra never really split answered possibly asked son ronan farrow might sinatra ref\n",
            "\n",
            "Cluster 233, #1 Elements \n",
            "\t even advent music printing mid much music continued exist solely composers hand written manuscripts well th century\n",
            "\n",
            "Cluster 234, #1 Elements \n",
            "\t most gist cells wildtype e\n",
            "\n",
            "Cluster 235, #1 Elements \n",
            "\t knowledge interdependence circular flow income signifies interdependence activity upon one another\n",
            "\n",
            "Cluster 236, #1 Elements \n",
            "\t wagon new york hawaii\n",
            "\n",
            "Cluster 237, #1 Elements \n",
            "\t in many public demonstrations held major brazilian cities made clear military rule could continue\n",
            "\n",
            "Cluster 238, #1 Elements \n",
            "\t musica viva heritage grounded vision one man richard goldner romanian born violist trained vienna\n",
            "\n",
            "Cluster 239, #1 Elements \n",
            "\t users could dial system anywhere world get baud connection fast responsive connections used screen text graphics\n",
            "\n",
            "Cluster 240, #1 Elements \n",
            "\t in audre lorde started visiting professorship west berlin free university berlin\n",
            "\n",
            "Cluster 241, #1 Elements \n",
            "\t an early computer notation program available home computers music construction set developed released several different platforms\n",
            "\n",
            "Cluster 242, #1 Elements \n",
            "\t on march easter sunday ferdinand magellan ordered mass celebrated\n",
            "\n",
            "Cluster 243, #1 Elements \n",
            "\t i heart my cat\n",
            "\n",
            "Cluster 244, #1 Elements \n",
            "\t imperatives often unmarked ref\n",
            "\n",
            "Cluster 245, #1 Elements \n",
            "\t the processors came four models labeled a d\n",
            "\n",
            "Cluster 246, #1 Elements \n",
            "\t since added episodes material work called sita sings blues thus expanding feature length treatment ramayana focused rama wife sita using variety animation styles techniques\n",
            "\n",
            "Cluster 247, #1 Elements \n",
            "\t in started new comic strip mimi eunice highlighting intellectual property problems paradoxes\n",
            "\n",
            "Cluster 248, #1 Elements \n",
            "\t in u s virtually states notably new york ref adopted uniform arbitration act facilitate enforcement arbitrated judgments\n",
            "\n",
            "Cluster 249, #1 Elements \n",
            "\t jack norris president co founder vegan outreach\n",
            "\n",
            "Cluster 250, #1 Elements \n",
            "\t on december frank sinatra jr kidnapped ref\n",
            "\n",
            "Cluster 251, #1 Elements \n",
            "\t fernando henrique cardoso started first term january reelected\n",
            "\n",
            "Cluster 252, #1 Elements \n",
            "\t because obstacles clearing rights hanshaw recordings sita sings blues paley took active part free culture movement\n",
            "\n",
            "Cluster 253, #1 Elements \n",
            "\t in roberto jefferson chairman brazilian labour party ptb implicated bribery case\n",
            "\n",
            "Cluster 254, #1 Elements \n",
            "\t in australia deposit systems common local government areas made compulsory local law\n",
            "\n",
            "Cluster 255, #1 Elements \n",
            "\t paul keels play play announcer ohio state university football basketball wbns fm\n"
          ]
        }
      ]
    },
    {
      "cell_type": "code",
      "source": [
        "cluster_list = []\n",
        "for i, cluster in enumerate(clusters):\n",
        "  cluster_list.append(cluster)"
      ],
      "metadata": {
        "id": "7aGt5_D-uKkN"
      },
      "execution_count": 45,
      "outputs": []
    },
    {
      "cell_type": "code",
      "source": [
        "sen = []\n",
        "for i, cluster in enumerate(clusters):\n",
        "  for id in cluster[:]:\n",
        "    sen.append([i, docs[id]])"
      ],
      "metadata": {
        "id": "AIZpEcJWuKme"
      },
      "execution_count": 46,
      "outputs": []
    },
    {
      "cell_type": "markdown",
      "source": [
        "### Saving in csv format"
      ],
      "metadata": {
        "id": "3hbKpfVj5xcF"
      }
    },
    {
      "cell_type": "code",
      "source": [
        "df=pd.DataFrame(sen,columns=['cluster_no','sentences'])"
      ],
      "metadata": {
        "id": "mS8w3MPEuKpN"
      },
      "execution_count": 47,
      "outputs": []
    },
    {
      "cell_type": "code",
      "source": [
        "df.head(20)"
      ],
      "metadata": {
        "id": "T29bG8w818DF",
        "outputId": "f4fcf4c3-bac2-4f78-af03-3d58d6755099",
        "colab": {
          "base_uri": "https://localhost:8080/",
          "height": 677
        }
      },
      "execution_count": 48,
      "outputs": [
        {
          "output_type": "execute_result",
          "data": {
            "text/plain": [
              "    cluster_no                                          sentences\n",
              "0            0  the effects disequilibrium vary according equa...\n",
              "1            0  the equation economic equilibrium disequilibri...\n",
              "2            0  in real flow household sector supplies raw mat...\n",
              "3            0  the watts family also strongly connected beale...\n",
              "4            0  in november gavin sullivan paul nicholas revea...\n",
              "5            0  the common method cantilever deflection measur...\n",
              "6            0  stm the first atomic microscope used stm compl...\n",
              "7            0  optical interferometry optical interferometry ...\n",
              "8            0  operation mode image forming afm generally cla...\n",
              "9            0          just like tool afm usefulness limitations\n",
              "10           0             the scanning speed afm also limitation\n",
              "11           0  problems technique include direct measurement ...\n",
              "12           0  the afm operated number modes depending applic...\n",
              "13           0  for imaging reaction probe forces sample impos...\n",
              "14           0  historically different operation method used s...\n",
              "15           0  the first commercially available atomic force ...\n",
              "16           0  afm scanners made piezoelectric material expan...\n",
              "17           0  scanners characterized sensitivity ratio piezo...\n",
              "18           0  located mollie next intersection two county ro...\n",
              "19           0  lorde identified issues class race age gender ..."
            ],
            "text/html": [
              "\n",
              "  <div id=\"df-fabe28c4-b641-4d49-a973-3f0079ec15f1\">\n",
              "    <div class=\"colab-df-container\">\n",
              "      <div>\n",
              "<style scoped>\n",
              "    .dataframe tbody tr th:only-of-type {\n",
              "        vertical-align: middle;\n",
              "    }\n",
              "\n",
              "    .dataframe tbody tr th {\n",
              "        vertical-align: top;\n",
              "    }\n",
              "\n",
              "    .dataframe thead th {\n",
              "        text-align: right;\n",
              "    }\n",
              "</style>\n",
              "<table border=\"1\" class=\"dataframe\">\n",
              "  <thead>\n",
              "    <tr style=\"text-align: right;\">\n",
              "      <th></th>\n",
              "      <th>cluster_no</th>\n",
              "      <th>sentences</th>\n",
              "    </tr>\n",
              "  </thead>\n",
              "  <tbody>\n",
              "    <tr>\n",
              "      <th>0</th>\n",
              "      <td>0</td>\n",
              "      <td>the effects disequilibrium vary according equa...</td>\n",
              "    </tr>\n",
              "    <tr>\n",
              "      <th>1</th>\n",
              "      <td>0</td>\n",
              "      <td>the equation economic equilibrium disequilibri...</td>\n",
              "    </tr>\n",
              "    <tr>\n",
              "      <th>2</th>\n",
              "      <td>0</td>\n",
              "      <td>in real flow household sector supplies raw mat...</td>\n",
              "    </tr>\n",
              "    <tr>\n",
              "      <th>3</th>\n",
              "      <td>0</td>\n",
              "      <td>the watts family also strongly connected beale...</td>\n",
              "    </tr>\n",
              "    <tr>\n",
              "      <th>4</th>\n",
              "      <td>0</td>\n",
              "      <td>in november gavin sullivan paul nicholas revea...</td>\n",
              "    </tr>\n",
              "    <tr>\n",
              "      <th>5</th>\n",
              "      <td>0</td>\n",
              "      <td>the common method cantilever deflection measur...</td>\n",
              "    </tr>\n",
              "    <tr>\n",
              "      <th>6</th>\n",
              "      <td>0</td>\n",
              "      <td>stm the first atomic microscope used stm compl...</td>\n",
              "    </tr>\n",
              "    <tr>\n",
              "      <th>7</th>\n",
              "      <td>0</td>\n",
              "      <td>optical interferometry optical interferometry ...</td>\n",
              "    </tr>\n",
              "    <tr>\n",
              "      <th>8</th>\n",
              "      <td>0</td>\n",
              "      <td>operation mode image forming afm generally cla...</td>\n",
              "    </tr>\n",
              "    <tr>\n",
              "      <th>9</th>\n",
              "      <td>0</td>\n",
              "      <td>just like tool afm usefulness limitations</td>\n",
              "    </tr>\n",
              "    <tr>\n",
              "      <th>10</th>\n",
              "      <td>0</td>\n",
              "      <td>the scanning speed afm also limitation</td>\n",
              "    </tr>\n",
              "    <tr>\n",
              "      <th>11</th>\n",
              "      <td>0</td>\n",
              "      <td>problems technique include direct measurement ...</td>\n",
              "    </tr>\n",
              "    <tr>\n",
              "      <th>12</th>\n",
              "      <td>0</td>\n",
              "      <td>the afm operated number modes depending applic...</td>\n",
              "    </tr>\n",
              "    <tr>\n",
              "      <th>13</th>\n",
              "      <td>0</td>\n",
              "      <td>for imaging reaction probe forces sample impos...</td>\n",
              "    </tr>\n",
              "    <tr>\n",
              "      <th>14</th>\n",
              "      <td>0</td>\n",
              "      <td>historically different operation method used s...</td>\n",
              "    </tr>\n",
              "    <tr>\n",
              "      <th>15</th>\n",
              "      <td>0</td>\n",
              "      <td>the first commercially available atomic force ...</td>\n",
              "    </tr>\n",
              "    <tr>\n",
              "      <th>16</th>\n",
              "      <td>0</td>\n",
              "      <td>afm scanners made piezoelectric material expan...</td>\n",
              "    </tr>\n",
              "    <tr>\n",
              "      <th>17</th>\n",
              "      <td>0</td>\n",
              "      <td>scanners characterized sensitivity ratio piezo...</td>\n",
              "    </tr>\n",
              "    <tr>\n",
              "      <th>18</th>\n",
              "      <td>0</td>\n",
              "      <td>located mollie next intersection two county ro...</td>\n",
              "    </tr>\n",
              "    <tr>\n",
              "      <th>19</th>\n",
              "      <td>0</td>\n",
              "      <td>lorde identified issues class race age gender ...</td>\n",
              "    </tr>\n",
              "  </tbody>\n",
              "</table>\n",
              "</div>\n",
              "      <button class=\"colab-df-convert\" onclick=\"convertToInteractive('df-fabe28c4-b641-4d49-a973-3f0079ec15f1')\"\n",
              "              title=\"Convert this dataframe to an interactive table.\"\n",
              "              style=\"display:none;\">\n",
              "        \n",
              "  <svg xmlns=\"http://www.w3.org/2000/svg\" height=\"24px\"viewBox=\"0 0 24 24\"\n",
              "       width=\"24px\">\n",
              "    <path d=\"M0 0h24v24H0V0z\" fill=\"none\"/>\n",
              "    <path d=\"M18.56 5.44l.94 2.06.94-2.06 2.06-.94-2.06-.94-.94-2.06-.94 2.06-2.06.94zm-11 1L8.5 8.5l.94-2.06 2.06-.94-2.06-.94L8.5 2.5l-.94 2.06-2.06.94zm10 10l.94 2.06.94-2.06 2.06-.94-2.06-.94-.94-2.06-.94 2.06-2.06.94z\"/><path d=\"M17.41 7.96l-1.37-1.37c-.4-.4-.92-.59-1.43-.59-.52 0-1.04.2-1.43.59L10.3 9.45l-7.72 7.72c-.78.78-.78 2.05 0 2.83L4 21.41c.39.39.9.59 1.41.59.51 0 1.02-.2 1.41-.59l7.78-7.78 2.81-2.81c.8-.78.8-2.07 0-2.86zM5.41 20L4 18.59l7.72-7.72 1.47 1.35L5.41 20z\"/>\n",
              "  </svg>\n",
              "      </button>\n",
              "      \n",
              "  <style>\n",
              "    .colab-df-container {\n",
              "      display:flex;\n",
              "      flex-wrap:wrap;\n",
              "      gap: 12px;\n",
              "    }\n",
              "\n",
              "    .colab-df-convert {\n",
              "      background-color: #E8F0FE;\n",
              "      border: none;\n",
              "      border-radius: 50%;\n",
              "      cursor: pointer;\n",
              "      display: none;\n",
              "      fill: #1967D2;\n",
              "      height: 32px;\n",
              "      padding: 0 0 0 0;\n",
              "      width: 32px;\n",
              "    }\n",
              "\n",
              "    .colab-df-convert:hover {\n",
              "      background-color: #E2EBFA;\n",
              "      box-shadow: 0px 1px 2px rgba(60, 64, 67, 0.3), 0px 1px 3px 1px rgba(60, 64, 67, 0.15);\n",
              "      fill: #174EA6;\n",
              "    }\n",
              "\n",
              "    [theme=dark] .colab-df-convert {\n",
              "      background-color: #3B4455;\n",
              "      fill: #D2E3FC;\n",
              "    }\n",
              "\n",
              "    [theme=dark] .colab-df-convert:hover {\n",
              "      background-color: #434B5C;\n",
              "      box-shadow: 0px 1px 3px 1px rgba(0, 0, 0, 0.15);\n",
              "      filter: drop-shadow(0px 1px 2px rgba(0, 0, 0, 0.3));\n",
              "      fill: #FFFFFF;\n",
              "    }\n",
              "  </style>\n",
              "\n",
              "      <script>\n",
              "        const buttonEl =\n",
              "          document.querySelector('#df-fabe28c4-b641-4d49-a973-3f0079ec15f1 button.colab-df-convert');\n",
              "        buttonEl.style.display =\n",
              "          google.colab.kernel.accessAllowed ? 'block' : 'none';\n",
              "\n",
              "        async function convertToInteractive(key) {\n",
              "          const element = document.querySelector('#df-fabe28c4-b641-4d49-a973-3f0079ec15f1');\n",
              "          const dataTable =\n",
              "            await google.colab.kernel.invokeFunction('convertToInteractive',\n",
              "                                                     [key], {});\n",
              "          if (!dataTable) return;\n",
              "\n",
              "          const docLinkHtml = 'Like what you see? Visit the ' +\n",
              "            '<a target=\"_blank\" href=https://colab.research.google.com/notebooks/data_table.ipynb>data table notebook</a>'\n",
              "            + ' to learn more about interactive tables.';\n",
              "          element.innerHTML = '';\n",
              "          dataTable['output_type'] = 'display_data';\n",
              "          await google.colab.output.renderOutput(dataTable, element);\n",
              "          const docLink = document.createElement('div');\n",
              "          docLink.innerHTML = docLinkHtml;\n",
              "          element.appendChild(docLink);\n",
              "        }\n",
              "      </script>\n",
              "    </div>\n",
              "  </div>\n",
              "  "
            ]
          },
          "metadata": {},
          "execution_count": 48
        }
      ]
    },
    {
      "cell_type": "code",
      "source": [
        "df.to_csv('cluster_using_word2vec_tfidf.csv')"
      ],
      "metadata": {
        "id": "fAEw0jId1_pR"
      },
      "execution_count": 50,
      "outputs": []
    }
  ]
}